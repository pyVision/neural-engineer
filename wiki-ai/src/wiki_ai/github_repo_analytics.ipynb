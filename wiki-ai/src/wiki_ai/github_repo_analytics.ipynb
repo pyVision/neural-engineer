{
 "cells": [
  {
   "cell_type": "markdown",
   "id": "d90d7a2a",
   "metadata": {},
   "source": [
    "GitHub stars and forks are valuable metrics for measuring a repository's popularity and adoption. Stars indicate interest or appreciation for a project, while forks represent developers who have copied the repository to potentially contribute or build upon it. Tracking these metrics over time can provide valuable insights into a project's growth trajectory and community engagement.\n",
    "\n",
    "In this blog post, we will look at how to create a tool for monitoring any public GitHub repository's growth by fetching, processing, and visualizing stars and forks data over time.\n",
    "\n",
    "## Why Track GitHub Repository Metrics?\n",
    "\n",
    "Before diving into the implementation, let's understand why tracking these metrics is important:\n",
    "\n",
    "1. **Project Health Assessment**: Steady growth in stars and forks often indicates a healthy, valuable open-source project.\n",
    "\n",
    "2. **Marketing Impact**: Spikes in engagement may correlate with marketing efforts, conference talks, or major releases.\n",
    "\n",
    "3. **Competitive Analysis**: Comparing multiple repositories in the same domain can reveal market trends and preferences.\n",
    "\n",
    "4. **Strategic Decision Making**: Understanding growth patterns can inform decisions about feature prioritization, release timing, and community outreach and whether we should adopt and use the open source\n",
    "project . \n",
    "\n",
    "## Implementation Overview\n",
    "\n",
    "Our implementation will follow these key steps:\n",
    "\n",
    "1. Authenticate with the GitHub API\n",
    "2. Fetch stars and forks data for specified repositories\n",
    "3. Process the timeline data\n",
    "4. Create interactive visualizations\n",
    "5. Identify key milestones in the repository's history\n",
    "\n",
    "Let's explore each step in detail."
   ]
  },
  {
   "cell_type": "markdown",
   "id": "f07fe1d3",
   "metadata": {},
   "source": [
    "## Required Libraries\n",
    "\n",
    "First, we need to install the required libraries. We'll use:\n",
    "- PyGithub: For interacting with the GitHub API\n",
    "- pandas: For data manipulation\n",
    "- plotly: For interactive visualizations\n",
    "- tqdm: For progress bars"
   ]
  },
  {
   "cell_type": "code",
   "execution_count": 2,
   "id": "72e8560f",
   "metadata": {},
   "outputs": [
    {
     "name": "stdout",
     "output_type": "stream",
     "text": [
      "Requirement already satisfied: PyGithub in /Users/pi/LL/.venv/lib/python3.13/site-packages (2.6.1)\n",
      "Requirement already satisfied: pandas in /Users/pi/LL/.venv/lib/python3.13/site-packages (2.2.3)\n",
      "Requirement already satisfied: plotly in /Users/pi/LL/.venv/lib/python3.13/site-packages (6.1.1)\n",
      "Requirement already satisfied: tqdm in /Users/pi/LL/.venv/lib/python3.13/site-packages (4.64.0)\n",
      "Requirement already satisfied: jupyter in /Users/pi/LL/.venv/lib/python3.13/site-packages (1.1.1)\n",
      "Requirement already satisfied: ipywidgets in /Users/pi/LL/.venv/lib/python3.13/site-packages (8.1.7)\n",
      "Requirement already satisfied: jupyterlab_widgets in /Users/pi/LL/.venv/lib/python3.13/site-packages (3.0.15)\n",
      "Requirement already satisfied: pynacl>=1.4.0 in /Users/pi/LL/.venv/lib/python3.13/site-packages (from PyGithub) (1.5.0)\n",
      "Requirement already satisfied: requests>=2.14.0 in /Users/pi/LL/.venv/lib/python3.13/site-packages (from PyGithub) (2.32.3)\n",
      "Requirement already satisfied: pyjwt>=2.4.0 in /Users/pi/LL/.venv/lib/python3.13/site-packages (from pyjwt[crypto]>=2.4.0->PyGithub) (2.10.1)\n",
      "Requirement already satisfied: typing-extensions>=4.0.0 in /Users/pi/LL/.venv/lib/python3.13/site-packages (from PyGithub) (4.13.2)\n",
      "Requirement already satisfied: urllib3>=1.26.0 in /Users/pi/LL/.venv/lib/python3.13/site-packages (from PyGithub) (2.4.0)\n",
      "Requirement already satisfied: Deprecated in /Users/pi/LL/.venv/lib/python3.13/site-packages (from PyGithub) (1.2.18)\n",
      "Requirement already satisfied: numpy>=1.26.0 in /Users/pi/LL/.venv/lib/python3.13/site-packages (from pandas) (2.2.5)\n",
      "Requirement already satisfied: python-dateutil>=2.8.2 in /Users/pi/LL/.venv/lib/python3.13/site-packages (from pandas) (2.9.0.post0)\n",
      "Requirement already satisfied: pytz>=2020.1 in /Users/pi/LL/.venv/lib/python3.13/site-packages (from pandas) (2025.2)\n",
      "Requirement already satisfied: tzdata>=2022.7 in /Users/pi/LL/.venv/lib/python3.13/site-packages (from pandas) (2025.2)\n",
      "Requirement already satisfied: narwhals>=1.15.1 in /Users/pi/LL/.venv/lib/python3.13/site-packages (from plotly) (1.40.0)\n",
      "Requirement already satisfied: packaging in /Users/pi/LL/.venv/lib/python3.13/site-packages (from plotly) (25.0)\n",
      "Requirement already satisfied: notebook in /Users/pi/LL/.venv/lib/python3.13/site-packages (from jupyter) (7.4.2)\n",
      "Requirement already satisfied: jupyter-console in /Users/pi/LL/.venv/lib/python3.13/site-packages (from jupyter) (6.6.3)\n",
      "Requirement already satisfied: nbconvert in /Users/pi/LL/.venv/lib/python3.13/site-packages (from jupyter) (7.16.6)\n",
      "Requirement already satisfied: ipykernel in /Users/pi/LL/.venv/lib/python3.13/site-packages (from jupyter) (6.29.5)\n",
      "Requirement already satisfied: jupyterlab in /Users/pi/LL/.venv/lib/python3.13/site-packages (from jupyter) (4.4.2)\n",
      "Requirement already satisfied: comm>=0.1.3 in /Users/pi/LL/.venv/lib/python3.13/site-packages (from ipywidgets) (0.2.2)\n",
      "Requirement already satisfied: ipython>=6.1.0 in /Users/pi/LL/.venv/lib/python3.13/site-packages (from ipywidgets) (9.2.0)\n",
      "Requirement already satisfied: traitlets>=4.3.1 in /Users/pi/LL/.venv/lib/python3.13/site-packages (from ipywidgets) (5.14.3)\n",
      "Requirement already satisfied: widgetsnbextension~=4.0.14 in /Users/pi/LL/.venv/lib/python3.13/site-packages (from ipywidgets) (4.0.14)\n",
      "Requirement already satisfied: decorator in /Users/pi/LL/.venv/lib/python3.13/site-packages (from ipython>=6.1.0->ipywidgets) (5.2.1)\n",
      "Requirement already satisfied: ipython-pygments-lexers in /Users/pi/LL/.venv/lib/python3.13/site-packages (from ipython>=6.1.0->ipywidgets) (1.1.1)\n",
      "Requirement already satisfied: jedi>=0.16 in /Users/pi/LL/.venv/lib/python3.13/site-packages (from ipython>=6.1.0->ipywidgets) (0.19.2)\n",
      "Requirement already satisfied: matplotlib-inline in /Users/pi/LL/.venv/lib/python3.13/site-packages (from ipython>=6.1.0->ipywidgets) (0.1.7)\n",
      "Requirement already satisfied: pexpect>4.3 in /Users/pi/LL/.venv/lib/python3.13/site-packages (from ipython>=6.1.0->ipywidgets) (4.9.0)\n",
      "Requirement already satisfied: prompt_toolkit<3.1.0,>=3.0.41 in /Users/pi/LL/.venv/lib/python3.13/site-packages (from ipython>=6.1.0->ipywidgets) (3.0.51)\n",
      "Requirement already satisfied: pygments>=2.4.0 in /Users/pi/LL/.venv/lib/python3.13/site-packages (from ipython>=6.1.0->ipywidgets) (2.19.1)\n",
      "Requirement already satisfied: stack_data in /Users/pi/LL/.venv/lib/python3.13/site-packages (from ipython>=6.1.0->ipywidgets) (0.6.3)\n",
      "Requirement already satisfied: wcwidth in /Users/pi/LL/.venv/lib/python3.13/site-packages (from prompt_toolkit<3.1.0,>=3.0.41->ipython>=6.1.0->ipywidgets) (0.2.13)\n",
      "Requirement already satisfied: parso<0.9.0,>=0.8.4 in /Users/pi/LL/.venv/lib/python3.13/site-packages (from jedi>=0.16->ipython>=6.1.0->ipywidgets) (0.8.4)\n",
      "Requirement already satisfied: ptyprocess>=0.5 in /Users/pi/LL/.venv/lib/python3.13/site-packages (from pexpect>4.3->ipython>=6.1.0->ipywidgets) (0.7.0)\n",
      "Requirement already satisfied: cryptography>=3.4.0 in /Users/pi/LL/.venv/lib/python3.13/site-packages (from pyjwt[crypto]>=2.4.0->PyGithub) (44.0.3)\n",
      "Requirement already satisfied: cffi>=1.12 in /Users/pi/LL/.venv/lib/python3.13/site-packages (from cryptography>=3.4.0->pyjwt[crypto]>=2.4.0->PyGithub) (1.17.1)\n",
      "Requirement already satisfied: pycparser in /Users/pi/LL/.venv/lib/python3.13/site-packages (from cffi>=1.12->cryptography>=3.4.0->pyjwt[crypto]>=2.4.0->PyGithub) (2.22)\n",
      "Requirement already satisfied: six>=1.5 in /Users/pi/LL/.venv/lib/python3.13/site-packages (from python-dateutil>=2.8.2->pandas) (1.17.0)\n",
      "Requirement already satisfied: charset-normalizer<4,>=2 in /Users/pi/LL/.venv/lib/python3.13/site-packages (from requests>=2.14.0->PyGithub) (3.4.2)\n",
      "Requirement already satisfied: idna<4,>=2.5 in /Users/pi/LL/.venv/lib/python3.13/site-packages (from requests>=2.14.0->PyGithub) (3.10)\n",
      "Requirement already satisfied: certifi>=2017.4.17 in /Users/pi/LL/.venv/lib/python3.13/site-packages (from requests>=2.14.0->PyGithub) (2025.4.26)\n",
      "Requirement already satisfied: wrapt<2,>=1.10 in /Users/pi/LL/.venv/lib/python3.13/site-packages (from Deprecated->PyGithub) (1.17.2)\n",
      "Requirement already satisfied: appnope in /Users/pi/LL/.venv/lib/python3.13/site-packages (from ipykernel->jupyter) (0.1.4)\n",
      "Requirement already satisfied: debugpy>=1.6.5 in /Users/pi/LL/.venv/lib/python3.13/site-packages (from ipykernel->jupyter) (1.8.14)\n",
      "Requirement already satisfied: jupyter-client>=6.1.12 in /Users/pi/LL/.venv/lib/python3.13/site-packages (from ipykernel->jupyter) (8.6.3)\n",
      "Requirement already satisfied: jupyter-core!=5.0.*,>=4.12 in /Users/pi/LL/.venv/lib/python3.13/site-packages (from ipykernel->jupyter) (5.7.2)\n",
      "Requirement already satisfied: nest-asyncio in /Users/pi/LL/.venv/lib/python3.13/site-packages (from ipykernel->jupyter) (1.6.0)\n",
      "Requirement already satisfied: psutil in /Users/pi/LL/.venv/lib/python3.13/site-packages (from ipykernel->jupyter) (7.0.0)\n",
      "Requirement already satisfied: pyzmq>=24 in /Users/pi/LL/.venv/lib/python3.13/site-packages (from ipykernel->jupyter) (26.4.0)\n",
      "Requirement already satisfied: tornado>=6.1 in /Users/pi/LL/.venv/lib/python3.13/site-packages (from ipykernel->jupyter) (6.4.2)\n",
      "Requirement already satisfied: platformdirs>=2.5 in /Users/pi/LL/.venv/lib/python3.13/site-packages (from jupyter-core!=5.0.*,>=4.12->ipykernel->jupyter) (4.3.7)\n",
      "Requirement already satisfied: async-lru>=1.0.0 in /Users/pi/LL/.venv/lib/python3.13/site-packages (from jupyterlab->jupyter) (2.0.5)\n",
      "Requirement already satisfied: httpx>=0.25.0 in /Users/pi/LL/.venv/lib/python3.13/site-packages (from jupyterlab->jupyter) (0.28.1)\n",
      "Requirement already satisfied: jinja2>=3.0.3 in /Users/pi/LL/.venv/lib/python3.13/site-packages (from jupyterlab->jupyter) (3.1.6)\n",
      "Requirement already satisfied: jupyter-lsp>=2.0.0 in /Users/pi/LL/.venv/lib/python3.13/site-packages (from jupyterlab->jupyter) (2.2.5)\n",
      "Requirement already satisfied: jupyter-server<3,>=2.4.0 in /Users/pi/LL/.venv/lib/python3.13/site-packages (from jupyterlab->jupyter) (2.16.0)\n",
      "Requirement already satisfied: jupyterlab-server<3,>=2.27.1 in /Users/pi/LL/.venv/lib/python3.13/site-packages (from jupyterlab->jupyter) (2.27.3)\n",
      "Requirement already satisfied: notebook-shim>=0.2 in /Users/pi/LL/.venv/lib/python3.13/site-packages (from jupyterlab->jupyter) (0.2.4)\n",
      "Requirement already satisfied: setuptools>=41.1.0 in /Users/pi/LL/.venv/lib/python3.13/site-packages (from jupyterlab->jupyter) (80.3.1)\n",
      "Requirement already satisfied: anyio>=3.1.0 in /Users/pi/LL/.venv/lib/python3.13/site-packages (from jupyter-server<3,>=2.4.0->jupyterlab->jupyter) (4.9.0)\n",
      "Requirement already satisfied: argon2-cffi>=21.1 in /Users/pi/LL/.venv/lib/python3.13/site-packages (from jupyter-server<3,>=2.4.0->jupyterlab->jupyter) (23.1.0)\n",
      "Requirement already satisfied: jupyter-events>=0.11.0 in /Users/pi/LL/.venv/lib/python3.13/site-packages (from jupyter-server<3,>=2.4.0->jupyterlab->jupyter) (0.12.0)\n",
      "Requirement already satisfied: jupyter-server-terminals>=0.4.4 in /Users/pi/LL/.venv/lib/python3.13/site-packages (from jupyter-server<3,>=2.4.0->jupyterlab->jupyter) (0.5.3)\n",
      "Requirement already satisfied: nbformat>=5.3.0 in /Users/pi/LL/.venv/lib/python3.13/site-packages (from jupyter-server<3,>=2.4.0->jupyterlab->jupyter) (5.10.4)\n",
      "Requirement already satisfied: overrides>=5.0 in /Users/pi/LL/.venv/lib/python3.13/site-packages (from jupyter-server<3,>=2.4.0->jupyterlab->jupyter) (7.7.0)\n",
      "Requirement already satisfied: prometheus-client>=0.9 in /Users/pi/LL/.venv/lib/python3.13/site-packages (from jupyter-server<3,>=2.4.0->jupyterlab->jupyter) (0.22.0)\n",
      "Requirement already satisfied: send2trash>=1.8.2 in /Users/pi/LL/.venv/lib/python3.13/site-packages (from jupyter-server<3,>=2.4.0->jupyterlab->jupyter) (1.8.3)\n",
      "Requirement already satisfied: terminado>=0.8.3 in /Users/pi/LL/.venv/lib/python3.13/site-packages (from jupyter-server<3,>=2.4.0->jupyterlab->jupyter) (0.18.1)\n",
      "Requirement already satisfied: websocket-client>=1.7 in /Users/pi/LL/.venv/lib/python3.13/site-packages (from jupyter-server<3,>=2.4.0->jupyterlab->jupyter) (1.8.0)\n",
      "Requirement already satisfied: babel>=2.10 in /Users/pi/LL/.venv/lib/python3.13/site-packages (from jupyterlab-server<3,>=2.27.1->jupyterlab->jupyter) (2.17.0)\n",
      "Requirement already satisfied: json5>=0.9.0 in /Users/pi/LL/.venv/lib/python3.13/site-packages (from jupyterlab-server<3,>=2.27.1->jupyterlab->jupyter) (0.12.0)\n",
      "Requirement already satisfied: jsonschema>=4.18.0 in /Users/pi/LL/.venv/lib/python3.13/site-packages (from jupyterlab-server<3,>=2.27.1->jupyterlab->jupyter) (4.23.0)\n",
      "Requirement already satisfied: sniffio>=1.1 in /Users/pi/LL/.venv/lib/python3.13/site-packages (from anyio>=3.1.0->jupyter-server<3,>=2.4.0->jupyterlab->jupyter) (1.3.1)\n",
      "Requirement already satisfied: argon2-cffi-bindings in /Users/pi/LL/.venv/lib/python3.13/site-packages (from argon2-cffi>=21.1->jupyter-server<3,>=2.4.0->jupyterlab->jupyter) (21.2.0)\n",
      "Requirement already satisfied: httpcore==1.* in /Users/pi/LL/.venv/lib/python3.13/site-packages (from httpx>=0.25.0->jupyterlab->jupyter) (1.0.9)\n",
      "Requirement already satisfied: h11>=0.16 in /Users/pi/LL/.venv/lib/python3.13/site-packages (from httpcore==1.*->httpx>=0.25.0->jupyterlab->jupyter) (0.16.0)\n",
      "Requirement already satisfied: MarkupSafe>=2.0 in /Users/pi/LL/.venv/lib/python3.13/site-packages (from jinja2>=3.0.3->jupyterlab->jupyter) (3.0.2)\n",
      "Requirement already satisfied: attrs>=22.2.0 in /Users/pi/LL/.venv/lib/python3.13/site-packages (from jsonschema>=4.18.0->jupyterlab-server<3,>=2.27.1->jupyterlab->jupyter) (25.3.0)\n",
      "Requirement already satisfied: jsonschema-specifications>=2023.03.6 in /Users/pi/LL/.venv/lib/python3.13/site-packages (from jsonschema>=4.18.0->jupyterlab-server<3,>=2.27.1->jupyterlab->jupyter) (2025.4.1)\n",
      "Requirement already satisfied: referencing>=0.28.4 in /Users/pi/LL/.venv/lib/python3.13/site-packages (from jsonschema>=4.18.0->jupyterlab-server<3,>=2.27.1->jupyterlab->jupyter) (0.36.2)\n",
      "Requirement already satisfied: rpds-py>=0.7.1 in /Users/pi/LL/.venv/lib/python3.13/site-packages (from jsonschema>=4.18.0->jupyterlab-server<3,>=2.27.1->jupyterlab->jupyter) (0.25.1)\n",
      "Requirement already satisfied: python-json-logger>=2.0.4 in /Users/pi/LL/.venv/lib/python3.13/site-packages (from jupyter-events>=0.11.0->jupyter-server<3,>=2.4.0->jupyterlab->jupyter) (3.3.0)\n",
      "Requirement already satisfied: pyyaml>=5.3 in /Users/pi/LL/.venv/lib/python3.13/site-packages (from jupyter-events>=0.11.0->jupyter-server<3,>=2.4.0->jupyterlab->jupyter) (6.0.2)\n",
      "Requirement already satisfied: rfc3339-validator in /Users/pi/LL/.venv/lib/python3.13/site-packages (from jupyter-events>=0.11.0->jupyter-server<3,>=2.4.0->jupyterlab->jupyter) (0.1.4)\n",
      "Requirement already satisfied: rfc3986-validator>=0.1.1 in /Users/pi/LL/.venv/lib/python3.13/site-packages (from jupyter-events>=0.11.0->jupyter-server<3,>=2.4.0->jupyterlab->jupyter) (0.1.1)\n",
      "Requirement already satisfied: fqdn in /Users/pi/LL/.venv/lib/python3.13/site-packages (from jsonschema[format-nongpl]>=4.18.0->jupyter-events>=0.11.0->jupyter-server<3,>=2.4.0->jupyterlab->jupyter) (1.5.1)\n",
      "Requirement already satisfied: isoduration in /Users/pi/LL/.venv/lib/python3.13/site-packages (from jsonschema[format-nongpl]>=4.18.0->jupyter-events>=0.11.0->jupyter-server<3,>=2.4.0->jupyterlab->jupyter) (20.11.0)\n",
      "Requirement already satisfied: jsonpointer>1.13 in /Users/pi/LL/.venv/lib/python3.13/site-packages (from jsonschema[format-nongpl]>=4.18.0->jupyter-events>=0.11.0->jupyter-server<3,>=2.4.0->jupyterlab->jupyter) (3.0.0)\n",
      "Requirement already satisfied: uri-template in /Users/pi/LL/.venv/lib/python3.13/site-packages (from jsonschema[format-nongpl]>=4.18.0->jupyter-events>=0.11.0->jupyter-server<3,>=2.4.0->jupyterlab->jupyter) (1.3.0)\n",
      "Requirement already satisfied: webcolors>=24.6.0 in /Users/pi/LL/.venv/lib/python3.13/site-packages (from jsonschema[format-nongpl]>=4.18.0->jupyter-events>=0.11.0->jupyter-server<3,>=2.4.0->jupyterlab->jupyter) (24.11.1)\n",
      "Requirement already satisfied: beautifulsoup4 in /Users/pi/LL/.venv/lib/python3.13/site-packages (from nbconvert->jupyter) (4.13.4)\n",
      "Requirement already satisfied: bleach!=5.0.0 in /Users/pi/LL/.venv/lib/python3.13/site-packages (from bleach[css]!=5.0.0->nbconvert->jupyter) (6.2.0)\n",
      "Requirement already satisfied: defusedxml in /Users/pi/LL/.venv/lib/python3.13/site-packages (from nbconvert->jupyter) (0.7.1)\n",
      "Requirement already satisfied: jupyterlab-pygments in /Users/pi/LL/.venv/lib/python3.13/site-packages (from nbconvert->jupyter) (0.3.0)\n",
      "Requirement already satisfied: mistune<4,>=2.0.3 in /Users/pi/LL/.venv/lib/python3.13/site-packages (from nbconvert->jupyter) (3.1.3)\n",
      "Requirement already satisfied: nbclient>=0.5.0 in /Users/pi/LL/.venv/lib/python3.13/site-packages (from nbconvert->jupyter) (0.10.2)\n",
      "Requirement already satisfied: pandocfilters>=1.4.1 in /Users/pi/LL/.venv/lib/python3.13/site-packages (from nbconvert->jupyter) (1.5.1)\n",
      "Requirement already satisfied: webencodings in /Users/pi/LL/.venv/lib/python3.13/site-packages (from bleach!=5.0.0->bleach[css]!=5.0.0->nbconvert->jupyter) (0.5.1)\n",
      "Requirement already satisfied: tinycss2<1.5,>=1.1.0 in /Users/pi/LL/.venv/lib/python3.13/site-packages (from bleach[css]!=5.0.0->nbconvert->jupyter) (1.4.0)\n",
      "Requirement already satisfied: fastjsonschema>=2.15 in /Users/pi/LL/.venv/lib/python3.13/site-packages (from nbformat>=5.3.0->jupyter-server<3,>=2.4.0->jupyterlab->jupyter) (2.21.1)\n",
      "Requirement already satisfied: soupsieve>1.2 in /Users/pi/LL/.venv/lib/python3.13/site-packages (from beautifulsoup4->nbconvert->jupyter) (2.7)\n",
      "Requirement already satisfied: arrow>=0.15.0 in /Users/pi/LL/.venv/lib/python3.13/site-packages (from isoduration->jsonschema[format-nongpl]>=4.18.0->jupyter-events>=0.11.0->jupyter-server<3,>=2.4.0->jupyterlab->jupyter) (1.3.0)\n",
      "Requirement already satisfied: types-python-dateutil>=2.8.10 in /Users/pi/LL/.venv/lib/python3.13/site-packages (from arrow>=0.15.0->isoduration->jsonschema[format-nongpl]>=4.18.0->jupyter-events>=0.11.0->jupyter-server<3,>=2.4.0->jupyterlab->jupyter) (2.9.0.20250516)\n",
      "Requirement already satisfied: executing>=1.2.0 in /Users/pi/LL/.venv/lib/python3.13/site-packages (from stack_data->ipython>=6.1.0->ipywidgets) (2.2.0)\n",
      "Requirement already satisfied: asttokens>=2.1.0 in /Users/pi/LL/.venv/lib/python3.13/site-packages (from stack_data->ipython>=6.1.0->ipywidgets) (3.0.0)\n",
      "Requirement already satisfied: pure-eval in /Users/pi/LL/.venv/lib/python3.13/site-packages (from stack_data->ipython>=6.1.0->ipywidgets) (0.2.3)\n"
     ]
    }
   ],
   "source": [
    "# Install required packages\n",
    "!pip install PyGithub pandas plotly tqdm jupyter ipywidgets jupyterlab_widgets"
   ]
  },
  {
   "cell_type": "markdown",
   "id": "3a719e78",
   "metadata": {},
   "source": [
    "## Setting Up GitHub Authentication\n",
    "\n",
    "To use the GitHub API, we need to authenticate. We'll use a personal access token, which you can create in your GitHub account settings.\n",
    "\n",
    "**Note**: Keep your token secure and never commit it to version control. For this notebook, we'll use environment variables or prompt for input.\n",
    "\n"
   ]
  },
  {
   "cell_type": "code",
   "execution_count": 5,
   "id": "b59edcad",
   "metadata": {},
   "outputs": [],
   "source": [
    "import os\n",
    "import getpass\n",
    "from github import Github\n",
    "import pandas as pd\n",
    "import numpy as np\n",
    "import plotly.express as px\n",
    "import plotly.graph_objects as go\n",
    "from tqdm.notebook import tqdm\n",
    "from datetime import datetime, timedelta\n",
    "\n",
    "# Get token from environment variable or prompt\n",
    "github_token = os.environ.get('GITHUB_TOKEN') or getpass.getpass('Enter your GitHub token: ')\n",
    "\n",
    "# Initialize GitHub client\n",
    "g = Github(github_token)"
   ]
  },
  {
   "cell_type": "markdown",
   "id": "c9a71b52",
   "metadata": {},
   "source": [
    "## Fetching Repository Data\n",
    "\n",
    "Now, let's create a function to fetch data for a specific repository. We'll need to:\n",
    "\n",
    "1. Find the repository by name\n",
    "2. Get the stargazers (people who have starred the repo)\n",
    "3. Get the forks\n",
    "4. Organize the data by date"
   ]
  },
  {
   "cell_type": "code",
   "execution_count": 6,
   "id": "4d84adc5",
   "metadata": {},
   "outputs": [],
   "source": [
    "def fetch_repo_data(repo_name):\n",
    "    \"\"\"\n",
    "    Fetch stars and forks data for a given repository.\n",
    "    \n",
    "    Parameters:\n",
    "    -----------\n",
    "    repo_name : str\n",
    "        Repository name in format \"owner/repo\" (e.g., \"facebook/react\")\n",
    "        \n",
    "    Returns:\n",
    "    --------\n",
    "    tuple\n",
    "        Pandas DataFrames containing stars and forks data\n",
    "    \"\"\"\n",
    "    print(f\"Fetching data for repository: {repo_name}\")\n",
    "    \n",
    "    try:\n",
    "        # Get repository\n",
    "        repo = g.get_repo(repo_name)\n",
    "        \n",
    "        # Get basic repository info\n",
    "        print(f\"Repository: {repo.full_name}\")\n",
    "        print(f\"Description: {repo.description}\")\n",
    "        print(f\"Stars: {repo.stargazers_count}\")\n",
    "        print(f\"Forks: {repo.forks_count}\")\n",
    "        \n",
    "        # Fetch stargazers with timestamps (if repo has many stars, this can take time)\n",
    "        print(\"\\nFetching stargazers timeline...\")\n",
    "        stars_data = []\n",
    "        \n",
    "\n",
    "        stars_paginated=repo.get_stargazers_with_dates()\n",
    "\n",
    "        # Use with_dates=True to get timestamps\n",
    "        # Use tqdm for a progress bar\n",
    "        # Fetch stargazers with timestamps\n",
    "        try:\n",
    "            stars_paginated = repo.get_stargazers_with_dates()\n",
    "\n",
    "\n",
    "            for star in tqdm(list(stars_paginated), desc=\"Fetching stars\"):\n",
    "                stars_data.append({\n",
    "                    'user': star.user.login,\n",
    "                    'starred_at': star.starred_at\n",
    "                })\n",
    "        except Exception as star_error:\n",
    "            import traceback\n",
    "            traceback.print_exc()\n",
    "            print(f\"Error fetching stargazers: {star_error}\")\n",
    "            # If we can't get stargazers with dates, try to get basic stargazers info\n",
    "            if len(stars_data) == 0:\n",
    "                print(\"Attempting to fetch basic stargazer information...\")\n",
    "                current_time = datetime.now()\n",
    "                for star in tqdm(list(repo.get_stargazers()), desc=\"Fetching stars\"):\n",
    "                    stars_data.append({\n",
    "                    'user': star.login,\n",
    "                    'starred_at': current_time  # Placeholder timestamp\n",
    "                    })\n",
    "                print(\"Note: Timestamps not available, using current time as placeholder\")\n",
    "\n",
    "        \n",
    "        \n",
    "        # Fetch forks (unfortunately direct timestamps aren't available through the API)\n",
    "        # We'll use creation date as a proxy\n",
    "        print(\"\\nFetching forks timeline...\")\n",
    "        forks_data = []\n",
    "        \n",
    "        for fork in tqdm(list(repo.get_forks()), \n",
    "                         desc=\"Fetching forks\"):\n",
    "            forks_data.append({\n",
    "                'user': fork.owner.login,\n",
    "                'forked_at': fork.created_at\n",
    "            })\n",
    "        \n",
    "        # Convert to DataFrames\n",
    "        stars_df = pd.DataFrame(stars_data)\n",
    "        forks_df = pd.DataFrame(forks_data)\n",
    "        \n",
    "        return stars_df, forks_df\n",
    "    \n",
    "    except Exception as e:\n",
    "        print(f\"Error fetching repository data: {e}\")\n",
    "        return None, None"
   ]
  },
  {
   "cell_type": "code",
   "execution_count": 7,
   "id": "0593780e",
   "metadata": {},
   "outputs": [
    {
     "name": "stdout",
     "output_type": "stream",
     "text": [
      "Fetching data for repository: Neoteroi/BlackSheep\n",
      "Repository: Neoteroi/BlackSheep\n",
      "Description: Fast ASGI web framework for Python\n",
      "Stars: 2161\n",
      "Forks: 82\n",
      "\n",
      "Fetching stargazers timeline...\n"
     ]
    },
    {
     "data": {
      "application/json": {
       "ascii": false,
       "bar_format": null,
       "colour": null,
       "elapsed": 0.008405685424804688,
       "initial": 0,
       "n": 0,
       "ncols": null,
       "nrows": null,
       "postfix": null,
       "prefix": "Fetching stars",
       "rate": null,
       "total": 2161,
       "unit": "it",
       "unit_divisor": 1000,
       "unit_scale": false
      },
      "application/vnd.jupyter.widget-view+json": {
       "model_id": "d0e28627a6dc4896be5e1e488c43cc4a",
       "version_major": 2,
       "version_minor": 0
      },
      "text/plain": [
       "Fetching stars:   0%|          | 0/2161 [00:00<?, ?it/s]"
      ]
     },
     "metadata": {},
     "output_type": "display_data"
    },
    {
     "name": "stdout",
     "output_type": "stream",
     "text": [
      "\n",
      "Fetching forks timeline...\n"
     ]
    },
    {
     "data": {
      "application/json": {
       "ascii": false,
       "bar_format": null,
       "colour": null,
       "elapsed": 0.004698276519775391,
       "initial": 0,
       "n": 0,
       "ncols": null,
       "nrows": null,
       "postfix": null,
       "prefix": "Fetching forks",
       "rate": null,
       "total": 83,
       "unit": "it",
       "unit_divisor": 1000,
       "unit_scale": false
      },
      "application/vnd.jupyter.widget-view+json": {
       "model_id": "86774291ed5e4951b3f0dc5e04a9f119",
       "version_major": 2,
       "version_minor": 0
      },
      "text/plain": [
       "Fetching forks:   0%|          | 0/83 [00:00<?, ?it/s]"
      ]
     },
     "metadata": {},
     "output_type": "display_data"
    },
    {
     "name": "stdout",
     "output_type": "stream",
     "text": [
      "Stars data: 2161 records\n",
      "Forks data: 83 records\n",
      "\n",
      "Stars DataFrame Preview:\n",
      "         user                starred_at\n",
      "0  headsrooms 2018-12-20 09:30:23+00:00\n",
      "1       trbck 2019-01-03 20:34:14+00:00\n",
      "2        1st1 2019-02-19 14:05:11+00:00\n",
      "3  khasanovbi 2019-02-19 14:10:36+00:00\n",
      "4  hellysmile 2019-02-19 15:58:59+00:00\n",
      "\n",
      "Forks DataFrame Preview:\n",
      "           user                 forked_at\n",
      "0      cve-zh00 2025-04-29 12:58:47+00:00\n",
      "1  arthurbrenno 2025-03-28 10:46:15+00:00\n",
      "2      stollero 2025-01-30 07:26:48+00:00\n",
      "3      mbrukman 2024-12-18 23:22:09+00:00\n",
      "4    waketzheng 2024-12-14 05:41:58+00:00\n"
     ]
    }
   ],
   "source": [
    "name=\"Neoteroi/BlackSheep\"\n",
    "stars_df, forks_df=fetch_repo_data(name)\n",
    "\n",
    "print(f\"Stars data: {len(stars_df)} records\")\n",
    "print(f\"Forks data: {len(forks_df)} records\")\n",
    "print(\"\\nStars DataFrame Preview:\")\n",
    "print(stars_df.head())\n",
    "print(\"\\nForks DataFrame Preview:\")\n",
    "print(forks_df.head())\n",
    "\n"
   ]
  },
  {
   "cell_type": "markdown",
   "id": "1d038375",
   "metadata": {},
   "source": [
    "## Processing Timeline Data\n",
    "\n",
    "Once we have the raw data, we need to process it to create a timeline view. Let's create functions to:\n",
    "\n",
    "1. Group stars and forks by day/week/month\n",
    "2. Calculate cumulative counts\n",
    "3. Create a unified timeline dataframe"
   ]
  },
  {
   "cell_type": "code",
   "execution_count": 10,
   "id": "41dab99c",
   "metadata": {},
   "outputs": [],
   "source": [
    "def process_timeline_data(stars_df, forks_df, freq='D'):\n",
    "    \"\"\"\n",
    "    Process the stars and forks data to create timeline dataset.\n",
    "    \n",
    "    Parameters:\n",
    "    -----------\n",
    "    stars_df : pandas.DataFrame\n",
    "        DataFrame containing stars data\n",
    "    forks_df : pandas.DataFrame\n",
    "        DataFrame containing forks data\n",
    "    freq : str\n",
    "        Frequency for grouping ('D' for daily, 'W' for weekly, 'M' for monthly)\n",
    "        \n",
    "    Returns:\n",
    "    --------\n",
    "    pandas.DataFrame\n",
    "        DataFrame with timeline data\n",
    "    \"\"\"\n",
    "    if stars_df is None or forks_df is None or stars_df.empty or forks_df.empty:\n",
    "        print(\"No data available to process\")\n",
    "        return None\n",
    "    \n",
    "    # Ensure datetime format\n",
    "    if not pd.api.types.is_datetime64_dtype(stars_df['starred_at']):\n",
    "        stars_df['starred_at'] = pd.to_datetime(stars_df['starred_at'])\n",
    "    \n",
    "    if not pd.api.types.is_datetime64_dtype(forks_df['forked_at']):\n",
    "        forks_df['forked_at'] = pd.to_datetime(forks_df['forked_at'])\n",
    "    \n",
    "    # Group by date with specified frequency\n",
    "    #print(stars_df['starred_at'].head())\n",
    "\n",
    "\n",
    "    stars_count = stars_df.groupby(pd.Grouper(key='starred_at', freq=freq)).size()\n",
    "    forks_count = forks_df.groupby(pd.Grouper(key='forked_at', freq=freq)).size()\n",
    "    \n",
    "    #print(f\"Stars count: {stars_count}\")\n",
    "    #print(f\"Forks count: {forks_count}\")\n",
    "    \n",
    "    min1=min(stars_count.index)\n",
    "    # Create a complete date range\n",
    "    start_date = min(stars_count.index.min(), forks_count.index.min())\n",
    "    print(f\"Start date: {start_date} {stars_df['starred_at'].min()} {forks_df['forked_at'].min()}\")\n",
    "    end_date = max(stars_count.index.max(), forks_count.index.max())\n",
    "    \n",
    "\n",
    "    \n",
    "    date_range = pd.date_range(start=start_date, end=end_date, freq=freq)\n",
    "    \n",
    "    print(f\"Date range: {start_date} to {end_date}\")\n",
    "\n",
    "    # Create timeline dataframe\n",
    "    timeline_df = pd.DataFrame(index=date_range)\n",
    "    timeline_df.index.name = 'date'\n",
    "    \n",
    "    # Add daily counts\n",
    "    timeline_df['new_stars'] = stars_count\n",
    "    timeline_df['new_forks'] = forks_count\n",
    "\n",
    "    #print(f\"Timeline DataFrame (before fillna):\\n{timeline_df.head()}\")\n",
    "    \n",
    "    # Fill NaN values with 0\n",
    "    timeline_df.fillna(0, inplace=True)\n",
    "\n",
    "    #print(f\"Timeline DataFrame:\\n{timeline_df.head()}\")\n",
    "    \n",
    "    # Calculate cumulative counts\n",
    "    timeline_df['total_stars'] = timeline_df['new_stars'].cumsum()\n",
    "    timeline_df['total_forks'] = timeline_df['new_forks'].cumsum()\n",
    "    \n",
    "    # Reset index to make date a column\n",
    "    timeline_df = timeline_df.reset_index()\n",
    "    \n",
    "    return timeline_df"
   ]
  },
  {
   "cell_type": "code",
   "execution_count": 11,
   "id": "36badec0",
   "metadata": {},
   "outputs": [
    {
     "name": "stdout",
     "output_type": "stream",
     "text": [
      "Start date: 2018-12-31 00:00:00+00:00 2018-12-20 09:30:23+00:00 2019-02-19 20:11:32+00:00\n",
      "Date range: 2018-12-31 00:00:00+00:00 to 2025-05-31 00:00:00+00:00\n",
      "\n",
      "Timeline DataFrame Preview:\n",
      "                       date  new_stars  new_forks  total_stars  total_forks\n",
      "0 2018-12-31 00:00:00+00:00          1        0.0            1          0.0\n",
      "1 2019-01-31 00:00:00+00:00          1        0.0            2          0.0\n",
      "2 2019-02-28 00:00:00+00:00         23        1.0           25          1.0\n",
      "3 2019-03-31 00:00:00+00:00          2        0.0           27          1.0\n",
      "4 2019-04-30 00:00:00+00:00         80        0.0          107          1.0\n",
      "Timeline DataFrame Length: 78 records\n",
      "\n",
      "Summary Statistics:\n",
      "Date range: 2018-12-31 00:00:00+00:00 to 2025-05-31 00:00:00+00:00\n",
      "Total stars accumulated: 2161\n",
      "Total forks accumulated: 83.0\n",
      "Average new stars per month: 27.71\n",
      "Average new forks per month: 1.06\n"
     ]
    },
    {
     "name": "stderr",
     "output_type": "stream",
     "text": [
      "/var/folders/wy/xyg009356vlb9p2k691ggv780000gp/T/ipykernel_72949/2862541972.py:34: FutureWarning: 'M' is deprecated and will be removed in a future version, please use 'ME' instead.\n",
      "  stars_count = stars_df.groupby(pd.Grouper(key='starred_at', freq=freq)).size()\n",
      "/var/folders/wy/xyg009356vlb9p2k691ggv780000gp/T/ipykernel_72949/2862541972.py:35: FutureWarning: 'M' is deprecated and will be removed in a future version, please use 'ME' instead.\n",
      "  forks_count = forks_df.groupby(pd.Grouper(key='forked_at', freq=freq)).size()\n",
      "/var/folders/wy/xyg009356vlb9p2k691ggv780000gp/T/ipykernel_72949/2862541972.py:48: FutureWarning: 'M' is deprecated and will be removed in a future version, please use 'ME' instead.\n",
      "  date_range = pd.date_range(start=start_date, end=end_date, freq=freq)\n"
     ]
    }
   ],
   "source": [
    "# Process the timeline data\n",
    "# Using 'ME' frequency which is month end - this groups data by calendar months\n",
    "timeline_df = process_timeline_data(stars_df, forks_df, freq='M')\n",
    "\n",
    "# Display a preview of the processed timeline data\n",
    "print(\"\\nTimeline DataFrame Preview:\")\n",
    "print(timeline_df.head())\n",
    "print(f\"Timeline DataFrame Length: {len(timeline_df)} records\")\n",
    "\n",
    "# Show summary statistics for better understanding of the data\n",
    "print(\"\\nSummary Statistics:\")\n",
    "print(f\"Date range: {timeline_df['date'].min()} to {timeline_df['date'].max()}\")\n",
    "print(f\"Total stars accumulated: {timeline_df['total_stars'].max()}\")\n",
    "print(f\"Total forks accumulated: {timeline_df['total_forks'].max()}\")\n",
    "print(f\"Average new stars per month: {timeline_df['new_stars'].mean():.2f}\")\n",
    "print(f\"Average new forks per month: {timeline_df['new_forks'].mean():.2f}\")\n"
   ]
  },
  {
   "cell_type": "markdown",
   "id": "100445e9",
   "metadata": {},
   "source": [
    "## Visualizing the Data\n",
    "\n",
    "Now that we have processed the timeline data, let's create visualizations to better understand the growth patterns. We'll use Plotly to create interactive charts.\n",
    "\n",
    "For visualizations, we'll use Plotly, which creates interactive charts perfect for exploring time-series data:"
   ]
  },
  {
   "cell_type": "code",
   "execution_count": null,
   "id": "7d32f347",
   "metadata": {},
   "outputs": [],
   "source": [
    "    def plot_timeline(timeline_df, repo_name):\n",
    "        \"\"\"\n",
    "        Create visualizations for the repository growth timeline.\n",
    "        \n",
    "        Parameters:\n",
    "        -----------\n",
    "        timeline_df : pandas.DataFrame\n",
    "            DataFrame containing timeline data\n",
    "        repo_name : str\n",
    "            Name of the repository\n",
    "        \"\"\"\n",
    "        if timeline_df is None or timeline_df.empty:\n",
    "            print(\"No data available to plot\")\n",
    "            return\n",
    "        \n",
    "        # Plot 1: Cumulative growth\n",
    "        fig1 = go.Figure()\n",
    "        \n",
    "        fig1.add_trace(go.Scatter(\n",
    "            x=timeline_df['date'],\n",
    "            y=timeline_df['total_stars'],\n",
    "            mode='lines',\n",
    "            name='Stars',\n",
    "            line=dict(color='gold', width=3)\n",
    "        ))\n",
    "        \n",
    "        fig1.add_trace(go.Scatter(\n",
    "            x=timeline_df['date'],\n",
    "            y=timeline_df['total_forks'],\n",
    "            mode='lines',\n",
    "            name='Forks',\n",
    "            line=dict(color='blue', width=3)\n",
    "        ))\n",
    "        \n",
    "        fig1.update_layout(\n",
    "            title=f'{repo_name} - Cumulative Stars and Forks Over Time',\n",
    "            xaxis_title='Date',\n",
    "            yaxis_title='Count',\n",
    "            legend_title='Metric',\n",
    "            template='plotly_white',\n",
    "            height=600\n",
    "        )\n",
    "        \n",
    "        fig1.show()\n",
    "        \n",
    "        # Plot 2: New stars and forks per period\n",
    "        fig2 = go.Figure()\n",
    "        \n",
    "        fig2.add_trace(go.Bar(\n",
    "            x=timeline_df['date'],\n",
    "            y=timeline_df['new_stars'],\n",
    "            name='New Stars',\n",
    "            marker_color='gold'\n",
    "        ))\n",
    "        \n",
    "        fig2.add_trace(go.Bar(\n",
    "            x=timeline_df['date'],\n",
    "            y=timeline_df['new_forks'],\n",
    "            name='New Forks',\n",
    "            marker_color='blue'\n",
    "        ))\n",
    "        \n",
    "        fig2.update_layout(\n",
    "            title=f'{repo_name} - New Stars and Forks Over Time',\n",
    "            xaxis_title='Date',\n",
    "            yaxis_title='Count',\n",
    "            barmode='group',\n",
    "            legend_title='Metric',\n",
    "            template='plotly_white',\n",
    "            height=600\n",
    "        )\n",
    "        \n",
    "        fig2.show()\n",
    "        \n",
    "        # Plot 3: Growth rate - rolling average\n",
    "        window_size = 30  # 30-day window for smoother trend\n",
    "        timeline_df['stars_growth_rate'] = timeline_df['new_stars'].rolling(window=window_size).mean()\n",
    "        timeline_df['forks_growth_rate'] = timeline_df['new_forks'].rolling(window=window_size).mean()\n",
    "        \n",
    "        fig3 = go.Figure()\n",
    "        \n",
    "        fig3.add_trace(go.Scatter(\n",
    "            x=timeline_df['date'],\n",
    "            y=timeline_df['stars_growth_rate'],\n",
    "            mode='lines',\n",
    "            name=f'Stars ({window_size}-day avg)',\n",
    "            line=dict(color='gold', width=3)\n",
    "        ))\n",
    "        \n",
    "        fig3.add_trace(go.Scatter(\n",
    "            x=timeline_df['date'],\n",
    "            y=timeline_df['forks_growth_rate'],\n",
    "            mode='lines',\n",
    "            name=f'Forks ({window_size}-day avg)',\n",
    "            line=dict(color='blue', width=3)\n",
    "        ))\n",
    "        \n",
    "        fig3.update_layout(\n",
    "            title=f'{repo_name} - Growth Rate (Rolling Average)',\n",
    "            xaxis_title='Date',\n",
    "            yaxis_title=f'Average New Count (per {window_size} days)',\n",
    "            legend_title='Metric',\n",
    "            template='plotly_white',\n",
    "            height=600\n",
    "        )\n",
    "        \n",
    "        fig3.show()"
   ]
  },
  {
   "cell_type": "code",
   "execution_count": null,
   "id": "9b92c4e4",
   "metadata": {},
   "outputs": [
    {
     "data": {
      "application/vnd.plotly.v1+json": {
       "config": {
        "plotlyServerURL": "https://plot.ly"
       },
       "data": [
        {
         "line": {
          "color": "gold",
          "width": 3
         },
         "mode": "lines",
         "name": "Stars",
         "type": "scatter",
         "x": [
          "2018-12-31T00:00:00.000000000",
          "2019-01-31T00:00:00.000000000",
          "2019-02-28T00:00:00.000000000",
          "2019-03-31T00:00:00.000000000",
          "2019-04-30T00:00:00.000000000",
          "2019-05-31T00:00:00.000000000",
          "2019-06-30T00:00:00.000000000",
          "2019-07-31T00:00:00.000000000",
          "2019-08-31T00:00:00.000000000",
          "2019-09-30T00:00:00.000000000",
          "2019-10-31T00:00:00.000000000",
          "2019-11-30T00:00:00.000000000",
          "2019-12-31T00:00:00.000000000",
          "2020-01-31T00:00:00.000000000",
          "2020-02-29T00:00:00.000000000",
          "2020-03-31T00:00:00.000000000",
          "2020-04-30T00:00:00.000000000",
          "2020-05-31T00:00:00.000000000",
          "2020-06-30T00:00:00.000000000",
          "2020-07-31T00:00:00.000000000",
          "2020-08-31T00:00:00.000000000",
          "2020-09-30T00:00:00.000000000",
          "2020-10-31T00:00:00.000000000",
          "2020-11-30T00:00:00.000000000",
          "2020-12-31T00:00:00.000000000",
          "2021-01-31T00:00:00.000000000",
          "2021-02-28T00:00:00.000000000",
          "2021-03-31T00:00:00.000000000",
          "2021-04-30T00:00:00.000000000",
          "2021-05-31T00:00:00.000000000",
          "2021-06-30T00:00:00.000000000",
          "2021-07-31T00:00:00.000000000",
          "2021-08-31T00:00:00.000000000",
          "2021-09-30T00:00:00.000000000",
          "2021-10-31T00:00:00.000000000",
          "2021-11-30T00:00:00.000000000",
          "2021-12-31T00:00:00.000000000",
          "2022-01-31T00:00:00.000000000",
          "2022-02-28T00:00:00.000000000",
          "2022-03-31T00:00:00.000000000",
          "2022-04-30T00:00:00.000000000",
          "2022-05-31T00:00:00.000000000",
          "2022-06-30T00:00:00.000000000",
          "2022-07-31T00:00:00.000000000",
          "2022-08-31T00:00:00.000000000",
          "2022-09-30T00:00:00.000000000",
          "2022-10-31T00:00:00.000000000",
          "2022-11-30T00:00:00.000000000",
          "2022-12-31T00:00:00.000000000",
          "2023-01-31T00:00:00.000000000",
          "2023-02-28T00:00:00.000000000",
          "2023-03-31T00:00:00.000000000",
          "2023-04-30T00:00:00.000000000",
          "2023-05-31T00:00:00.000000000",
          "2023-06-30T00:00:00.000000000",
          "2023-07-31T00:00:00.000000000",
          "2023-08-31T00:00:00.000000000",
          "2023-09-30T00:00:00.000000000",
          "2023-10-31T00:00:00.000000000",
          "2023-11-30T00:00:00.000000000",
          "2023-12-31T00:00:00.000000000",
          "2024-01-31T00:00:00.000000000",
          "2024-02-29T00:00:00.000000000",
          "2024-03-31T00:00:00.000000000",
          "2024-04-30T00:00:00.000000000",
          "2024-05-31T00:00:00.000000000",
          "2024-06-30T00:00:00.000000000",
          "2024-07-31T00:00:00.000000000",
          "2024-08-31T00:00:00.000000000",
          "2024-09-30T00:00:00.000000000",
          "2024-10-31T00:00:00.000000000",
          "2024-11-30T00:00:00.000000000",
          "2024-12-31T00:00:00.000000000",
          "2025-01-31T00:00:00.000000000",
          "2025-02-28T00:00:00.000000000",
          "2025-03-31T00:00:00.000000000",
          "2025-04-30T00:00:00.000000000",
          "2025-05-31T00:00:00.000000000"
         ],
         "y": {
          "bdata": "AQACABkAGwBrAIYAtQDWAOwA9gAEARIBIwEsATABPAFEAU0BWAFfAWgBdwF7AYABjAGWAZ4BpgHfAQQCIwJHAmACcgKJAqMCtwLcAggDIwNCA2IDeAOSA7MDxwPxAw4EIgRGBGQEhQSgBMgE5gQCBSYFQgWjBdEF9gUbBlQGgQajBsEG4Ab5Bg8HKQc6B0wH3wcRCCIIQwhbCHAI",
          "dtype": "i2"
         }
        },
        {
         "line": {
          "color": "blue",
          "width": 3
         },
         "mode": "lines",
         "name": "Forks",
         "type": "scatter",
         "x": [
          "2018-12-31T00:00:00.000000000",
          "2019-01-31T00:00:00.000000000",
          "2019-02-28T00:00:00.000000000",
          "2019-03-31T00:00:00.000000000",
          "2019-04-30T00:00:00.000000000",
          "2019-05-31T00:00:00.000000000",
          "2019-06-30T00:00:00.000000000",
          "2019-07-31T00:00:00.000000000",
          "2019-08-31T00:00:00.000000000",
          "2019-09-30T00:00:00.000000000",
          "2019-10-31T00:00:00.000000000",
          "2019-11-30T00:00:00.000000000",
          "2019-12-31T00:00:00.000000000",
          "2020-01-31T00:00:00.000000000",
          "2020-02-29T00:00:00.000000000",
          "2020-03-31T00:00:00.000000000",
          "2020-04-30T00:00:00.000000000",
          "2020-05-31T00:00:00.000000000",
          "2020-06-30T00:00:00.000000000",
          "2020-07-31T00:00:00.000000000",
          "2020-08-31T00:00:00.000000000",
          "2020-09-30T00:00:00.000000000",
          "2020-10-31T00:00:00.000000000",
          "2020-11-30T00:00:00.000000000",
          "2020-12-31T00:00:00.000000000",
          "2021-01-31T00:00:00.000000000",
          "2021-02-28T00:00:00.000000000",
          "2021-03-31T00:00:00.000000000",
          "2021-04-30T00:00:00.000000000",
          "2021-05-31T00:00:00.000000000",
          "2021-06-30T00:00:00.000000000",
          "2021-07-31T00:00:00.000000000",
          "2021-08-31T00:00:00.000000000",
          "2021-09-30T00:00:00.000000000",
          "2021-10-31T00:00:00.000000000",
          "2021-11-30T00:00:00.000000000",
          "2021-12-31T00:00:00.000000000",
          "2022-01-31T00:00:00.000000000",
          "2022-02-28T00:00:00.000000000",
          "2022-03-31T00:00:00.000000000",
          "2022-04-30T00:00:00.000000000",
          "2022-05-31T00:00:00.000000000",
          "2022-06-30T00:00:00.000000000",
          "2022-07-31T00:00:00.000000000",
          "2022-08-31T00:00:00.000000000",
          "2022-09-30T00:00:00.000000000",
          "2022-10-31T00:00:00.000000000",
          "2022-11-30T00:00:00.000000000",
          "2022-12-31T00:00:00.000000000",
          "2023-01-31T00:00:00.000000000",
          "2023-02-28T00:00:00.000000000",
          "2023-03-31T00:00:00.000000000",
          "2023-04-30T00:00:00.000000000",
          "2023-05-31T00:00:00.000000000",
          "2023-06-30T00:00:00.000000000",
          "2023-07-31T00:00:00.000000000",
          "2023-08-31T00:00:00.000000000",
          "2023-09-30T00:00:00.000000000",
          "2023-10-31T00:00:00.000000000",
          "2023-11-30T00:00:00.000000000",
          "2023-12-31T00:00:00.000000000",
          "2024-01-31T00:00:00.000000000",
          "2024-02-29T00:00:00.000000000",
          "2024-03-31T00:00:00.000000000",
          "2024-04-30T00:00:00.000000000",
          "2024-05-31T00:00:00.000000000",
          "2024-06-30T00:00:00.000000000",
          "2024-07-31T00:00:00.000000000",
          "2024-08-31T00:00:00.000000000",
          "2024-09-30T00:00:00.000000000",
          "2024-10-31T00:00:00.000000000",
          "2024-11-30T00:00:00.000000000",
          "2024-12-31T00:00:00.000000000",
          "2025-01-31T00:00:00.000000000",
          "2025-02-28T00:00:00.000000000",
          "2025-03-31T00:00:00.000000000",
          "2025-04-30T00:00:00.000000000",
          "2025-05-31T00:00:00.000000000"
         ],
         "y": {
          "bdata": "AAAAAAAAAAAAAAAAAAAAAAAAAAAAAPA/AAAAAAAA8D8AAAAAAADwPwAAAAAAAPA/AAAAAAAAAEAAAAAAAAAAQAAAAAAAAABAAAAAAAAAEEAAAAAAAAAQQAAAAAAAABBAAAAAAAAAHEAAAAAAAAAgQAAAAAAAACBAAAAAAAAAIkAAAAAAAAAkQAAAAAAAACRAAAAAAAAAJEAAAAAAAAAkQAAAAAAAACRAAAAAAAAAJkAAAAAAAAAoQAAAAAAAAChAAAAAAAAAKkAAAAAAAAAsQAAAAAAAACxAAAAAAAAALkAAAAAAAAAxQAAAAAAAADRAAAAAAAAANUAAAAAAAAA3QAAAAAAAADlAAAAAAAAAOkAAAAAAAAA6QAAAAAAAAD5AAAAAAACAQEAAAAAAAIBBQAAAAAAAAEJAAAAAAAAAQkAAAAAAAABDQAAAAAAAgENAAAAAAACAQ0AAAAAAAIBDQAAAAAAAgENAAAAAAACAQ0AAAAAAAABEQAAAAAAAAEVAAAAAAACARkAAAAAAAABHQAAAAAAAAEdAAAAAAACASEAAAAAAAABKQAAAAAAAAEpAAAAAAACASkAAAAAAAABLQAAAAAAAgExAAAAAAAAATUAAAAAAAABOQAAAAAAAgE5AAAAAAACATkAAAAAAAIBOQAAAAAAAAE9AAAAAAACAUEAAAAAAAEBRQAAAAAAAgFFAAAAAAAAAUkAAAAAAAIBSQAAAAAAAQFNAAAAAAABAU0AAAAAAAEBTQAAAAAAAgFNAAAAAAAAAVEAAAAAAAEBUQAAAAAAAQFRAAAAAAACAVEAAAAAAAMBUQAAAAAAAwFRA",
          "dtype": "f8"
         }
        }
       ],
       "layout": {
        "height": 600,
        "legend": {
         "title": {
          "text": "Metric"
         }
        },
        "template": {
         "data": {
          "bar": [
           {
            "error_x": {
             "color": "#2a3f5f"
            },
            "error_y": {
             "color": "#2a3f5f"
            },
            "marker": {
             "line": {
              "color": "white",
              "width": 0.5
             },
             "pattern": {
              "fillmode": "overlay",
              "size": 10,
              "solidity": 0.2
             }
            },
            "type": "bar"
           }
          ],
          "barpolar": [
           {
            "marker": {
             "line": {
              "color": "white",
              "width": 0.5
             },
             "pattern": {
              "fillmode": "overlay",
              "size": 10,
              "solidity": 0.2
             }
            },
            "type": "barpolar"
           }
          ],
          "carpet": [
           {
            "aaxis": {
             "endlinecolor": "#2a3f5f",
             "gridcolor": "#C8D4E3",
             "linecolor": "#C8D4E3",
             "minorgridcolor": "#C8D4E3",
             "startlinecolor": "#2a3f5f"
            },
            "baxis": {
             "endlinecolor": "#2a3f5f",
             "gridcolor": "#C8D4E3",
             "linecolor": "#C8D4E3",
             "minorgridcolor": "#C8D4E3",
             "startlinecolor": "#2a3f5f"
            },
            "type": "carpet"
           }
          ],
          "choropleth": [
           {
            "colorbar": {
             "outlinewidth": 0,
             "ticks": ""
            },
            "type": "choropleth"
           }
          ],
          "contour": [
           {
            "colorbar": {
             "outlinewidth": 0,
             "ticks": ""
            },
            "colorscale": [
             [
              0,
              "#0d0887"
             ],
             [
              0.1111111111111111,
              "#46039f"
             ],
             [
              0.2222222222222222,
              "#7201a8"
             ],
             [
              0.3333333333333333,
              "#9c179e"
             ],
             [
              0.4444444444444444,
              "#bd3786"
             ],
             [
              0.5555555555555556,
              "#d8576b"
             ],
             [
              0.6666666666666666,
              "#ed7953"
             ],
             [
              0.7777777777777778,
              "#fb9f3a"
             ],
             [
              0.8888888888888888,
              "#fdca26"
             ],
             [
              1,
              "#f0f921"
             ]
            ],
            "type": "contour"
           }
          ],
          "contourcarpet": [
           {
            "colorbar": {
             "outlinewidth": 0,
             "ticks": ""
            },
            "type": "contourcarpet"
           }
          ],
          "heatmap": [
           {
            "colorbar": {
             "outlinewidth": 0,
             "ticks": ""
            },
            "colorscale": [
             [
              0,
              "#0d0887"
             ],
             [
              0.1111111111111111,
              "#46039f"
             ],
             [
              0.2222222222222222,
              "#7201a8"
             ],
             [
              0.3333333333333333,
              "#9c179e"
             ],
             [
              0.4444444444444444,
              "#bd3786"
             ],
             [
              0.5555555555555556,
              "#d8576b"
             ],
             [
              0.6666666666666666,
              "#ed7953"
             ],
             [
              0.7777777777777778,
              "#fb9f3a"
             ],
             [
              0.8888888888888888,
              "#fdca26"
             ],
             [
              1,
              "#f0f921"
             ]
            ],
            "type": "heatmap"
           }
          ],
          "histogram": [
           {
            "marker": {
             "pattern": {
              "fillmode": "overlay",
              "size": 10,
              "solidity": 0.2
             }
            },
            "type": "histogram"
           }
          ],
          "histogram2d": [
           {
            "colorbar": {
             "outlinewidth": 0,
             "ticks": ""
            },
            "colorscale": [
             [
              0,
              "#0d0887"
             ],
             [
              0.1111111111111111,
              "#46039f"
             ],
             [
              0.2222222222222222,
              "#7201a8"
             ],
             [
              0.3333333333333333,
              "#9c179e"
             ],
             [
              0.4444444444444444,
              "#bd3786"
             ],
             [
              0.5555555555555556,
              "#d8576b"
             ],
             [
              0.6666666666666666,
              "#ed7953"
             ],
             [
              0.7777777777777778,
              "#fb9f3a"
             ],
             [
              0.8888888888888888,
              "#fdca26"
             ],
             [
              1,
              "#f0f921"
             ]
            ],
            "type": "histogram2d"
           }
          ],
          "histogram2dcontour": [
           {
            "colorbar": {
             "outlinewidth": 0,
             "ticks": ""
            },
            "colorscale": [
             [
              0,
              "#0d0887"
             ],
             [
              0.1111111111111111,
              "#46039f"
             ],
             [
              0.2222222222222222,
              "#7201a8"
             ],
             [
              0.3333333333333333,
              "#9c179e"
             ],
             [
              0.4444444444444444,
              "#bd3786"
             ],
             [
              0.5555555555555556,
              "#d8576b"
             ],
             [
              0.6666666666666666,
              "#ed7953"
             ],
             [
              0.7777777777777778,
              "#fb9f3a"
             ],
             [
              0.8888888888888888,
              "#fdca26"
             ],
             [
              1,
              "#f0f921"
             ]
            ],
            "type": "histogram2dcontour"
           }
          ],
          "mesh3d": [
           {
            "colorbar": {
             "outlinewidth": 0,
             "ticks": ""
            },
            "type": "mesh3d"
           }
          ],
          "parcoords": [
           {
            "line": {
             "colorbar": {
              "outlinewidth": 0,
              "ticks": ""
             }
            },
            "type": "parcoords"
           }
          ],
          "pie": [
           {
            "automargin": true,
            "type": "pie"
           }
          ],
          "scatter": [
           {
            "fillpattern": {
             "fillmode": "overlay",
             "size": 10,
             "solidity": 0.2
            },
            "type": "scatter"
           }
          ],
          "scatter3d": [
           {
            "line": {
             "colorbar": {
              "outlinewidth": 0,
              "ticks": ""
             }
            },
            "marker": {
             "colorbar": {
              "outlinewidth": 0,
              "ticks": ""
             }
            },
            "type": "scatter3d"
           }
          ],
          "scattercarpet": [
           {
            "marker": {
             "colorbar": {
              "outlinewidth": 0,
              "ticks": ""
             }
            },
            "type": "scattercarpet"
           }
          ],
          "scattergeo": [
           {
            "marker": {
             "colorbar": {
              "outlinewidth": 0,
              "ticks": ""
             }
            },
            "type": "scattergeo"
           }
          ],
          "scattergl": [
           {
            "marker": {
             "colorbar": {
              "outlinewidth": 0,
              "ticks": ""
             }
            },
            "type": "scattergl"
           }
          ],
          "scattermap": [
           {
            "marker": {
             "colorbar": {
              "outlinewidth": 0,
              "ticks": ""
             }
            },
            "type": "scattermap"
           }
          ],
          "scattermapbox": [
           {
            "marker": {
             "colorbar": {
              "outlinewidth": 0,
              "ticks": ""
             }
            },
            "type": "scattermapbox"
           }
          ],
          "scatterpolar": [
           {
            "marker": {
             "colorbar": {
              "outlinewidth": 0,
              "ticks": ""
             }
            },
            "type": "scatterpolar"
           }
          ],
          "scatterpolargl": [
           {
            "marker": {
             "colorbar": {
              "outlinewidth": 0,
              "ticks": ""
             }
            },
            "type": "scatterpolargl"
           }
          ],
          "scatterternary": [
           {
            "marker": {
             "colorbar": {
              "outlinewidth": 0,
              "ticks": ""
             }
            },
            "type": "scatterternary"
           }
          ],
          "surface": [
           {
            "colorbar": {
             "outlinewidth": 0,
             "ticks": ""
            },
            "colorscale": [
             [
              0,
              "#0d0887"
             ],
             [
              0.1111111111111111,
              "#46039f"
             ],
             [
              0.2222222222222222,
              "#7201a8"
             ],
             [
              0.3333333333333333,
              "#9c179e"
             ],
             [
              0.4444444444444444,
              "#bd3786"
             ],
             [
              0.5555555555555556,
              "#d8576b"
             ],
             [
              0.6666666666666666,
              "#ed7953"
             ],
             [
              0.7777777777777778,
              "#fb9f3a"
             ],
             [
              0.8888888888888888,
              "#fdca26"
             ],
             [
              1,
              "#f0f921"
             ]
            ],
            "type": "surface"
           }
          ],
          "table": [
           {
            "cells": {
             "fill": {
              "color": "#EBF0F8"
             },
             "line": {
              "color": "white"
             }
            },
            "header": {
             "fill": {
              "color": "#C8D4E3"
             },
             "line": {
              "color": "white"
             }
            },
            "type": "table"
           }
          ]
         },
         "layout": {
          "annotationdefaults": {
           "arrowcolor": "#2a3f5f",
           "arrowhead": 0,
           "arrowwidth": 1
          },
          "autotypenumbers": "strict",
          "coloraxis": {
           "colorbar": {
            "outlinewidth": 0,
            "ticks": ""
           }
          },
          "colorscale": {
           "diverging": [
            [
             0,
             "#8e0152"
            ],
            [
             0.1,
             "#c51b7d"
            ],
            [
             0.2,
             "#de77ae"
            ],
            [
             0.3,
             "#f1b6da"
            ],
            [
             0.4,
             "#fde0ef"
            ],
            [
             0.5,
             "#f7f7f7"
            ],
            [
             0.6,
             "#e6f5d0"
            ],
            [
             0.7,
             "#b8e186"
            ],
            [
             0.8,
             "#7fbc41"
            ],
            [
             0.9,
             "#4d9221"
            ],
            [
             1,
             "#276419"
            ]
           ],
           "sequential": [
            [
             0,
             "#0d0887"
            ],
            [
             0.1111111111111111,
             "#46039f"
            ],
            [
             0.2222222222222222,
             "#7201a8"
            ],
            [
             0.3333333333333333,
             "#9c179e"
            ],
            [
             0.4444444444444444,
             "#bd3786"
            ],
            [
             0.5555555555555556,
             "#d8576b"
            ],
            [
             0.6666666666666666,
             "#ed7953"
            ],
            [
             0.7777777777777778,
             "#fb9f3a"
            ],
            [
             0.8888888888888888,
             "#fdca26"
            ],
            [
             1,
             "#f0f921"
            ]
           ],
           "sequentialminus": [
            [
             0,
             "#0d0887"
            ],
            [
             0.1111111111111111,
             "#46039f"
            ],
            [
             0.2222222222222222,
             "#7201a8"
            ],
            [
             0.3333333333333333,
             "#9c179e"
            ],
            [
             0.4444444444444444,
             "#bd3786"
            ],
            [
             0.5555555555555556,
             "#d8576b"
            ],
            [
             0.6666666666666666,
             "#ed7953"
            ],
            [
             0.7777777777777778,
             "#fb9f3a"
            ],
            [
             0.8888888888888888,
             "#fdca26"
            ],
            [
             1,
             "#f0f921"
            ]
           ]
          },
          "colorway": [
           "#636efa",
           "#EF553B",
           "#00cc96",
           "#ab63fa",
           "#FFA15A",
           "#19d3f3",
           "#FF6692",
           "#B6E880",
           "#FF97FF",
           "#FECB52"
          ],
          "font": {
           "color": "#2a3f5f"
          },
          "geo": {
           "bgcolor": "white",
           "lakecolor": "white",
           "landcolor": "white",
           "showlakes": true,
           "showland": true,
           "subunitcolor": "#C8D4E3"
          },
          "hoverlabel": {
           "align": "left"
          },
          "hovermode": "closest",
          "mapbox": {
           "style": "light"
          },
          "paper_bgcolor": "white",
          "plot_bgcolor": "white",
          "polar": {
           "angularaxis": {
            "gridcolor": "#EBF0F8",
            "linecolor": "#EBF0F8",
            "ticks": ""
           },
           "bgcolor": "white",
           "radialaxis": {
            "gridcolor": "#EBF0F8",
            "linecolor": "#EBF0F8",
            "ticks": ""
           }
          },
          "scene": {
           "xaxis": {
            "backgroundcolor": "white",
            "gridcolor": "#DFE8F3",
            "gridwidth": 2,
            "linecolor": "#EBF0F8",
            "showbackground": true,
            "ticks": "",
            "zerolinecolor": "#EBF0F8"
           },
           "yaxis": {
            "backgroundcolor": "white",
            "gridcolor": "#DFE8F3",
            "gridwidth": 2,
            "linecolor": "#EBF0F8",
            "showbackground": true,
            "ticks": "",
            "zerolinecolor": "#EBF0F8"
           },
           "zaxis": {
            "backgroundcolor": "white",
            "gridcolor": "#DFE8F3",
            "gridwidth": 2,
            "linecolor": "#EBF0F8",
            "showbackground": true,
            "ticks": "",
            "zerolinecolor": "#EBF0F8"
           }
          },
          "shapedefaults": {
           "line": {
            "color": "#2a3f5f"
           }
          },
          "ternary": {
           "aaxis": {
            "gridcolor": "#DFE8F3",
            "linecolor": "#A2B1C6",
            "ticks": ""
           },
           "baxis": {
            "gridcolor": "#DFE8F3",
            "linecolor": "#A2B1C6",
            "ticks": ""
           },
           "bgcolor": "white",
           "caxis": {
            "gridcolor": "#DFE8F3",
            "linecolor": "#A2B1C6",
            "ticks": ""
           }
          },
          "title": {
           "x": 0.05
          },
          "xaxis": {
           "automargin": true,
           "gridcolor": "#EBF0F8",
           "linecolor": "#EBF0F8",
           "ticks": "",
           "title": {
            "standoff": 15
           },
           "zerolinecolor": "#EBF0F8",
           "zerolinewidth": 2
          },
          "yaxis": {
           "automargin": true,
           "gridcolor": "#EBF0F8",
           "linecolor": "#EBF0F8",
           "ticks": "",
           "title": {
            "standoff": 15
           },
           "zerolinecolor": "#EBF0F8",
           "zerolinewidth": 2
          }
         }
        },
        "title": {
         "text": "Neoteroi/BlackSheep - Cumulative Stars and Forks Over Time"
        },
        "xaxis": {
         "title": {
          "text": "Date"
         }
        },
        "yaxis": {
         "title": {
          "text": "Count"
         }
        }
       }
      }
     },
     "metadata": {},
     "output_type": "display_data"
    },
    {
     "data": {
      "application/vnd.plotly.v1+json": {
       "config": {
        "plotlyServerURL": "https://plot.ly"
       },
       "data": [
        {
         "marker": {
          "color": "gold"
         },
         "name": "New Stars",
         "type": "bar",
         "x": [
          "2018-12-31T00:00:00.000000000",
          "2019-01-31T00:00:00.000000000",
          "2019-02-28T00:00:00.000000000",
          "2019-03-31T00:00:00.000000000",
          "2019-04-30T00:00:00.000000000",
          "2019-05-31T00:00:00.000000000",
          "2019-06-30T00:00:00.000000000",
          "2019-07-31T00:00:00.000000000",
          "2019-08-31T00:00:00.000000000",
          "2019-09-30T00:00:00.000000000",
          "2019-10-31T00:00:00.000000000",
          "2019-11-30T00:00:00.000000000",
          "2019-12-31T00:00:00.000000000",
          "2020-01-31T00:00:00.000000000",
          "2020-02-29T00:00:00.000000000",
          "2020-03-31T00:00:00.000000000",
          "2020-04-30T00:00:00.000000000",
          "2020-05-31T00:00:00.000000000",
          "2020-06-30T00:00:00.000000000",
          "2020-07-31T00:00:00.000000000",
          "2020-08-31T00:00:00.000000000",
          "2020-09-30T00:00:00.000000000",
          "2020-10-31T00:00:00.000000000",
          "2020-11-30T00:00:00.000000000",
          "2020-12-31T00:00:00.000000000",
          "2021-01-31T00:00:00.000000000",
          "2021-02-28T00:00:00.000000000",
          "2021-03-31T00:00:00.000000000",
          "2021-04-30T00:00:00.000000000",
          "2021-05-31T00:00:00.000000000",
          "2021-06-30T00:00:00.000000000",
          "2021-07-31T00:00:00.000000000",
          "2021-08-31T00:00:00.000000000",
          "2021-09-30T00:00:00.000000000",
          "2021-10-31T00:00:00.000000000",
          "2021-11-30T00:00:00.000000000",
          "2021-12-31T00:00:00.000000000",
          "2022-01-31T00:00:00.000000000",
          "2022-02-28T00:00:00.000000000",
          "2022-03-31T00:00:00.000000000",
          "2022-04-30T00:00:00.000000000",
          "2022-05-31T00:00:00.000000000",
          "2022-06-30T00:00:00.000000000",
          "2022-07-31T00:00:00.000000000",
          "2022-08-31T00:00:00.000000000",
          "2022-09-30T00:00:00.000000000",
          "2022-10-31T00:00:00.000000000",
          "2022-11-30T00:00:00.000000000",
          "2022-12-31T00:00:00.000000000",
          "2023-01-31T00:00:00.000000000",
          "2023-02-28T00:00:00.000000000",
          "2023-03-31T00:00:00.000000000",
          "2023-04-30T00:00:00.000000000",
          "2023-05-31T00:00:00.000000000",
          "2023-06-30T00:00:00.000000000",
          "2023-07-31T00:00:00.000000000",
          "2023-08-31T00:00:00.000000000",
          "2023-09-30T00:00:00.000000000",
          "2023-10-31T00:00:00.000000000",
          "2023-11-30T00:00:00.000000000",
          "2023-12-31T00:00:00.000000000",
          "2024-01-31T00:00:00.000000000",
          "2024-02-29T00:00:00.000000000",
          "2024-03-31T00:00:00.000000000",
          "2024-04-30T00:00:00.000000000",
          "2024-05-31T00:00:00.000000000",
          "2024-06-30T00:00:00.000000000",
          "2024-07-31T00:00:00.000000000",
          "2024-08-31T00:00:00.000000000",
          "2024-09-30T00:00:00.000000000",
          "2024-10-31T00:00:00.000000000",
          "2024-11-30T00:00:00.000000000",
          "2024-12-31T00:00:00.000000000",
          "2025-01-31T00:00:00.000000000",
          "2025-02-28T00:00:00.000000000",
          "2025-03-31T00:00:00.000000000",
          "2025-04-30T00:00:00.000000000",
          "2025-05-31T00:00:00.000000000"
         ],
         "y": {
          "bdata": "AQABABcAAgBQABsALwAhABYACgAOAA4AEQAJAAQADAAIAAkACwAHAAkADwAEAAUADAAKAAgACAA5ACUAHwAkABkAEgAXABoAFAAlACwAGwAfACAAFgAaACEAFAAqAB0AFAAkAB4AIQAbACgAHgAcACQAHABhAC4AJQAlADkALQAiAB4AHwAZABYAGgARABIAkwAyABEAIQAYABUA",
          "dtype": "i2"
         }
        },
        {
         "marker": {
          "color": "blue"
         },
         "name": "New Forks",
         "type": "bar",
         "x": [
          "2018-12-31T00:00:00.000000000",
          "2019-01-31T00:00:00.000000000",
          "2019-02-28T00:00:00.000000000",
          "2019-03-31T00:00:00.000000000",
          "2019-04-30T00:00:00.000000000",
          "2019-05-31T00:00:00.000000000",
          "2019-06-30T00:00:00.000000000",
          "2019-07-31T00:00:00.000000000",
          "2019-08-31T00:00:00.000000000",
          "2019-09-30T00:00:00.000000000",
          "2019-10-31T00:00:00.000000000",
          "2019-11-30T00:00:00.000000000",
          "2019-12-31T00:00:00.000000000",
          "2020-01-31T00:00:00.000000000",
          "2020-02-29T00:00:00.000000000",
          "2020-03-31T00:00:00.000000000",
          "2020-04-30T00:00:00.000000000",
          "2020-05-31T00:00:00.000000000",
          "2020-06-30T00:00:00.000000000",
          "2020-07-31T00:00:00.000000000",
          "2020-08-31T00:00:00.000000000",
          "2020-09-30T00:00:00.000000000",
          "2020-10-31T00:00:00.000000000",
          "2020-11-30T00:00:00.000000000",
          "2020-12-31T00:00:00.000000000",
          "2021-01-31T00:00:00.000000000",
          "2021-02-28T00:00:00.000000000",
          "2021-03-31T00:00:00.000000000",
          "2021-04-30T00:00:00.000000000",
          "2021-05-31T00:00:00.000000000",
          "2021-06-30T00:00:00.000000000",
          "2021-07-31T00:00:00.000000000",
          "2021-08-31T00:00:00.000000000",
          "2021-09-30T00:00:00.000000000",
          "2021-10-31T00:00:00.000000000",
          "2021-11-30T00:00:00.000000000",
          "2021-12-31T00:00:00.000000000",
          "2022-01-31T00:00:00.000000000",
          "2022-02-28T00:00:00.000000000",
          "2022-03-31T00:00:00.000000000",
          "2022-04-30T00:00:00.000000000",
          "2022-05-31T00:00:00.000000000",
          "2022-06-30T00:00:00.000000000",
          "2022-07-31T00:00:00.000000000",
          "2022-08-31T00:00:00.000000000",
          "2022-09-30T00:00:00.000000000",
          "2022-10-31T00:00:00.000000000",
          "2022-11-30T00:00:00.000000000",
          "2022-12-31T00:00:00.000000000",
          "2023-01-31T00:00:00.000000000",
          "2023-02-28T00:00:00.000000000",
          "2023-03-31T00:00:00.000000000",
          "2023-04-30T00:00:00.000000000",
          "2023-05-31T00:00:00.000000000",
          "2023-06-30T00:00:00.000000000",
          "2023-07-31T00:00:00.000000000",
          "2023-08-31T00:00:00.000000000",
          "2023-09-30T00:00:00.000000000",
          "2023-10-31T00:00:00.000000000",
          "2023-11-30T00:00:00.000000000",
          "2023-12-31T00:00:00.000000000",
          "2024-01-31T00:00:00.000000000",
          "2024-02-29T00:00:00.000000000",
          "2024-03-31T00:00:00.000000000",
          "2024-04-30T00:00:00.000000000",
          "2024-05-31T00:00:00.000000000",
          "2024-06-30T00:00:00.000000000",
          "2024-07-31T00:00:00.000000000",
          "2024-08-31T00:00:00.000000000",
          "2024-09-30T00:00:00.000000000",
          "2024-10-31T00:00:00.000000000",
          "2024-11-30T00:00:00.000000000",
          "2024-12-31T00:00:00.000000000",
          "2025-01-31T00:00:00.000000000",
          "2025-02-28T00:00:00.000000000",
          "2025-03-31T00:00:00.000000000",
          "2025-04-30T00:00:00.000000000",
          "2025-05-31T00:00:00.000000000"
         ],
         "y": {
          "bdata": "AAAAAAAAAAAAAAAAAAAAAAAAAAAAAPA/AAAAAAAAAAAAAAAAAAAAAAAAAAAAAAAAAAAAAAAA8D8AAAAAAAAAAAAAAAAAAAAAAAAAAAAAAEAAAAAAAAAAAAAAAAAAAAAAAAAAAAAACEAAAAAAAADwPwAAAAAAAAAAAAAAAAAA8D8AAAAAAADwPwAAAAAAAAAAAAAAAAAAAAAAAAAAAAAAAAAAAAAAAAAAAAAAAAAA8D8AAAAAAADwPwAAAAAAAAAAAAAAAAAA8D8AAAAAAADwPwAAAAAAAAAAAAAAAAAA8D8AAAAAAAAAQAAAAAAAAAhAAAAAAAAA8D8AAAAAAAAAQAAAAAAAAABAAAAAAAAA8D8AAAAAAAAAAAAAAAAAABBAAAAAAAAACEAAAAAAAAAAQAAAAAAAAPA/AAAAAAAAAAAAAAAAAAAAQAAAAAAAAPA/AAAAAAAAAAAAAAAAAAAAAAAAAAAAAAAAAAAAAAAAAAAAAAAAAADwPwAAAAAAAABAAAAAAAAACEAAAAAAAADwPwAAAAAAAAAAAAAAAAAACEAAAAAAAAAIQAAAAAAAAAAAAAAAAAAA8D8AAAAAAADwPwAAAAAAAAhAAAAAAAAA8D8AAAAAAAAAQAAAAAAAAPA/AAAAAAAAAAAAAAAAAAAAAAAAAAAAAPA/AAAAAAAAEEAAAAAAAAAIQAAAAAAAAPA/AAAAAAAAAEAAAAAAAAAAQAAAAAAAAAhAAAAAAAAAAAAAAAAAAAAAAAAAAAAAAPA/AAAAAAAAAEAAAAAAAADwPwAAAAAAAAAAAAAAAAAA8D8AAAAAAADwPwAAAAAAAAAA",
          "dtype": "f8"
         }
        }
       ],
       "layout": {
        "barmode": "group",
        "height": 600,
        "legend": {
         "title": {
          "text": "Metric"
         }
        },
        "template": {
         "data": {
          "bar": [
           {
            "error_x": {
             "color": "#2a3f5f"
            },
            "error_y": {
             "color": "#2a3f5f"
            },
            "marker": {
             "line": {
              "color": "white",
              "width": 0.5
             },
             "pattern": {
              "fillmode": "overlay",
              "size": 10,
              "solidity": 0.2
             }
            },
            "type": "bar"
           }
          ],
          "barpolar": [
           {
            "marker": {
             "line": {
              "color": "white",
              "width": 0.5
             },
             "pattern": {
              "fillmode": "overlay",
              "size": 10,
              "solidity": 0.2
             }
            },
            "type": "barpolar"
           }
          ],
          "carpet": [
           {
            "aaxis": {
             "endlinecolor": "#2a3f5f",
             "gridcolor": "#C8D4E3",
             "linecolor": "#C8D4E3",
             "minorgridcolor": "#C8D4E3",
             "startlinecolor": "#2a3f5f"
            },
            "baxis": {
             "endlinecolor": "#2a3f5f",
             "gridcolor": "#C8D4E3",
             "linecolor": "#C8D4E3",
             "minorgridcolor": "#C8D4E3",
             "startlinecolor": "#2a3f5f"
            },
            "type": "carpet"
           }
          ],
          "choropleth": [
           {
            "colorbar": {
             "outlinewidth": 0,
             "ticks": ""
            },
            "type": "choropleth"
           }
          ],
          "contour": [
           {
            "colorbar": {
             "outlinewidth": 0,
             "ticks": ""
            },
            "colorscale": [
             [
              0,
              "#0d0887"
             ],
             [
              0.1111111111111111,
              "#46039f"
             ],
             [
              0.2222222222222222,
              "#7201a8"
             ],
             [
              0.3333333333333333,
              "#9c179e"
             ],
             [
              0.4444444444444444,
              "#bd3786"
             ],
             [
              0.5555555555555556,
              "#d8576b"
             ],
             [
              0.6666666666666666,
              "#ed7953"
             ],
             [
              0.7777777777777778,
              "#fb9f3a"
             ],
             [
              0.8888888888888888,
              "#fdca26"
             ],
             [
              1,
              "#f0f921"
             ]
            ],
            "type": "contour"
           }
          ],
          "contourcarpet": [
           {
            "colorbar": {
             "outlinewidth": 0,
             "ticks": ""
            },
            "type": "contourcarpet"
           }
          ],
          "heatmap": [
           {
            "colorbar": {
             "outlinewidth": 0,
             "ticks": ""
            },
            "colorscale": [
             [
              0,
              "#0d0887"
             ],
             [
              0.1111111111111111,
              "#46039f"
             ],
             [
              0.2222222222222222,
              "#7201a8"
             ],
             [
              0.3333333333333333,
              "#9c179e"
             ],
             [
              0.4444444444444444,
              "#bd3786"
             ],
             [
              0.5555555555555556,
              "#d8576b"
             ],
             [
              0.6666666666666666,
              "#ed7953"
             ],
             [
              0.7777777777777778,
              "#fb9f3a"
             ],
             [
              0.8888888888888888,
              "#fdca26"
             ],
             [
              1,
              "#f0f921"
             ]
            ],
            "type": "heatmap"
           }
          ],
          "histogram": [
           {
            "marker": {
             "pattern": {
              "fillmode": "overlay",
              "size": 10,
              "solidity": 0.2
             }
            },
            "type": "histogram"
           }
          ],
          "histogram2d": [
           {
            "colorbar": {
             "outlinewidth": 0,
             "ticks": ""
            },
            "colorscale": [
             [
              0,
              "#0d0887"
             ],
             [
              0.1111111111111111,
              "#46039f"
             ],
             [
              0.2222222222222222,
              "#7201a8"
             ],
             [
              0.3333333333333333,
              "#9c179e"
             ],
             [
              0.4444444444444444,
              "#bd3786"
             ],
             [
              0.5555555555555556,
              "#d8576b"
             ],
             [
              0.6666666666666666,
              "#ed7953"
             ],
             [
              0.7777777777777778,
              "#fb9f3a"
             ],
             [
              0.8888888888888888,
              "#fdca26"
             ],
             [
              1,
              "#f0f921"
             ]
            ],
            "type": "histogram2d"
           }
          ],
          "histogram2dcontour": [
           {
            "colorbar": {
             "outlinewidth": 0,
             "ticks": ""
            },
            "colorscale": [
             [
              0,
              "#0d0887"
             ],
             [
              0.1111111111111111,
              "#46039f"
             ],
             [
              0.2222222222222222,
              "#7201a8"
             ],
             [
              0.3333333333333333,
              "#9c179e"
             ],
             [
              0.4444444444444444,
              "#bd3786"
             ],
             [
              0.5555555555555556,
              "#d8576b"
             ],
             [
              0.6666666666666666,
              "#ed7953"
             ],
             [
              0.7777777777777778,
              "#fb9f3a"
             ],
             [
              0.8888888888888888,
              "#fdca26"
             ],
             [
              1,
              "#f0f921"
             ]
            ],
            "type": "histogram2dcontour"
           }
          ],
          "mesh3d": [
           {
            "colorbar": {
             "outlinewidth": 0,
             "ticks": ""
            },
            "type": "mesh3d"
           }
          ],
          "parcoords": [
           {
            "line": {
             "colorbar": {
              "outlinewidth": 0,
              "ticks": ""
             }
            },
            "type": "parcoords"
           }
          ],
          "pie": [
           {
            "automargin": true,
            "type": "pie"
           }
          ],
          "scatter": [
           {
            "fillpattern": {
             "fillmode": "overlay",
             "size": 10,
             "solidity": 0.2
            },
            "type": "scatter"
           }
          ],
          "scatter3d": [
           {
            "line": {
             "colorbar": {
              "outlinewidth": 0,
              "ticks": ""
             }
            },
            "marker": {
             "colorbar": {
              "outlinewidth": 0,
              "ticks": ""
             }
            },
            "type": "scatter3d"
           }
          ],
          "scattercarpet": [
           {
            "marker": {
             "colorbar": {
              "outlinewidth": 0,
              "ticks": ""
             }
            },
            "type": "scattercarpet"
           }
          ],
          "scattergeo": [
           {
            "marker": {
             "colorbar": {
              "outlinewidth": 0,
              "ticks": ""
             }
            },
            "type": "scattergeo"
           }
          ],
          "scattergl": [
           {
            "marker": {
             "colorbar": {
              "outlinewidth": 0,
              "ticks": ""
             }
            },
            "type": "scattergl"
           }
          ],
          "scattermap": [
           {
            "marker": {
             "colorbar": {
              "outlinewidth": 0,
              "ticks": ""
             }
            },
            "type": "scattermap"
           }
          ],
          "scattermapbox": [
           {
            "marker": {
             "colorbar": {
              "outlinewidth": 0,
              "ticks": ""
             }
            },
            "type": "scattermapbox"
           }
          ],
          "scatterpolar": [
           {
            "marker": {
             "colorbar": {
              "outlinewidth": 0,
              "ticks": ""
             }
            },
            "type": "scatterpolar"
           }
          ],
          "scatterpolargl": [
           {
            "marker": {
             "colorbar": {
              "outlinewidth": 0,
              "ticks": ""
             }
            },
            "type": "scatterpolargl"
           }
          ],
          "scatterternary": [
           {
            "marker": {
             "colorbar": {
              "outlinewidth": 0,
              "ticks": ""
             }
            },
            "type": "scatterternary"
           }
          ],
          "surface": [
           {
            "colorbar": {
             "outlinewidth": 0,
             "ticks": ""
            },
            "colorscale": [
             [
              0,
              "#0d0887"
             ],
             [
              0.1111111111111111,
              "#46039f"
             ],
             [
              0.2222222222222222,
              "#7201a8"
             ],
             [
              0.3333333333333333,
              "#9c179e"
             ],
             [
              0.4444444444444444,
              "#bd3786"
             ],
             [
              0.5555555555555556,
              "#d8576b"
             ],
             [
              0.6666666666666666,
              "#ed7953"
             ],
             [
              0.7777777777777778,
              "#fb9f3a"
             ],
             [
              0.8888888888888888,
              "#fdca26"
             ],
             [
              1,
              "#f0f921"
             ]
            ],
            "type": "surface"
           }
          ],
          "table": [
           {
            "cells": {
             "fill": {
              "color": "#EBF0F8"
             },
             "line": {
              "color": "white"
             }
            },
            "header": {
             "fill": {
              "color": "#C8D4E3"
             },
             "line": {
              "color": "white"
             }
            },
            "type": "table"
           }
          ]
         },
         "layout": {
          "annotationdefaults": {
           "arrowcolor": "#2a3f5f",
           "arrowhead": 0,
           "arrowwidth": 1
          },
          "autotypenumbers": "strict",
          "coloraxis": {
           "colorbar": {
            "outlinewidth": 0,
            "ticks": ""
           }
          },
          "colorscale": {
           "diverging": [
            [
             0,
             "#8e0152"
            ],
            [
             0.1,
             "#c51b7d"
            ],
            [
             0.2,
             "#de77ae"
            ],
            [
             0.3,
             "#f1b6da"
            ],
            [
             0.4,
             "#fde0ef"
            ],
            [
             0.5,
             "#f7f7f7"
            ],
            [
             0.6,
             "#e6f5d0"
            ],
            [
             0.7,
             "#b8e186"
            ],
            [
             0.8,
             "#7fbc41"
            ],
            [
             0.9,
             "#4d9221"
            ],
            [
             1,
             "#276419"
            ]
           ],
           "sequential": [
            [
             0,
             "#0d0887"
            ],
            [
             0.1111111111111111,
             "#46039f"
            ],
            [
             0.2222222222222222,
             "#7201a8"
            ],
            [
             0.3333333333333333,
             "#9c179e"
            ],
            [
             0.4444444444444444,
             "#bd3786"
            ],
            [
             0.5555555555555556,
             "#d8576b"
            ],
            [
             0.6666666666666666,
             "#ed7953"
            ],
            [
             0.7777777777777778,
             "#fb9f3a"
            ],
            [
             0.8888888888888888,
             "#fdca26"
            ],
            [
             1,
             "#f0f921"
            ]
           ],
           "sequentialminus": [
            [
             0,
             "#0d0887"
            ],
            [
             0.1111111111111111,
             "#46039f"
            ],
            [
             0.2222222222222222,
             "#7201a8"
            ],
            [
             0.3333333333333333,
             "#9c179e"
            ],
            [
             0.4444444444444444,
             "#bd3786"
            ],
            [
             0.5555555555555556,
             "#d8576b"
            ],
            [
             0.6666666666666666,
             "#ed7953"
            ],
            [
             0.7777777777777778,
             "#fb9f3a"
            ],
            [
             0.8888888888888888,
             "#fdca26"
            ],
            [
             1,
             "#f0f921"
            ]
           ]
          },
          "colorway": [
           "#636efa",
           "#EF553B",
           "#00cc96",
           "#ab63fa",
           "#FFA15A",
           "#19d3f3",
           "#FF6692",
           "#B6E880",
           "#FF97FF",
           "#FECB52"
          ],
          "font": {
           "color": "#2a3f5f"
          },
          "geo": {
           "bgcolor": "white",
           "lakecolor": "white",
           "landcolor": "white",
           "showlakes": true,
           "showland": true,
           "subunitcolor": "#C8D4E3"
          },
          "hoverlabel": {
           "align": "left"
          },
          "hovermode": "closest",
          "mapbox": {
           "style": "light"
          },
          "paper_bgcolor": "white",
          "plot_bgcolor": "white",
          "polar": {
           "angularaxis": {
            "gridcolor": "#EBF0F8",
            "linecolor": "#EBF0F8",
            "ticks": ""
           },
           "bgcolor": "white",
           "radialaxis": {
            "gridcolor": "#EBF0F8",
            "linecolor": "#EBF0F8",
            "ticks": ""
           }
          },
          "scene": {
           "xaxis": {
            "backgroundcolor": "white",
            "gridcolor": "#DFE8F3",
            "gridwidth": 2,
            "linecolor": "#EBF0F8",
            "showbackground": true,
            "ticks": "",
            "zerolinecolor": "#EBF0F8"
           },
           "yaxis": {
            "backgroundcolor": "white",
            "gridcolor": "#DFE8F3",
            "gridwidth": 2,
            "linecolor": "#EBF0F8",
            "showbackground": true,
            "ticks": "",
            "zerolinecolor": "#EBF0F8"
           },
           "zaxis": {
            "backgroundcolor": "white",
            "gridcolor": "#DFE8F3",
            "gridwidth": 2,
            "linecolor": "#EBF0F8",
            "showbackground": true,
            "ticks": "",
            "zerolinecolor": "#EBF0F8"
           }
          },
          "shapedefaults": {
           "line": {
            "color": "#2a3f5f"
           }
          },
          "ternary": {
           "aaxis": {
            "gridcolor": "#DFE8F3",
            "linecolor": "#A2B1C6",
            "ticks": ""
           },
           "baxis": {
            "gridcolor": "#DFE8F3",
            "linecolor": "#A2B1C6",
            "ticks": ""
           },
           "bgcolor": "white",
           "caxis": {
            "gridcolor": "#DFE8F3",
            "linecolor": "#A2B1C6",
            "ticks": ""
           }
          },
          "title": {
           "x": 0.05
          },
          "xaxis": {
           "automargin": true,
           "gridcolor": "#EBF0F8",
           "linecolor": "#EBF0F8",
           "ticks": "",
           "title": {
            "standoff": 15
           },
           "zerolinecolor": "#EBF0F8",
           "zerolinewidth": 2
          },
          "yaxis": {
           "automargin": true,
           "gridcolor": "#EBF0F8",
           "linecolor": "#EBF0F8",
           "ticks": "",
           "title": {
            "standoff": 15
           },
           "zerolinecolor": "#EBF0F8",
           "zerolinewidth": 2
          }
         }
        },
        "title": {
         "text": "Neoteroi/BlackSheep - New Stars and Forks Over Time"
        },
        "xaxis": {
         "title": {
          "text": "Date"
         }
        },
        "yaxis": {
         "title": {
          "text": "Count"
         }
        }
       }
      }
     },
     "metadata": {},
     "output_type": "display_data"
    },
    {
     "data": {
      "application/vnd.plotly.v1+json": {
       "config": {
        "plotlyServerURL": "https://plot.ly"
       },
       "data": [
        {
         "line": {
          "color": "gold",
          "width": 3
         },
         "mode": "lines",
         "name": "Stars (30-day avg)",
         "type": "scatter",
         "x": [
          "2018-12-31T00:00:00.000000000",
          "2019-01-31T00:00:00.000000000",
          "2019-02-28T00:00:00.000000000",
          "2019-03-31T00:00:00.000000000",
          "2019-04-30T00:00:00.000000000",
          "2019-05-31T00:00:00.000000000",
          "2019-06-30T00:00:00.000000000",
          "2019-07-31T00:00:00.000000000",
          "2019-08-31T00:00:00.000000000",
          "2019-09-30T00:00:00.000000000",
          "2019-10-31T00:00:00.000000000",
          "2019-11-30T00:00:00.000000000",
          "2019-12-31T00:00:00.000000000",
          "2020-01-31T00:00:00.000000000",
          "2020-02-29T00:00:00.000000000",
          "2020-03-31T00:00:00.000000000",
          "2020-04-30T00:00:00.000000000",
          "2020-05-31T00:00:00.000000000",
          "2020-06-30T00:00:00.000000000",
          "2020-07-31T00:00:00.000000000",
          "2020-08-31T00:00:00.000000000",
          "2020-09-30T00:00:00.000000000",
          "2020-10-31T00:00:00.000000000",
          "2020-11-30T00:00:00.000000000",
          "2020-12-31T00:00:00.000000000",
          "2021-01-31T00:00:00.000000000",
          "2021-02-28T00:00:00.000000000",
          "2021-03-31T00:00:00.000000000",
          "2021-04-30T00:00:00.000000000",
          "2021-05-31T00:00:00.000000000",
          "2021-06-30T00:00:00.000000000",
          "2021-07-31T00:00:00.000000000",
          "2021-08-31T00:00:00.000000000",
          "2021-09-30T00:00:00.000000000",
          "2021-10-31T00:00:00.000000000",
          "2021-11-30T00:00:00.000000000",
          "2021-12-31T00:00:00.000000000",
          "2022-01-31T00:00:00.000000000",
          "2022-02-28T00:00:00.000000000",
          "2022-03-31T00:00:00.000000000",
          "2022-04-30T00:00:00.000000000",
          "2022-05-31T00:00:00.000000000",
          "2022-06-30T00:00:00.000000000",
          "2022-07-31T00:00:00.000000000",
          "2022-08-31T00:00:00.000000000",
          "2022-09-30T00:00:00.000000000",
          "2022-10-31T00:00:00.000000000",
          "2022-11-30T00:00:00.000000000",
          "2022-12-31T00:00:00.000000000",
          "2023-01-31T00:00:00.000000000",
          "2023-02-28T00:00:00.000000000",
          "2023-03-31T00:00:00.000000000",
          "2023-04-30T00:00:00.000000000",
          "2023-05-31T00:00:00.000000000",
          "2023-06-30T00:00:00.000000000",
          "2023-07-31T00:00:00.000000000",
          "2023-08-31T00:00:00.000000000",
          "2023-09-30T00:00:00.000000000",
          "2023-10-31T00:00:00.000000000",
          "2023-11-30T00:00:00.000000000",
          "2023-12-31T00:00:00.000000000",
          "2024-01-31T00:00:00.000000000",
          "2024-02-29T00:00:00.000000000",
          "2024-03-31T00:00:00.000000000",
          "2024-04-30T00:00:00.000000000",
          "2024-05-31T00:00:00.000000000",
          "2024-06-30T00:00:00.000000000",
          "2024-07-31T00:00:00.000000000",
          "2024-08-31T00:00:00.000000000",
          "2024-09-30T00:00:00.000000000",
          "2024-10-31T00:00:00.000000000",
          "2024-11-30T00:00:00.000000000",
          "2024-12-31T00:00:00.000000000",
          "2025-01-31T00:00:00.000000000",
          "2025-02-28T00:00:00.000000000",
          "2025-03-31T00:00:00.000000000",
          "2025-04-30T00:00:00.000000000",
          "2025-05-31T00:00:00.000000000"
         ],
         "y": {
          "bdata": "AAAAAAAA+H8AAAAAAAD4fwAAAAAAAPh/AAAAAAAA+H8AAAAAAAD4fwAAAAAAAPh/AAAAAAAA+H8AAAAAAAD4fwAAAAAAAPh/AAAAAAAA+H8AAAAAAAD4fwAAAAAAAPh/AAAAAAAA+H8AAAAAAAD4fwAAAAAAAPh/AAAAAAAA+H8AAAAAAAD4fwAAAAAAAPh/AAAAAAAA+H8AAAAAAAD4fwAAAAAAAPh/AAAAAAAA+H8AAAAAAAD4fwAAAAAAAPh/AAAAAAAA+H8AAAAAAAD4fwAAAAAAAPh/AAAAAAAA+H8AAAAAAAD4fzMzMzMzMzFAMzMzMzMzMkDe3d3d3V0zQO/u7u7ubjNAd3d3d3f3M0AREREREREyQImIiIiICDJAIiIiIiIiMUBEREREREQxQAAAAAAAADJAERERERGRMkAiIiIiIiIzQLy7u7u7uzNAZmZmZmbmM0B3d3d3d3c0QO/u7u7ubjVAMzMzMzOzNUBVVVVVVdU2QAAAAAAAgDdAzczMzMzMN0BERERERMQ4QHd3d3d3dzlAEREREREROkBVVVVVVdU6QAAAAAAAADxAmpmZmZmZPEAzMzMzMzM9QCIiIiIiIj5AzczMzMzMPkARERERERFAQHd3d3d3N0BAERERERFRQEBVVVVVVVVAQN7d3d3d3UBAERERERFRQUAAAAAAAIBBQBERERERkUFAAAAAAADAQUDNzMzMzIxBQO/u7u7uLkFAq6qqqqoqQUDv7u7u7u5AQDMzMzMzs0BAiYiIiIjIQkDv7u7u7i5DQKuqqqqq6kJAIiIiIiIiQ0BVVVVVVdVCQDMzMzMzs0JA",
          "dtype": "f8"
         }
        },
        {
         "line": {
          "color": "blue",
          "width": 3
         },
         "mode": "lines",
         "name": "Forks (30-day avg)",
         "type": "scatter",
         "x": [
          "2018-12-31T00:00:00.000000000",
          "2019-01-31T00:00:00.000000000",
          "2019-02-28T00:00:00.000000000",
          "2019-03-31T00:00:00.000000000",
          "2019-04-30T00:00:00.000000000",
          "2019-05-31T00:00:00.000000000",
          "2019-06-30T00:00:00.000000000",
          "2019-07-31T00:00:00.000000000",
          "2019-08-31T00:00:00.000000000",
          "2019-09-30T00:00:00.000000000",
          "2019-10-31T00:00:00.000000000",
          "2019-11-30T00:00:00.000000000",
          "2019-12-31T00:00:00.000000000",
          "2020-01-31T00:00:00.000000000",
          "2020-02-29T00:00:00.000000000",
          "2020-03-31T00:00:00.000000000",
          "2020-04-30T00:00:00.000000000",
          "2020-05-31T00:00:00.000000000",
          "2020-06-30T00:00:00.000000000",
          "2020-07-31T00:00:00.000000000",
          "2020-08-31T00:00:00.000000000",
          "2020-09-30T00:00:00.000000000",
          "2020-10-31T00:00:00.000000000",
          "2020-11-30T00:00:00.000000000",
          "2020-12-31T00:00:00.000000000",
          "2021-01-31T00:00:00.000000000",
          "2021-02-28T00:00:00.000000000",
          "2021-03-31T00:00:00.000000000",
          "2021-04-30T00:00:00.000000000",
          "2021-05-31T00:00:00.000000000",
          "2021-06-30T00:00:00.000000000",
          "2021-07-31T00:00:00.000000000",
          "2021-08-31T00:00:00.000000000",
          "2021-09-30T00:00:00.000000000",
          "2021-10-31T00:00:00.000000000",
          "2021-11-30T00:00:00.000000000",
          "2021-12-31T00:00:00.000000000",
          "2022-01-31T00:00:00.000000000",
          "2022-02-28T00:00:00.000000000",
          "2022-03-31T00:00:00.000000000",
          "2022-04-30T00:00:00.000000000",
          "2022-05-31T00:00:00.000000000",
          "2022-06-30T00:00:00.000000000",
          "2022-07-31T00:00:00.000000000",
          "2022-08-31T00:00:00.000000000",
          "2022-09-30T00:00:00.000000000",
          "2022-10-31T00:00:00.000000000",
          "2022-11-30T00:00:00.000000000",
          "2022-12-31T00:00:00.000000000",
          "2023-01-31T00:00:00.000000000",
          "2023-02-28T00:00:00.000000000",
          "2023-03-31T00:00:00.000000000",
          "2023-04-30T00:00:00.000000000",
          "2023-05-31T00:00:00.000000000",
          "2023-06-30T00:00:00.000000000",
          "2023-07-31T00:00:00.000000000",
          "2023-08-31T00:00:00.000000000",
          "2023-09-30T00:00:00.000000000",
          "2023-10-31T00:00:00.000000000",
          "2023-11-30T00:00:00.000000000",
          "2023-12-31T00:00:00.000000000",
          "2024-01-31T00:00:00.000000000",
          "2024-02-29T00:00:00.000000000",
          "2024-03-31T00:00:00.000000000",
          "2024-04-30T00:00:00.000000000",
          "2024-05-31T00:00:00.000000000",
          "2024-06-30T00:00:00.000000000",
          "2024-07-31T00:00:00.000000000",
          "2024-08-31T00:00:00.000000000",
          "2024-09-30T00:00:00.000000000",
          "2024-10-31T00:00:00.000000000",
          "2024-11-30T00:00:00.000000000",
          "2024-12-31T00:00:00.000000000",
          "2025-01-31T00:00:00.000000000",
          "2025-02-28T00:00:00.000000000",
          "2025-03-31T00:00:00.000000000",
          "2025-04-30T00:00:00.000000000",
          "2025-05-31T00:00:00.000000000"
         ],
         "y": {
          "bdata": "AAAAAAAA+H8AAAAAAAD4fwAAAAAAAPh/AAAAAAAA+H8AAAAAAAD4fwAAAAAAAPh/AAAAAAAA+H8AAAAAAAD4fwAAAAAAAPh/AAAAAAAA+H8AAAAAAAD4fwAAAAAAAPh/AAAAAAAA+H8AAAAAAAD4fwAAAAAAAPh/AAAAAAAA+H8AAAAAAAD4fwAAAAAAAPh/AAAAAAAA+H8AAAAAAAD4fwAAAAAAAPh/AAAAAAAA+H8AAAAAAAD4fwAAAAAAAPh/AAAAAAAA+H8AAAAAAAD4fwAAAAAAAPh/AAAAAAAA+H8AAAAAAAD4f1VVVVVVVeU/ZmZmZmZm5j+JiIiIiIjoP5qZmZmZmek/q6qqqqqq6j+rqqqqqqrqP+/u7u7u7u4/iYiIiIiI8D+amZmZmZnxPyIiIiIiIvI/ERERERER8T8iIiIiIiLyP6uqqqqqqvI/ERERERER8T+JiIiIiIjwP4mIiIiIiPA/AAAAAAAA8D8AAAAAAADwPxEREREREfE/q6qqqqqq8j8zMzMzMzPzPzMzMzMzM/M/RERERERE9D9VVVVVVVX1P1VVVVVVVfU/VVVVVVVV9T9VVVVVVVX1P+/u7u7u7vY/7+7u7u7u9j/v7u7u7u72P97d3d3d3fU/VVVVVVVV9T9ERERERET0P7y7u7u7u/M/VVVVVVVV9T/v7u7u7u72P1VVVVVVVfU/zczMzMzM9D/NzMzMzMz0P97d3d3d3fU/3t3d3d3d9T/NzMzMzMz0P83MzMzMzPQ/3t3d3d3d9T9mZmZmZmb2P2ZmZmZmZvY/7+7u7u7u9j/v7u7u7u72P97d3d3d3fU/",
          "dtype": "f8"
         }
        }
       ],
       "layout": {
        "height": 600,
        "legend": {
         "title": {
          "text": "Metric"
         }
        },
        "template": {
         "data": {
          "bar": [
           {
            "error_x": {
             "color": "#2a3f5f"
            },
            "error_y": {
             "color": "#2a3f5f"
            },
            "marker": {
             "line": {
              "color": "white",
              "width": 0.5
             },
             "pattern": {
              "fillmode": "overlay",
              "size": 10,
              "solidity": 0.2
             }
            },
            "type": "bar"
           }
          ],
          "barpolar": [
           {
            "marker": {
             "line": {
              "color": "white",
              "width": 0.5
             },
             "pattern": {
              "fillmode": "overlay",
              "size": 10,
              "solidity": 0.2
             }
            },
            "type": "barpolar"
           }
          ],
          "carpet": [
           {
            "aaxis": {
             "endlinecolor": "#2a3f5f",
             "gridcolor": "#C8D4E3",
             "linecolor": "#C8D4E3",
             "minorgridcolor": "#C8D4E3",
             "startlinecolor": "#2a3f5f"
            },
            "baxis": {
             "endlinecolor": "#2a3f5f",
             "gridcolor": "#C8D4E3",
             "linecolor": "#C8D4E3",
             "minorgridcolor": "#C8D4E3",
             "startlinecolor": "#2a3f5f"
            },
            "type": "carpet"
           }
          ],
          "choropleth": [
           {
            "colorbar": {
             "outlinewidth": 0,
             "ticks": ""
            },
            "type": "choropleth"
           }
          ],
          "contour": [
           {
            "colorbar": {
             "outlinewidth": 0,
             "ticks": ""
            },
            "colorscale": [
             [
              0,
              "#0d0887"
             ],
             [
              0.1111111111111111,
              "#46039f"
             ],
             [
              0.2222222222222222,
              "#7201a8"
             ],
             [
              0.3333333333333333,
              "#9c179e"
             ],
             [
              0.4444444444444444,
              "#bd3786"
             ],
             [
              0.5555555555555556,
              "#d8576b"
             ],
             [
              0.6666666666666666,
              "#ed7953"
             ],
             [
              0.7777777777777778,
              "#fb9f3a"
             ],
             [
              0.8888888888888888,
              "#fdca26"
             ],
             [
              1,
              "#f0f921"
             ]
            ],
            "type": "contour"
           }
          ],
          "contourcarpet": [
           {
            "colorbar": {
             "outlinewidth": 0,
             "ticks": ""
            },
            "type": "contourcarpet"
           }
          ],
          "heatmap": [
           {
            "colorbar": {
             "outlinewidth": 0,
             "ticks": ""
            },
            "colorscale": [
             [
              0,
              "#0d0887"
             ],
             [
              0.1111111111111111,
              "#46039f"
             ],
             [
              0.2222222222222222,
              "#7201a8"
             ],
             [
              0.3333333333333333,
              "#9c179e"
             ],
             [
              0.4444444444444444,
              "#bd3786"
             ],
             [
              0.5555555555555556,
              "#d8576b"
             ],
             [
              0.6666666666666666,
              "#ed7953"
             ],
             [
              0.7777777777777778,
              "#fb9f3a"
             ],
             [
              0.8888888888888888,
              "#fdca26"
             ],
             [
              1,
              "#f0f921"
             ]
            ],
            "type": "heatmap"
           }
          ],
          "histogram": [
           {
            "marker": {
             "pattern": {
              "fillmode": "overlay",
              "size": 10,
              "solidity": 0.2
             }
            },
            "type": "histogram"
           }
          ],
          "histogram2d": [
           {
            "colorbar": {
             "outlinewidth": 0,
             "ticks": ""
            },
            "colorscale": [
             [
              0,
              "#0d0887"
             ],
             [
              0.1111111111111111,
              "#46039f"
             ],
             [
              0.2222222222222222,
              "#7201a8"
             ],
             [
              0.3333333333333333,
              "#9c179e"
             ],
             [
              0.4444444444444444,
              "#bd3786"
             ],
             [
              0.5555555555555556,
              "#d8576b"
             ],
             [
              0.6666666666666666,
              "#ed7953"
             ],
             [
              0.7777777777777778,
              "#fb9f3a"
             ],
             [
              0.8888888888888888,
              "#fdca26"
             ],
             [
              1,
              "#f0f921"
             ]
            ],
            "type": "histogram2d"
           }
          ],
          "histogram2dcontour": [
           {
            "colorbar": {
             "outlinewidth": 0,
             "ticks": ""
            },
            "colorscale": [
             [
              0,
              "#0d0887"
             ],
             [
              0.1111111111111111,
              "#46039f"
             ],
             [
              0.2222222222222222,
              "#7201a8"
             ],
             [
              0.3333333333333333,
              "#9c179e"
             ],
             [
              0.4444444444444444,
              "#bd3786"
             ],
             [
              0.5555555555555556,
              "#d8576b"
             ],
             [
              0.6666666666666666,
              "#ed7953"
             ],
             [
              0.7777777777777778,
              "#fb9f3a"
             ],
             [
              0.8888888888888888,
              "#fdca26"
             ],
             [
              1,
              "#f0f921"
             ]
            ],
            "type": "histogram2dcontour"
           }
          ],
          "mesh3d": [
           {
            "colorbar": {
             "outlinewidth": 0,
             "ticks": ""
            },
            "type": "mesh3d"
           }
          ],
          "parcoords": [
           {
            "line": {
             "colorbar": {
              "outlinewidth": 0,
              "ticks": ""
             }
            },
            "type": "parcoords"
           }
          ],
          "pie": [
           {
            "automargin": true,
            "type": "pie"
           }
          ],
          "scatter": [
           {
            "fillpattern": {
             "fillmode": "overlay",
             "size": 10,
             "solidity": 0.2
            },
            "type": "scatter"
           }
          ],
          "scatter3d": [
           {
            "line": {
             "colorbar": {
              "outlinewidth": 0,
              "ticks": ""
             }
            },
            "marker": {
             "colorbar": {
              "outlinewidth": 0,
              "ticks": ""
             }
            },
            "type": "scatter3d"
           }
          ],
          "scattercarpet": [
           {
            "marker": {
             "colorbar": {
              "outlinewidth": 0,
              "ticks": ""
             }
            },
            "type": "scattercarpet"
           }
          ],
          "scattergeo": [
           {
            "marker": {
             "colorbar": {
              "outlinewidth": 0,
              "ticks": ""
             }
            },
            "type": "scattergeo"
           }
          ],
          "scattergl": [
           {
            "marker": {
             "colorbar": {
              "outlinewidth": 0,
              "ticks": ""
             }
            },
            "type": "scattergl"
           }
          ],
          "scattermap": [
           {
            "marker": {
             "colorbar": {
              "outlinewidth": 0,
              "ticks": ""
             }
            },
            "type": "scattermap"
           }
          ],
          "scattermapbox": [
           {
            "marker": {
             "colorbar": {
              "outlinewidth": 0,
              "ticks": ""
             }
            },
            "type": "scattermapbox"
           }
          ],
          "scatterpolar": [
           {
            "marker": {
             "colorbar": {
              "outlinewidth": 0,
              "ticks": ""
             }
            },
            "type": "scatterpolar"
           }
          ],
          "scatterpolargl": [
           {
            "marker": {
             "colorbar": {
              "outlinewidth": 0,
              "ticks": ""
             }
            },
            "type": "scatterpolargl"
           }
          ],
          "scatterternary": [
           {
            "marker": {
             "colorbar": {
              "outlinewidth": 0,
              "ticks": ""
             }
            },
            "type": "scatterternary"
           }
          ],
          "surface": [
           {
            "colorbar": {
             "outlinewidth": 0,
             "ticks": ""
            },
            "colorscale": [
             [
              0,
              "#0d0887"
             ],
             [
              0.1111111111111111,
              "#46039f"
             ],
             [
              0.2222222222222222,
              "#7201a8"
             ],
             [
              0.3333333333333333,
              "#9c179e"
             ],
             [
              0.4444444444444444,
              "#bd3786"
             ],
             [
              0.5555555555555556,
              "#d8576b"
             ],
             [
              0.6666666666666666,
              "#ed7953"
             ],
             [
              0.7777777777777778,
              "#fb9f3a"
             ],
             [
              0.8888888888888888,
              "#fdca26"
             ],
             [
              1,
              "#f0f921"
             ]
            ],
            "type": "surface"
           }
          ],
          "table": [
           {
            "cells": {
             "fill": {
              "color": "#EBF0F8"
             },
             "line": {
              "color": "white"
             }
            },
            "header": {
             "fill": {
              "color": "#C8D4E3"
             },
             "line": {
              "color": "white"
             }
            },
            "type": "table"
           }
          ]
         },
         "layout": {
          "annotationdefaults": {
           "arrowcolor": "#2a3f5f",
           "arrowhead": 0,
           "arrowwidth": 1
          },
          "autotypenumbers": "strict",
          "coloraxis": {
           "colorbar": {
            "outlinewidth": 0,
            "ticks": ""
           }
          },
          "colorscale": {
           "diverging": [
            [
             0,
             "#8e0152"
            ],
            [
             0.1,
             "#c51b7d"
            ],
            [
             0.2,
             "#de77ae"
            ],
            [
             0.3,
             "#f1b6da"
            ],
            [
             0.4,
             "#fde0ef"
            ],
            [
             0.5,
             "#f7f7f7"
            ],
            [
             0.6,
             "#e6f5d0"
            ],
            [
             0.7,
             "#b8e186"
            ],
            [
             0.8,
             "#7fbc41"
            ],
            [
             0.9,
             "#4d9221"
            ],
            [
             1,
             "#276419"
            ]
           ],
           "sequential": [
            [
             0,
             "#0d0887"
            ],
            [
             0.1111111111111111,
             "#46039f"
            ],
            [
             0.2222222222222222,
             "#7201a8"
            ],
            [
             0.3333333333333333,
             "#9c179e"
            ],
            [
             0.4444444444444444,
             "#bd3786"
            ],
            [
             0.5555555555555556,
             "#d8576b"
            ],
            [
             0.6666666666666666,
             "#ed7953"
            ],
            [
             0.7777777777777778,
             "#fb9f3a"
            ],
            [
             0.8888888888888888,
             "#fdca26"
            ],
            [
             1,
             "#f0f921"
            ]
           ],
           "sequentialminus": [
            [
             0,
             "#0d0887"
            ],
            [
             0.1111111111111111,
             "#46039f"
            ],
            [
             0.2222222222222222,
             "#7201a8"
            ],
            [
             0.3333333333333333,
             "#9c179e"
            ],
            [
             0.4444444444444444,
             "#bd3786"
            ],
            [
             0.5555555555555556,
             "#d8576b"
            ],
            [
             0.6666666666666666,
             "#ed7953"
            ],
            [
             0.7777777777777778,
             "#fb9f3a"
            ],
            [
             0.8888888888888888,
             "#fdca26"
            ],
            [
             1,
             "#f0f921"
            ]
           ]
          },
          "colorway": [
           "#636efa",
           "#EF553B",
           "#00cc96",
           "#ab63fa",
           "#FFA15A",
           "#19d3f3",
           "#FF6692",
           "#B6E880",
           "#FF97FF",
           "#FECB52"
          ],
          "font": {
           "color": "#2a3f5f"
          },
          "geo": {
           "bgcolor": "white",
           "lakecolor": "white",
           "landcolor": "white",
           "showlakes": true,
           "showland": true,
           "subunitcolor": "#C8D4E3"
          },
          "hoverlabel": {
           "align": "left"
          },
          "hovermode": "closest",
          "mapbox": {
           "style": "light"
          },
          "paper_bgcolor": "white",
          "plot_bgcolor": "white",
          "polar": {
           "angularaxis": {
            "gridcolor": "#EBF0F8",
            "linecolor": "#EBF0F8",
            "ticks": ""
           },
           "bgcolor": "white",
           "radialaxis": {
            "gridcolor": "#EBF0F8",
            "linecolor": "#EBF0F8",
            "ticks": ""
           }
          },
          "scene": {
           "xaxis": {
            "backgroundcolor": "white",
            "gridcolor": "#DFE8F3",
            "gridwidth": 2,
            "linecolor": "#EBF0F8",
            "showbackground": true,
            "ticks": "",
            "zerolinecolor": "#EBF0F8"
           },
           "yaxis": {
            "backgroundcolor": "white",
            "gridcolor": "#DFE8F3",
            "gridwidth": 2,
            "linecolor": "#EBF0F8",
            "showbackground": true,
            "ticks": "",
            "zerolinecolor": "#EBF0F8"
           },
           "zaxis": {
            "backgroundcolor": "white",
            "gridcolor": "#DFE8F3",
            "gridwidth": 2,
            "linecolor": "#EBF0F8",
            "showbackground": true,
            "ticks": "",
            "zerolinecolor": "#EBF0F8"
           }
          },
          "shapedefaults": {
           "line": {
            "color": "#2a3f5f"
           }
          },
          "ternary": {
           "aaxis": {
            "gridcolor": "#DFE8F3",
            "linecolor": "#A2B1C6",
            "ticks": ""
           },
           "baxis": {
            "gridcolor": "#DFE8F3",
            "linecolor": "#A2B1C6",
            "ticks": ""
           },
           "bgcolor": "white",
           "caxis": {
            "gridcolor": "#DFE8F3",
            "linecolor": "#A2B1C6",
            "ticks": ""
           }
          },
          "title": {
           "x": 0.05
          },
          "xaxis": {
           "automargin": true,
           "gridcolor": "#EBF0F8",
           "linecolor": "#EBF0F8",
           "ticks": "",
           "title": {
            "standoff": 15
           },
           "zerolinecolor": "#EBF0F8",
           "zerolinewidth": 2
          },
          "yaxis": {
           "automargin": true,
           "gridcolor": "#EBF0F8",
           "linecolor": "#EBF0F8",
           "ticks": "",
           "title": {
            "standoff": 15
           },
           "zerolinecolor": "#EBF0F8",
           "zerolinewidth": 2
          }
         }
        },
        "title": {
         "text": "Neoteroi/BlackSheep - Growth Rate (Rolling Average)"
        },
        "xaxis": {
         "title": {
          "text": "Date"
         }
        },
        "yaxis": {
         "title": {
          "text": "Average New Count (per 30 days)"
         }
        }
       }
      }
     },
     "metadata": {},
     "output_type": "display_data"
    }
   ],
   "source": [
    "\n",
    "\n",
    "plot_timeline(timeline_df, name)"
   ]
  },
  {
   "cell_type": "markdown",
   "id": "9ee7b92c",
   "metadata": {},
   "source": [
    "## Analyzing Key Milestones\n",
    "\n",
    "Let's create a function to identify key milestones in a repository's growth, such as:\n",
    "1. Days with unusually high star/fork activity\n",
    "2. Significant growth accelerations\n",
    "3. Milestone achievements (1k, 10k stars, etc.)"
   ]
  },
  {
   "cell_type": "code",
   "execution_count": 51,
   "id": "6cfc4200",
   "metadata": {},
   "outputs": [],
   "source": [
    "def identify_milestones(timeline_df):\n",
    "    \"\"\"\n",
    "    Identify key milestones and interesting points in the repository's history.\n",
    "    \n",
    "    Parameters:\n",
    "    -----------\n",
    "    timeline_df : pandas.DataFrame\n",
    "        DataFrame containing timeline data\n",
    "        \n",
    "    Returns:\n",
    "    --------\n",
    "    pandas.DataFrame\n",
    "        DataFrame with milestone information\n",
    "    \"\"\"\n",
    "    if timeline_df is None or timeline_df.empty:\n",
    "        return None\n",
    "    \n",
    "    milestones = []\n",
    "    \n",
    "    # 1. Find dates when the repository hit significant star counts\n",
    "    significant_counts = [100, 1000, 5000, 10000, 25000, 50000, 100000]\n",
    "    \n",
    "    for count in significant_counts:\n",
    "        milestone_row = timeline_df[timeline_df['total_stars'] >= count].iloc[0] if any(timeline_df['total_stars'] >= count) else None\n",
    "        if milestone_row is not None:\n",
    "            milestones.append({\n",
    "                'date': milestone_row['date'],\n",
    "                'type': 'achievement',\n",
    "                'description': f'Reached {count:,} stars',\n",
    "                'stars': milestone_row['total_stars'],\n",
    "                'forks': milestone_row['total_forks']\n",
    "            })\n",
    "    \n",
    "    # 2. Find days with unusually high star activity (>3 standard deviations)\n",
    "    mean_stars = timeline_df['new_stars'].mean()\n",
    "    std_stars = timeline_df['new_stars'].std()\n",
    "    threshold = mean_stars + (3 * std_stars)\n",
    "    \n",
    "    exceptional_days = timeline_df[timeline_df['new_stars'] > max(threshold, 10)]\n",
    "    \n",
    "    for _, row in exceptional_days.iterrows():\n",
    "        milestones.append({\n",
    "            'date': row['date'],\n",
    "            'type': 'peak_activity',\n",
    "            'description': f'Exceptional growth: {int(row[\"new_stars\"])} new stars in one day',\n",
    "            'stars': row['total_stars'],\n",
    "            'forks': row['total_forks']\n",
    "        })\n",
    "    \n",
    "    # Convert to DataFrame and sort by date\n",
    "    milestones_df = pd.DataFrame(milestones)\n",
    "    if not milestones_df.empty:\n",
    "        milestones_df = milestones_df.sort_values('date')\n",
    "    \n",
    "    return milestones_df"
   ]
  },
  {
   "cell_type": "code",
   "execution_count": 55,
   "id": "306c8dd1",
   "metadata": {},
   "outputs": [
    {
     "name": "stdout",
     "output_type": "stream",
     "text": [
      "\n",
      "Milestones DataFrame Preview:\n",
      "                       date           type  \\\n",
      "0 2019-04-30 00:00:00+00:00    achievement   \n",
      "1 2022-10-31 00:00:00+00:00    achievement   \n",
      "2 2023-10-31 00:00:00+00:00  peak_activity   \n",
      "3 2024-12-31 00:00:00+00:00  peak_activity   \n",
      "\n",
      "                                    description  stars  forks  \n",
      "0                             Reached 100 stars    107    1.0  \n",
      "1                           Reached 1,000 stars   1009   40.0  \n",
      "2   Exceptional growth: 97 new stars in one day   1443   60.0  \n",
      "3  Exceptional growth: 147 new stars in one day   2015   80.0  \n"
     ]
    },
    {
     "data": {
      "application/vnd.plotly.v1+json": {
       "config": {
        "plotlyServerURL": "https://plot.ly"
       },
       "data": [
        {
         "line": {
          "color": "gold",
          "width": 3
         },
         "mode": "lines",
         "name": "Total Stars",
         "type": "scatter",
         "x": [
          "2018-12-31T00:00:00.000000000",
          "2019-01-31T00:00:00.000000000",
          "2019-02-28T00:00:00.000000000",
          "2019-03-31T00:00:00.000000000",
          "2019-04-30T00:00:00.000000000",
          "2019-05-31T00:00:00.000000000",
          "2019-06-30T00:00:00.000000000",
          "2019-07-31T00:00:00.000000000",
          "2019-08-31T00:00:00.000000000",
          "2019-09-30T00:00:00.000000000",
          "2019-10-31T00:00:00.000000000",
          "2019-11-30T00:00:00.000000000",
          "2019-12-31T00:00:00.000000000",
          "2020-01-31T00:00:00.000000000",
          "2020-02-29T00:00:00.000000000",
          "2020-03-31T00:00:00.000000000",
          "2020-04-30T00:00:00.000000000",
          "2020-05-31T00:00:00.000000000",
          "2020-06-30T00:00:00.000000000",
          "2020-07-31T00:00:00.000000000",
          "2020-08-31T00:00:00.000000000",
          "2020-09-30T00:00:00.000000000",
          "2020-10-31T00:00:00.000000000",
          "2020-11-30T00:00:00.000000000",
          "2020-12-31T00:00:00.000000000",
          "2021-01-31T00:00:00.000000000",
          "2021-02-28T00:00:00.000000000",
          "2021-03-31T00:00:00.000000000",
          "2021-04-30T00:00:00.000000000",
          "2021-05-31T00:00:00.000000000",
          "2021-06-30T00:00:00.000000000",
          "2021-07-31T00:00:00.000000000",
          "2021-08-31T00:00:00.000000000",
          "2021-09-30T00:00:00.000000000",
          "2021-10-31T00:00:00.000000000",
          "2021-11-30T00:00:00.000000000",
          "2021-12-31T00:00:00.000000000",
          "2022-01-31T00:00:00.000000000",
          "2022-02-28T00:00:00.000000000",
          "2022-03-31T00:00:00.000000000",
          "2022-04-30T00:00:00.000000000",
          "2022-05-31T00:00:00.000000000",
          "2022-06-30T00:00:00.000000000",
          "2022-07-31T00:00:00.000000000",
          "2022-08-31T00:00:00.000000000",
          "2022-09-30T00:00:00.000000000",
          "2022-10-31T00:00:00.000000000",
          "2022-11-30T00:00:00.000000000",
          "2022-12-31T00:00:00.000000000",
          "2023-01-31T00:00:00.000000000",
          "2023-02-28T00:00:00.000000000",
          "2023-03-31T00:00:00.000000000",
          "2023-04-30T00:00:00.000000000",
          "2023-05-31T00:00:00.000000000",
          "2023-06-30T00:00:00.000000000",
          "2023-07-31T00:00:00.000000000",
          "2023-08-31T00:00:00.000000000",
          "2023-09-30T00:00:00.000000000",
          "2023-10-31T00:00:00.000000000",
          "2023-11-30T00:00:00.000000000",
          "2023-12-31T00:00:00.000000000",
          "2024-01-31T00:00:00.000000000",
          "2024-02-29T00:00:00.000000000",
          "2024-03-31T00:00:00.000000000",
          "2024-04-30T00:00:00.000000000",
          "2024-05-31T00:00:00.000000000",
          "2024-06-30T00:00:00.000000000",
          "2024-07-31T00:00:00.000000000",
          "2024-08-31T00:00:00.000000000",
          "2024-09-30T00:00:00.000000000",
          "2024-10-31T00:00:00.000000000",
          "2024-11-30T00:00:00.000000000",
          "2024-12-31T00:00:00.000000000",
          "2025-01-31T00:00:00.000000000",
          "2025-02-28T00:00:00.000000000",
          "2025-03-31T00:00:00.000000000",
          "2025-04-30T00:00:00.000000000",
          "2025-05-31T00:00:00.000000000"
         ],
         "y": {
          "bdata": "AQACABkAGwBrAIYAtQDWAOwA9gAEARIBIwEsATABPAFEAU0BWAFfAWgBdwF7AYABjAGWAZ4BpgHfAQQCIwJHAmACcgKJAqMCtwLcAggDIwNCA2IDeAOSA7MDxwPxAw4EIgRGBGQEhQSgBMgE5gQCBSYFQgWjBdEF9gUbBlQGgQajBsEG4Ab5Bg8HKQc6B0wH3wcRCCIIQwhbCHAI",
          "dtype": "i2"
         }
        },
        {
         "line": {
          "color": "blue",
          "width": 3
         },
         "mode": "lines",
         "name": "Total Forks",
         "type": "scatter",
         "x": [
          "2018-12-31T00:00:00.000000000",
          "2019-01-31T00:00:00.000000000",
          "2019-02-28T00:00:00.000000000",
          "2019-03-31T00:00:00.000000000",
          "2019-04-30T00:00:00.000000000",
          "2019-05-31T00:00:00.000000000",
          "2019-06-30T00:00:00.000000000",
          "2019-07-31T00:00:00.000000000",
          "2019-08-31T00:00:00.000000000",
          "2019-09-30T00:00:00.000000000",
          "2019-10-31T00:00:00.000000000",
          "2019-11-30T00:00:00.000000000",
          "2019-12-31T00:00:00.000000000",
          "2020-01-31T00:00:00.000000000",
          "2020-02-29T00:00:00.000000000",
          "2020-03-31T00:00:00.000000000",
          "2020-04-30T00:00:00.000000000",
          "2020-05-31T00:00:00.000000000",
          "2020-06-30T00:00:00.000000000",
          "2020-07-31T00:00:00.000000000",
          "2020-08-31T00:00:00.000000000",
          "2020-09-30T00:00:00.000000000",
          "2020-10-31T00:00:00.000000000",
          "2020-11-30T00:00:00.000000000",
          "2020-12-31T00:00:00.000000000",
          "2021-01-31T00:00:00.000000000",
          "2021-02-28T00:00:00.000000000",
          "2021-03-31T00:00:00.000000000",
          "2021-04-30T00:00:00.000000000",
          "2021-05-31T00:00:00.000000000",
          "2021-06-30T00:00:00.000000000",
          "2021-07-31T00:00:00.000000000",
          "2021-08-31T00:00:00.000000000",
          "2021-09-30T00:00:00.000000000",
          "2021-10-31T00:00:00.000000000",
          "2021-11-30T00:00:00.000000000",
          "2021-12-31T00:00:00.000000000",
          "2022-01-31T00:00:00.000000000",
          "2022-02-28T00:00:00.000000000",
          "2022-03-31T00:00:00.000000000",
          "2022-04-30T00:00:00.000000000",
          "2022-05-31T00:00:00.000000000",
          "2022-06-30T00:00:00.000000000",
          "2022-07-31T00:00:00.000000000",
          "2022-08-31T00:00:00.000000000",
          "2022-09-30T00:00:00.000000000",
          "2022-10-31T00:00:00.000000000",
          "2022-11-30T00:00:00.000000000",
          "2022-12-31T00:00:00.000000000",
          "2023-01-31T00:00:00.000000000",
          "2023-02-28T00:00:00.000000000",
          "2023-03-31T00:00:00.000000000",
          "2023-04-30T00:00:00.000000000",
          "2023-05-31T00:00:00.000000000",
          "2023-06-30T00:00:00.000000000",
          "2023-07-31T00:00:00.000000000",
          "2023-08-31T00:00:00.000000000",
          "2023-09-30T00:00:00.000000000",
          "2023-10-31T00:00:00.000000000",
          "2023-11-30T00:00:00.000000000",
          "2023-12-31T00:00:00.000000000",
          "2024-01-31T00:00:00.000000000",
          "2024-02-29T00:00:00.000000000",
          "2024-03-31T00:00:00.000000000",
          "2024-04-30T00:00:00.000000000",
          "2024-05-31T00:00:00.000000000",
          "2024-06-30T00:00:00.000000000",
          "2024-07-31T00:00:00.000000000",
          "2024-08-31T00:00:00.000000000",
          "2024-09-30T00:00:00.000000000",
          "2024-10-31T00:00:00.000000000",
          "2024-11-30T00:00:00.000000000",
          "2024-12-31T00:00:00.000000000",
          "2025-01-31T00:00:00.000000000",
          "2025-02-28T00:00:00.000000000",
          "2025-03-31T00:00:00.000000000",
          "2025-04-30T00:00:00.000000000",
          "2025-05-31T00:00:00.000000000"
         ],
         "y": {
          "bdata": "AAAAAAAAAAAAAAAAAAAAAAAAAAAAAPA/AAAAAAAA8D8AAAAAAADwPwAAAAAAAPA/AAAAAAAAAEAAAAAAAAAAQAAAAAAAAABAAAAAAAAAEEAAAAAAAAAQQAAAAAAAABBAAAAAAAAAHEAAAAAAAAAgQAAAAAAAACBAAAAAAAAAIkAAAAAAAAAkQAAAAAAAACRAAAAAAAAAJEAAAAAAAAAkQAAAAAAAACRAAAAAAAAAJkAAAAAAAAAoQAAAAAAAAChAAAAAAAAAKkAAAAAAAAAsQAAAAAAAACxAAAAAAAAALkAAAAAAAAAxQAAAAAAAADRAAAAAAAAANUAAAAAAAAA3QAAAAAAAADlAAAAAAAAAOkAAAAAAAAA6QAAAAAAAAD5AAAAAAACAQEAAAAAAAIBBQAAAAAAAAEJAAAAAAAAAQkAAAAAAAABDQAAAAAAAgENAAAAAAACAQ0AAAAAAAIBDQAAAAAAAgENAAAAAAACAQ0AAAAAAAABEQAAAAAAAAEVAAAAAAACARkAAAAAAAABHQAAAAAAAAEdAAAAAAACASEAAAAAAAABKQAAAAAAAAEpAAAAAAACASkAAAAAAAABLQAAAAAAAgExAAAAAAAAATUAAAAAAAABOQAAAAAAAgE5AAAAAAACATkAAAAAAAIBOQAAAAAAAAE9AAAAAAACAUEAAAAAAAEBRQAAAAAAAgFFAAAAAAAAAUkAAAAAAAIBSQAAAAAAAQFNAAAAAAABAU0AAAAAAAEBTQAAAAAAAgFNAAAAAAAAAVEAAAAAAAEBUQAAAAAAAQFRAAAAAAACAVEAAAAAAAMBUQAAAAAAAwFRA",
          "dtype": "f8"
         }
        },
        {
         "hoverinfo": "text",
         "hovertext": "Milestone 1: Reached 100 stars<br>Date: 2019-04-30<br>Stars: 107",
         "marker": {
          "color": "red",
          "size": 12,
          "symbol": "star"
         },
         "mode": "markers+text",
         "name": "M1: Reached 100 stars",
         "text": [
          "M1"
         ],
         "textposition": "top center",
         "type": "scatter",
         "x": [
          "2019-04-30T00:00:00+00:00"
         ],
         "y": [
          107
         ]
        },
        {
         "hoverinfo": "text",
         "hovertext": "Milestone 2: Reached 1,000 stars<br>Date: 2022-10-31<br>Stars: 1009",
         "marker": {
          "color": "red",
          "size": 12,
          "symbol": "star"
         },
         "mode": "markers+text",
         "name": "M2: Reached 1,000 stars",
         "text": [
          "M2"
         ],
         "textposition": "top center",
         "type": "scatter",
         "x": [
          "2022-10-31T00:00:00+00:00"
         ],
         "y": [
          1009
         ]
        },
        {
         "hoverinfo": "text",
         "hovertext": "Milestone 3: Exceptional growth: 97 new stars in one day<br>Date: 2023-10-31<br>Stars: 1443",
         "marker": {
          "color": "red",
          "size": 12,
          "symbol": "star"
         },
         "mode": "markers+text",
         "name": "M3: Exceptional growth: 97 new stars in one day",
         "text": [
          "M3"
         ],
         "textposition": "top center",
         "type": "scatter",
         "x": [
          "2023-10-31T00:00:00+00:00"
         ],
         "y": [
          1443
         ]
        },
        {
         "hoverinfo": "text",
         "hovertext": "Milestone 4: Exceptional growth: 147 new stars in one day<br>Date: 2024-12-31<br>Stars: 2015",
         "marker": {
          "color": "red",
          "size": 12,
          "symbol": "star"
         },
         "mode": "markers+text",
         "name": "M4: Exceptional growth: 147 new stars in one day",
         "text": [
          "M4"
         ],
         "textposition": "top center",
         "type": "scatter",
         "x": [
          "2024-12-31T00:00:00+00:00"
         ],
         "y": [
          2015
         ]
        }
       ],
       "layout": {
        "height": 600,
        "legend": {
         "bordercolor": "Black",
         "borderwidth": 1,
         "orientation": "v",
         "title": {
          "text": "Metrics & Milestones"
         },
         "x": 1.01,
         "xanchor": "left",
         "y": 1,
         "yanchor": "top"
        },
        "margin": {
         "r": 250
        },
        "template": {
         "data": {
          "bar": [
           {
            "error_x": {
             "color": "#2a3f5f"
            },
            "error_y": {
             "color": "#2a3f5f"
            },
            "marker": {
             "line": {
              "color": "white",
              "width": 0.5
             },
             "pattern": {
              "fillmode": "overlay",
              "size": 10,
              "solidity": 0.2
             }
            },
            "type": "bar"
           }
          ],
          "barpolar": [
           {
            "marker": {
             "line": {
              "color": "white",
              "width": 0.5
             },
             "pattern": {
              "fillmode": "overlay",
              "size": 10,
              "solidity": 0.2
             }
            },
            "type": "barpolar"
           }
          ],
          "carpet": [
           {
            "aaxis": {
             "endlinecolor": "#2a3f5f",
             "gridcolor": "#C8D4E3",
             "linecolor": "#C8D4E3",
             "minorgridcolor": "#C8D4E3",
             "startlinecolor": "#2a3f5f"
            },
            "baxis": {
             "endlinecolor": "#2a3f5f",
             "gridcolor": "#C8D4E3",
             "linecolor": "#C8D4E3",
             "minorgridcolor": "#C8D4E3",
             "startlinecolor": "#2a3f5f"
            },
            "type": "carpet"
           }
          ],
          "choropleth": [
           {
            "colorbar": {
             "outlinewidth": 0,
             "ticks": ""
            },
            "type": "choropleth"
           }
          ],
          "contour": [
           {
            "colorbar": {
             "outlinewidth": 0,
             "ticks": ""
            },
            "colorscale": [
             [
              0,
              "#0d0887"
             ],
             [
              0.1111111111111111,
              "#46039f"
             ],
             [
              0.2222222222222222,
              "#7201a8"
             ],
             [
              0.3333333333333333,
              "#9c179e"
             ],
             [
              0.4444444444444444,
              "#bd3786"
             ],
             [
              0.5555555555555556,
              "#d8576b"
             ],
             [
              0.6666666666666666,
              "#ed7953"
             ],
             [
              0.7777777777777778,
              "#fb9f3a"
             ],
             [
              0.8888888888888888,
              "#fdca26"
             ],
             [
              1,
              "#f0f921"
             ]
            ],
            "type": "contour"
           }
          ],
          "contourcarpet": [
           {
            "colorbar": {
             "outlinewidth": 0,
             "ticks": ""
            },
            "type": "contourcarpet"
           }
          ],
          "heatmap": [
           {
            "colorbar": {
             "outlinewidth": 0,
             "ticks": ""
            },
            "colorscale": [
             [
              0,
              "#0d0887"
             ],
             [
              0.1111111111111111,
              "#46039f"
             ],
             [
              0.2222222222222222,
              "#7201a8"
             ],
             [
              0.3333333333333333,
              "#9c179e"
             ],
             [
              0.4444444444444444,
              "#bd3786"
             ],
             [
              0.5555555555555556,
              "#d8576b"
             ],
             [
              0.6666666666666666,
              "#ed7953"
             ],
             [
              0.7777777777777778,
              "#fb9f3a"
             ],
             [
              0.8888888888888888,
              "#fdca26"
             ],
             [
              1,
              "#f0f921"
             ]
            ],
            "type": "heatmap"
           }
          ],
          "histogram": [
           {
            "marker": {
             "pattern": {
              "fillmode": "overlay",
              "size": 10,
              "solidity": 0.2
             }
            },
            "type": "histogram"
           }
          ],
          "histogram2d": [
           {
            "colorbar": {
             "outlinewidth": 0,
             "ticks": ""
            },
            "colorscale": [
             [
              0,
              "#0d0887"
             ],
             [
              0.1111111111111111,
              "#46039f"
             ],
             [
              0.2222222222222222,
              "#7201a8"
             ],
             [
              0.3333333333333333,
              "#9c179e"
             ],
             [
              0.4444444444444444,
              "#bd3786"
             ],
             [
              0.5555555555555556,
              "#d8576b"
             ],
             [
              0.6666666666666666,
              "#ed7953"
             ],
             [
              0.7777777777777778,
              "#fb9f3a"
             ],
             [
              0.8888888888888888,
              "#fdca26"
             ],
             [
              1,
              "#f0f921"
             ]
            ],
            "type": "histogram2d"
           }
          ],
          "histogram2dcontour": [
           {
            "colorbar": {
             "outlinewidth": 0,
             "ticks": ""
            },
            "colorscale": [
             [
              0,
              "#0d0887"
             ],
             [
              0.1111111111111111,
              "#46039f"
             ],
             [
              0.2222222222222222,
              "#7201a8"
             ],
             [
              0.3333333333333333,
              "#9c179e"
             ],
             [
              0.4444444444444444,
              "#bd3786"
             ],
             [
              0.5555555555555556,
              "#d8576b"
             ],
             [
              0.6666666666666666,
              "#ed7953"
             ],
             [
              0.7777777777777778,
              "#fb9f3a"
             ],
             [
              0.8888888888888888,
              "#fdca26"
             ],
             [
              1,
              "#f0f921"
             ]
            ],
            "type": "histogram2dcontour"
           }
          ],
          "mesh3d": [
           {
            "colorbar": {
             "outlinewidth": 0,
             "ticks": ""
            },
            "type": "mesh3d"
           }
          ],
          "parcoords": [
           {
            "line": {
             "colorbar": {
              "outlinewidth": 0,
              "ticks": ""
             }
            },
            "type": "parcoords"
           }
          ],
          "pie": [
           {
            "automargin": true,
            "type": "pie"
           }
          ],
          "scatter": [
           {
            "fillpattern": {
             "fillmode": "overlay",
             "size": 10,
             "solidity": 0.2
            },
            "type": "scatter"
           }
          ],
          "scatter3d": [
           {
            "line": {
             "colorbar": {
              "outlinewidth": 0,
              "ticks": ""
             }
            },
            "marker": {
             "colorbar": {
              "outlinewidth": 0,
              "ticks": ""
             }
            },
            "type": "scatter3d"
           }
          ],
          "scattercarpet": [
           {
            "marker": {
             "colorbar": {
              "outlinewidth": 0,
              "ticks": ""
             }
            },
            "type": "scattercarpet"
           }
          ],
          "scattergeo": [
           {
            "marker": {
             "colorbar": {
              "outlinewidth": 0,
              "ticks": ""
             }
            },
            "type": "scattergeo"
           }
          ],
          "scattergl": [
           {
            "marker": {
             "colorbar": {
              "outlinewidth": 0,
              "ticks": ""
             }
            },
            "type": "scattergl"
           }
          ],
          "scattermap": [
           {
            "marker": {
             "colorbar": {
              "outlinewidth": 0,
              "ticks": ""
             }
            },
            "type": "scattermap"
           }
          ],
          "scattermapbox": [
           {
            "marker": {
             "colorbar": {
              "outlinewidth": 0,
              "ticks": ""
             }
            },
            "type": "scattermapbox"
           }
          ],
          "scatterpolar": [
           {
            "marker": {
             "colorbar": {
              "outlinewidth": 0,
              "ticks": ""
             }
            },
            "type": "scatterpolar"
           }
          ],
          "scatterpolargl": [
           {
            "marker": {
             "colorbar": {
              "outlinewidth": 0,
              "ticks": ""
             }
            },
            "type": "scatterpolargl"
           }
          ],
          "scatterternary": [
           {
            "marker": {
             "colorbar": {
              "outlinewidth": 0,
              "ticks": ""
             }
            },
            "type": "scatterternary"
           }
          ],
          "surface": [
           {
            "colorbar": {
             "outlinewidth": 0,
             "ticks": ""
            },
            "colorscale": [
             [
              0,
              "#0d0887"
             ],
             [
              0.1111111111111111,
              "#46039f"
             ],
             [
              0.2222222222222222,
              "#7201a8"
             ],
             [
              0.3333333333333333,
              "#9c179e"
             ],
             [
              0.4444444444444444,
              "#bd3786"
             ],
             [
              0.5555555555555556,
              "#d8576b"
             ],
             [
              0.6666666666666666,
              "#ed7953"
             ],
             [
              0.7777777777777778,
              "#fb9f3a"
             ],
             [
              0.8888888888888888,
              "#fdca26"
             ],
             [
              1,
              "#f0f921"
             ]
            ],
            "type": "surface"
           }
          ],
          "table": [
           {
            "cells": {
             "fill": {
              "color": "#EBF0F8"
             },
             "line": {
              "color": "white"
             }
            },
            "header": {
             "fill": {
              "color": "#C8D4E3"
             },
             "line": {
              "color": "white"
             }
            },
            "type": "table"
           }
          ]
         },
         "layout": {
          "annotationdefaults": {
           "arrowcolor": "#2a3f5f",
           "arrowhead": 0,
           "arrowwidth": 1
          },
          "autotypenumbers": "strict",
          "coloraxis": {
           "colorbar": {
            "outlinewidth": 0,
            "ticks": ""
           }
          },
          "colorscale": {
           "diverging": [
            [
             0,
             "#8e0152"
            ],
            [
             0.1,
             "#c51b7d"
            ],
            [
             0.2,
             "#de77ae"
            ],
            [
             0.3,
             "#f1b6da"
            ],
            [
             0.4,
             "#fde0ef"
            ],
            [
             0.5,
             "#f7f7f7"
            ],
            [
             0.6,
             "#e6f5d0"
            ],
            [
             0.7,
             "#b8e186"
            ],
            [
             0.8,
             "#7fbc41"
            ],
            [
             0.9,
             "#4d9221"
            ],
            [
             1,
             "#276419"
            ]
           ],
           "sequential": [
            [
             0,
             "#0d0887"
            ],
            [
             0.1111111111111111,
             "#46039f"
            ],
            [
             0.2222222222222222,
             "#7201a8"
            ],
            [
             0.3333333333333333,
             "#9c179e"
            ],
            [
             0.4444444444444444,
             "#bd3786"
            ],
            [
             0.5555555555555556,
             "#d8576b"
            ],
            [
             0.6666666666666666,
             "#ed7953"
            ],
            [
             0.7777777777777778,
             "#fb9f3a"
            ],
            [
             0.8888888888888888,
             "#fdca26"
            ],
            [
             1,
             "#f0f921"
            ]
           ],
           "sequentialminus": [
            [
             0,
             "#0d0887"
            ],
            [
             0.1111111111111111,
             "#46039f"
            ],
            [
             0.2222222222222222,
             "#7201a8"
            ],
            [
             0.3333333333333333,
             "#9c179e"
            ],
            [
             0.4444444444444444,
             "#bd3786"
            ],
            [
             0.5555555555555556,
             "#d8576b"
            ],
            [
             0.6666666666666666,
             "#ed7953"
            ],
            [
             0.7777777777777778,
             "#fb9f3a"
            ],
            [
             0.8888888888888888,
             "#fdca26"
            ],
            [
             1,
             "#f0f921"
            ]
           ]
          },
          "colorway": [
           "#636efa",
           "#EF553B",
           "#00cc96",
           "#ab63fa",
           "#FFA15A",
           "#19d3f3",
           "#FF6692",
           "#B6E880",
           "#FF97FF",
           "#FECB52"
          ],
          "font": {
           "color": "#2a3f5f"
          },
          "geo": {
           "bgcolor": "white",
           "lakecolor": "white",
           "landcolor": "white",
           "showlakes": true,
           "showland": true,
           "subunitcolor": "#C8D4E3"
          },
          "hoverlabel": {
           "align": "left"
          },
          "hovermode": "closest",
          "mapbox": {
           "style": "light"
          },
          "paper_bgcolor": "white",
          "plot_bgcolor": "white",
          "polar": {
           "angularaxis": {
            "gridcolor": "#EBF0F8",
            "linecolor": "#EBF0F8",
            "ticks": ""
           },
           "bgcolor": "white",
           "radialaxis": {
            "gridcolor": "#EBF0F8",
            "linecolor": "#EBF0F8",
            "ticks": ""
           }
          },
          "scene": {
           "xaxis": {
            "backgroundcolor": "white",
            "gridcolor": "#DFE8F3",
            "gridwidth": 2,
            "linecolor": "#EBF0F8",
            "showbackground": true,
            "ticks": "",
            "zerolinecolor": "#EBF0F8"
           },
           "yaxis": {
            "backgroundcolor": "white",
            "gridcolor": "#DFE8F3",
            "gridwidth": 2,
            "linecolor": "#EBF0F8",
            "showbackground": true,
            "ticks": "",
            "zerolinecolor": "#EBF0F8"
           },
           "zaxis": {
            "backgroundcolor": "white",
            "gridcolor": "#DFE8F3",
            "gridwidth": 2,
            "linecolor": "#EBF0F8",
            "showbackground": true,
            "ticks": "",
            "zerolinecolor": "#EBF0F8"
           }
          },
          "shapedefaults": {
           "line": {
            "color": "#2a3f5f"
           }
          },
          "ternary": {
           "aaxis": {
            "gridcolor": "#DFE8F3",
            "linecolor": "#A2B1C6",
            "ticks": ""
           },
           "baxis": {
            "gridcolor": "#DFE8F3",
            "linecolor": "#A2B1C6",
            "ticks": ""
           },
           "bgcolor": "white",
           "caxis": {
            "gridcolor": "#DFE8F3",
            "linecolor": "#A2B1C6",
            "ticks": ""
           }
          },
          "title": {
           "x": 0.05
          },
          "xaxis": {
           "automargin": true,
           "gridcolor": "#EBF0F8",
           "linecolor": "#EBF0F8",
           "ticks": "",
           "title": {
            "standoff": 15
           },
           "zerolinecolor": "#EBF0F8",
           "zerolinewidth": 2
          },
          "yaxis": {
           "automargin": true,
           "gridcolor": "#EBF0F8",
           "linecolor": "#EBF0F8",
           "ticks": "",
           "title": {
            "standoff": 15
           },
           "zerolinecolor": "#EBF0F8",
           "zerolinewidth": 2
          }
         }
        },
        "title": {
         "text": "Neoteroi/BlackSheep - Repository Growth with Milestones"
        },
        "xaxis": {
         "title": {
          "text": "Date"
         }
        },
        "yaxis": {
         "title": {
          "text": "Count"
         }
        }
       }
      }
     },
     "metadata": {},
     "output_type": "display_data"
    }
   ],
   "source": [
    "# Identify milestones\n",
    "milestones_df = identify_milestones(timeline_df)\n",
    "print(\"\\nMilestones DataFrame Preview:\")\n",
    "print(milestones_df.head() if milestones_df is not None else \"No milestones found\")\n",
    "# Plot milestones on the timeline\n",
    "\n",
    "def plot_milestones(timeline_df, milestones_df, repo_name):\n",
    "    \"\"\"\n",
    "    Plot the repository timeline with milestones highlighted.\n",
    "    \n",
    "    Parameters:\n",
    "    -----------\n",
    "    timeline_df : pandas.DataFrame\n",
    "        DataFrame containing timeline data\n",
    "    milestones_df : pandas.DataFrame\n",
    "        DataFrame containing milestone data\n",
    "    repo_name : str\n",
    "        Name of the repository\n",
    "    \"\"\"\n",
    "    if timeline_df is None or milestones_df is None or timeline_df.empty or milestones_df.empty:\n",
    "        print(\"No data available to plot\")\n",
    "        return\n",
    "    \n",
    "    fig = go.Figure()\n",
    "    \n",
    "    # Add cumulative stars and forks\n",
    "    fig.add_trace(go.Scatter(\n",
    "        x=timeline_df['date'],\n",
    "        y=timeline_df['total_stars'],\n",
    "        mode='lines',\n",
    "        name='Total Stars',\n",
    "        line=dict(color='gold', width=3)\n",
    "    ))\n",
    "    \n",
    "    fig.add_trace(go.Scatter(\n",
    "        x=timeline_df['date'],\n",
    "        y=timeline_df['total_forks'],\n",
    "        mode='lines',\n",
    "        name='Total Forks',\n",
    "        line=dict(color='blue', width=3)\n",
    "    ))\n",
    "    \n",
    "    # Add milestones with numbers\n",
    "    for i, milestone in milestones_df.iterrows():\n",
    "        milestone_num = i + 1  # Start numbering from 1\n",
    "        fig.add_trace(go.Scatter(\n",
    "            x=[milestone['date']],\n",
    "            y=[milestone['stars']],\n",
    "            mode='markers+text',\n",
    "            name=f\"M{milestone_num}: {milestone['description']}\",\n",
    "            marker=dict(size=12, color='red', symbol='star'),\n",
    "            text=[f\"M{milestone_num}\"],\n",
    "            textposition='top center',\n",
    "            hoverinfo='text',\n",
    "            hovertext=f\"Milestone {milestone_num}: {milestone['description']}<br>Date: {milestone['date'].strftime('%Y-%m-%d')}<br>Stars: {milestone['stars']}\"\n",
    "        ))\n",
    "    \n",
    "    fig.update_layout(\n",
    "        title=f'{repo_name} - Repository Growth with Milestones',\n",
    "        xaxis_title='Date',\n",
    "        yaxis_title='Count',\n",
    "        legend_title='Metrics & Milestones',\n",
    "        template='plotly_white',\n",
    "        height=600,\n",
    "        # Position legend to the right of the plot\n",
    "        legend=dict(\n",
    "            orientation=\"v\",\n",
    "            yanchor=\"top\",\n",
    "            y=1.0,\n",
    "            xanchor=\"left\",\n",
    "            x=1.01,\n",
    "            bordercolor=\"Black\",\n",
    "            borderwidth=1\n",
    "        ),\n",
    "        # Add margin to make room for the legend\n",
    "        margin=dict(r=250)  # Increased right margin\n",
    "    )\n",
    "    \n",
    "    fig.show()\n",
    "\n",
    "# Plot the milestones on the timeline\n",
    "plot_milestones(timeline_df, milestones_df, name)\n"
   ]
  },
  {
   "cell_type": "markdown",
   "id": "068e1e97",
   "metadata": {},
   "source": [
    "## Putting It All Together\n",
    "\n",
    "Now let's build a complete workflow to analyze any GitHub repository's stars and forks timeline."
   ]
  },
  {
   "cell_type": "code",
   "execution_count": 53,
   "id": "688c2b9c",
   "metadata": {},
   "outputs": [],
   "source": [
    "def analyze_github_repository(repo_name, time_freq='W'):\n",
    "    \"\"\"\n",
    "    Complete analysis of a GitHub repository's stars and forks timeline.\n",
    "    \n",
    "    Parameters:\n",
    "    -----------\n",
    "    repo_name : str\n",
    "        Repository name in format \"owner/repo\" (e.g., \"facebook/react\")\n",
    "    time_freq : str\n",
    "        Time frequency for aggregation ('D' for daily, 'W' for weekly, 'M' for monthly)\n",
    "    \"\"\"\n",
    "    print(f\"Starting analysis for {repo_name}\")\n",
    "    print(\"-\" * 50)\n",
    "    \n",
    "    # 1. Fetch data\n",
    "    stars_df, forks_df = fetch_repo_data(repo_name)\n",
    "    \n",
    "    if stars_df is None or forks_df is None:\n",
    "        print(\"Failed to fetch repository data. Please check the repository name and your API access.\")\n",
    "        return\n",
    "    \n",
    "    # 2. Process timeline data\n",
    "    print(\"\\nProcessing timeline data...\")\n",
    "    timeline_df = process_timeline_data(stars_df, forks_df, freq=time_freq)\n",
    "    \n",
    "    # 3. Identify key milestones\n",
    "    print(\"\\nIdentifying key milestones...\")\n",
    "    milestones_df = identify_milestones(timeline_df)\n",
    "    \n",
    "    # 4. Display results\n",
    "    print(\"\\n=== ANALYSIS RESULTS ===\")\n",
    "    print(f\"Repository: {repo_name}\")\n",
    "    print(f\"Total data points: {len(timeline_df)} time periods\")\n",
    "    print(f\"First activity date: {timeline_df['date'].min()}\")\n",
    "    print(f\"Latest activity date: {timeline_df['date'].max()}\")\n",
    "    print(f\"Current stars: {timeline_df['total_stars'].max():,}\")\n",
    "    print(f\"Current forks: {timeline_df['total_forks'].max():,}\")\n",
    "    \n",
    "    # 5. Display milestones\n",
    "    if milestones_df is not None and not milestones_df.empty:\n",
    "        print(\"\\n=== KEY MILESTONES ===\")\n",
    "        for _, milestone in milestones_df.iterrows():\n",
    "            print(f\"{milestone['date'].strftime('%Y-%m-%d')} - {milestone['description']}\")\n",
    "    \n",
    "    # 6. Visualize the data\n",
    "    print(\"\\nGenerating visualizations...\")\n",
    "    plot_timeline(timeline_df, repo_name)\n",
    "    \n",
    "    return timeline_df, milestones_df"
   ]
  },
  {
   "cell_type": "markdown",
   "id": "8ff0bfcc",
   "metadata": {},
   "source": [
    "## Example: Analyzing a Popular Repository\n",
    "\n",
    "Let's analyze a well-known open-source project to demonstrate the tool. We'll use the pandas library as an example."
   ]
  },
  {
   "cell_type": "code",
   "execution_count": 11,
   "id": "2cbd8707",
   "metadata": {},
   "outputs": [
    {
     "name": "stdout",
     "output_type": "stream",
     "text": [
      "Starting analysis for Neoteroi/BlackSheep\n",
      "--------------------------------------------------\n",
      "Fetching data for repository: Neoteroi/BlackSheep\n",
      "Repository: Neoteroi/BlackSheep\n",
      "Description: Fast ASGI web framework for Python\n",
      "Stars: 2160\n",
      "Forks: 82\n",
      "\n",
      "Fetching stargazers timeline...\n"
     ]
    },
    {
     "data": {
      "application/json": {
       "ascii": false,
       "bar_format": null,
       "colour": null,
       "elapsed": 0.005831003189086914,
       "initial": 0,
       "n": 0,
       "ncols": null,
       "nrows": null,
       "postfix": null,
       "prefix": "",
       "rate": null,
       "total": 2160,
       "unit": "it",
       "unit_divisor": 1000,
       "unit_scale": false
      },
      "application/vnd.jupyter.widget-view+json": {
       "model_id": "f5e83d10eb1e44ccb399a21542c43ee0",
       "version_major": 2,
       "version_minor": 0
      },
      "text/plain": [
       "  0%|          | 0/2160 [00:00<?, ?it/s]"
      ]
     },
     "metadata": {},
     "output_type": "display_data"
    },
    {
     "name": "stdout",
     "output_type": "stream",
     "text": [
      "AA 0\n",
      "AA 1\n",
      "AA 2\n",
      "AA 3\n",
      "AA 4\n",
      "AA 5\n",
      "AA 6\n",
      "AA 7\n",
      "AA 8\n",
      "AA 9\n",
      "AA 10\n",
      "AA 11\n",
      "AA 12\n",
      "AA 13\n",
      "AA 14\n",
      "AA 15\n",
      "AA 16\n",
      "AA 17\n",
      "AA 18\n",
      "AA 19\n",
      "AA 20\n",
      "AA 21\n",
      "AA 22\n",
      "AA 23\n",
      "AA 24\n",
      "AA 25\n",
      "AA 26\n",
      "AA 27\n",
      "AA 28\n",
      "AA 29\n",
      "AA 30\n",
      "AA 31\n",
      "AA 32\n",
      "AA 33\n",
      "AA 34\n",
      "AA 35\n",
      "AA 36\n",
      "AA 37\n",
      "AA 38\n",
      "AA 39\n",
      "AA 40\n",
      "AA 41\n",
      "AA 42\n",
      "AA 43\n",
      "AA 44\n",
      "AA 45\n",
      "AA 46\n",
      "AA 47\n",
      "AA 48\n",
      "AA 49\n",
      "AA 50\n",
      "AA 51\n",
      "AA 52\n",
      "AA 53\n",
      "AA 54\n",
      "AA 55\n",
      "AA 56\n",
      "AA 57\n",
      "AA 58\n",
      "AA 59\n",
      "AA 60\n",
      "AA 61\n",
      "AA 62\n",
      "AA 63\n",
      "AA 64\n",
      "AA 65\n",
      "AA 66\n",
      "AA 67\n",
      "AA 68\n",
      "AA 69\n",
      "AA 70\n",
      "AA 71\n",
      "AA 72\n",
      "AA 73\n",
      "AA 74\n",
      "AA 75\n",
      "AA 76\n",
      "AA 77\n",
      "AA 78\n",
      "AA 79\n",
      "AA 80\n",
      "AA 81\n",
      "AA 82\n",
      "AA 83\n",
      "AA 84\n",
      "AA 85\n",
      "AA 86\n",
      "AA 87\n",
      "AA 88\n",
      "AA 89\n",
      "AA 90\n",
      "AA 91\n",
      "AA 92\n",
      "AA 93\n",
      "AA 94\n",
      "AA 95\n",
      "AA 96\n",
      "AA 97\n",
      "AA 98\n",
      "AA 99\n",
      "AA 100\n",
      "AA 101\n",
      "AA 102\n",
      "AA 103\n",
      "AA 104\n",
      "AA 105\n",
      "AA 106\n",
      "AA 107\n",
      "AA 108\n",
      "AA 109\n",
      "AA 110\n",
      "AA 111\n",
      "AA 112\n",
      "AA 113\n",
      "AA 114\n",
      "AA 115\n",
      "AA 116\n",
      "AA 117\n",
      "AA 118\n",
      "AA 119\n",
      "AA 120\n",
      "AA 121\n",
      "AA 122\n",
      "AA 123\n",
      "AA 124\n",
      "AA 125\n",
      "AA 126\n",
      "AA 127\n",
      "AA 128\n",
      "AA 129\n",
      "AA 130\n",
      "AA 131\n",
      "AA 132\n",
      "AA 133\n",
      "AA 134\n",
      "AA 135\n",
      "AA 136\n",
      "AA 137\n",
      "AA 138\n",
      "AA 139\n",
      "AA 140\n",
      "AA 141\n",
      "AA 142\n",
      "AA 143\n",
      "AA 144\n",
      "AA 145\n",
      "AA 146\n",
      "AA 147\n",
      "AA 148\n",
      "AA 149\n",
      "AA 150\n",
      "AA 151\n",
      "AA 152\n",
      "AA 153\n",
      "AA 154\n",
      "AA 155\n",
      "AA 156\n",
      "AA 157\n",
      "AA 158\n",
      "AA 159\n",
      "AA 160\n",
      "AA 161\n",
      "AA 162\n",
      "AA 163\n",
      "AA 164\n",
      "AA 165\n",
      "AA 166\n",
      "AA 167\n",
      "AA 168\n",
      "AA 169\n",
      "AA 170\n",
      "AA 171\n",
      "AA 172\n",
      "AA 173\n",
      "AA 174\n",
      "AA 175\n",
      "AA 176\n",
      "AA 177\n",
      "AA 178\n",
      "AA 179\n",
      "AA 180\n",
      "AA 181\n",
      "AA 182\n",
      "AA 183\n",
      "AA 184\n",
      "AA 185\n",
      "AA 186\n",
      "AA 187\n",
      "AA 188\n",
      "AA 189\n",
      "AA 190\n",
      "AA 191\n",
      "AA 192\n",
      "AA 193\n",
      "AA 194\n",
      "AA 195\n",
      "AA 196\n",
      "AA 197\n",
      "AA 198\n",
      "AA 199\n",
      "AA 200\n",
      "AA 201\n",
      "AA 202\n",
      "AA 203\n",
      "AA 204\n",
      "AA 205\n",
      "AA 206\n",
      "AA 207\n",
      "AA 208\n",
      "AA 209\n",
      "AA 210\n",
      "AA 211\n",
      "AA 212\n",
      "AA 213\n",
      "AA 214\n",
      "AA 215\n",
      "AA 216\n",
      "AA 217\n",
      "AA 218\n",
      "AA 219\n",
      "AA 220\n",
      "AA 221\n",
      "AA 222\n",
      "AA 223\n",
      "AA 224\n",
      "AA 225\n",
      "AA 226\n",
      "AA 227\n",
      "AA 228\n",
      "AA 229\n",
      "AA 230\n",
      "AA 231\n",
      "AA 232\n",
      "AA 233\n",
      "AA 234\n",
      "AA 235\n",
      "AA 236\n",
      "AA 237\n",
      "AA 238\n",
      "AA 239\n",
      "AA 240\n",
      "AA 241\n",
      "AA 242\n",
      "AA 243\n",
      "AA 244\n",
      "AA 245\n",
      "AA 246\n",
      "AA 247\n",
      "AA 248\n",
      "AA 249\n",
      "AA 250\n",
      "AA 251\n",
      "AA 252\n",
      "AA 253\n",
      "AA 254\n",
      "AA 255\n",
      "AA 256\n",
      "AA 257\n",
      "AA 258\n",
      "AA 259\n",
      "AA 260\n",
      "AA 261\n",
      "AA 262\n",
      "AA 263\n",
      "AA 264\n",
      "AA 265\n",
      "AA 266\n",
      "AA 267\n",
      "AA 268\n",
      "AA 269\n",
      "AA 270\n",
      "AA 271\n",
      "AA 272\n",
      "AA 273\n",
      "AA 274\n",
      "AA 275\n",
      "AA 276\n",
      "AA 277\n",
      "AA 278\n",
      "AA 279\n",
      "AA 280\n",
      "AA 281\n",
      "AA 282\n",
      "AA 283\n",
      "AA 284\n",
      "AA 285\n",
      "AA 286\n",
      "AA 287\n",
      "AA 288\n",
      "AA 289\n",
      "AA 290\n",
      "AA 291\n",
      "AA 292\n",
      "AA 293\n",
      "AA 294\n",
      "AA 295\n",
      "AA 296\n",
      "AA 297\n",
      "AA 298\n",
      "AA 299\n",
      "AA 300\n",
      "AA 301\n",
      "AA 302\n",
      "AA 303\n",
      "AA 304\n",
      "AA 305\n",
      "AA 306\n",
      "AA 307\n",
      "AA 308\n",
      "AA 309\n",
      "AA 310\n",
      "AA 311\n",
      "AA 312\n",
      "AA 313\n",
      "AA 314\n",
      "AA 315\n",
      "AA 316\n",
      "AA 317\n",
      "AA 318\n",
      "AA 319\n",
      "AA 320\n",
      "AA 321\n",
      "AA 322\n",
      "AA 323\n",
      "AA 324\n",
      "AA 325\n",
      "AA 326\n",
      "AA 327\n",
      "AA 328\n",
      "AA 329\n",
      "AA 330\n",
      "AA 331\n",
      "AA 332\n",
      "AA 333\n",
      "AA 334\n",
      "AA 335\n",
      "AA 336\n",
      "AA 337\n",
      "AA 338\n",
      "AA 339\n",
      "AA 340\n",
      "AA 341\n",
      "AA 342\n",
      "AA 343\n",
      "AA 344\n",
      "AA 345\n",
      "AA 346\n",
      "AA 347\n",
      "AA 348\n",
      "AA 349\n",
      "AA 350\n",
      "AA 351\n",
      "AA 352\n",
      "AA 353\n",
      "AA 354\n",
      "AA 355\n",
      "AA 356\n",
      "AA 357\n",
      "AA 358\n",
      "AA 359\n",
      "AA 360\n",
      "AA 361\n",
      "AA 362\n",
      "AA 363\n",
      "AA 364\n",
      "AA 365\n",
      "AA 366\n",
      "AA 367\n",
      "AA 368\n",
      "AA 369\n",
      "AA 370\n",
      "AA 371\n",
      "AA 372\n",
      "AA 373\n",
      "AA 374\n",
      "AA 375\n",
      "AA 376\n",
      "AA 377\n",
      "AA 378\n",
      "AA 379\n",
      "AA 380\n",
      "AA 381\n",
      "AA 382\n",
      "AA 383\n",
      "AA 384\n",
      "AA 385\n",
      "AA 386\n",
      "AA 387\n",
      "AA 388\n",
      "AA 389\n",
      "AA 390\n",
      "AA 391\n",
      "AA 392\n",
      "AA 393\n",
      "AA 394\n",
      "AA 395\n",
      "AA 396\n",
      "AA 397\n",
      "AA 398\n",
      "AA 399\n",
      "AA 400\n",
      "AA 401\n",
      "AA 402\n",
      "AA 403\n",
      "AA 404\n",
      "AA 405\n",
      "AA 406\n",
      "AA 407\n",
      "AA 408\n",
      "AA 409\n",
      "AA 410\n",
      "AA 411\n",
      "AA 412\n",
      "AA 413\n",
      "AA 414\n",
      "AA 415\n",
      "AA 416\n",
      "AA 417\n",
      "AA 418\n",
      "AA 419\n",
      "AA 420\n",
      "AA 421\n",
      "AA 422\n",
      "AA 423\n",
      "AA 424\n",
      "AA 425\n",
      "AA 426\n",
      "AA 427\n",
      "AA 428\n",
      "AA 429\n",
      "AA 430\n",
      "AA 431\n",
      "AA 432\n",
      "AA 433\n",
      "AA 434\n",
      "AA 435\n",
      "AA 436\n",
      "AA 437\n",
      "AA 438\n",
      "AA 439\n",
      "AA 440\n",
      "AA 441\n",
      "AA 442\n",
      "AA 443\n",
      "AA 444\n",
      "AA 445\n",
      "AA 446\n",
      "AA 447\n",
      "AA 448\n",
      "AA 449\n",
      "AA 450\n",
      "AA 451\n",
      "AA 452\n",
      "AA 453\n",
      "AA 454\n",
      "AA 455\n",
      "AA 456\n",
      "AA 457\n",
      "AA 458\n",
      "AA 459\n",
      "AA 460\n",
      "AA 461\n",
      "AA 462\n",
      "AA 463\n",
      "AA 464\n",
      "AA 465\n",
      "AA 466\n",
      "AA 467\n",
      "AA 468\n",
      "AA 469\n",
      "AA 470\n",
      "AA 471\n",
      "AA 472\n",
      "AA 473\n",
      "AA 474\n",
      "AA 475\n",
      "AA 476\n",
      "AA 477\n",
      "AA 478\n",
      "AA 479\n",
      "AA 480\n",
      "AA 481\n",
      "AA 482\n",
      "AA 483\n",
      "AA 484\n",
      "AA 485\n",
      "AA 486\n",
      "AA 487\n",
      "AA 488\n",
      "AA 489\n",
      "AA 490\n",
      "AA 491\n",
      "AA 492\n",
      "AA 493\n",
      "AA 494\n",
      "AA 495\n",
      "AA 496\n",
      "AA 497\n",
      "AA 498\n",
      "AA 499\n",
      "AA 500\n",
      "AA 501\n",
      "AA 502\n",
      "AA 503\n",
      "AA 504\n",
      "AA 505\n",
      "AA 506\n",
      "AA 507\n",
      "AA 508\n",
      "AA 509\n",
      "AA 510\n",
      "AA 511\n",
      "AA 512\n",
      "AA 513\n",
      "AA 514\n",
      "AA 515\n",
      "AA 516\n",
      "AA 517\n",
      "AA 518\n",
      "AA 519\n",
      "AA 520\n",
      "AA 521\n",
      "AA 522\n",
      "AA 523\n",
      "AA 524\n",
      "AA 525\n",
      "AA 526\n",
      "AA 527\n",
      "AA 528\n",
      "AA 529\n",
      "AA 530\n",
      "AA 531\n",
      "AA 532\n",
      "AA 533\n",
      "AA 534\n",
      "AA 535\n",
      "AA 536\n",
      "AA 537\n",
      "AA 538\n",
      "AA 539\n",
      "AA 540\n",
      "AA 541\n",
      "AA 542\n",
      "AA 543\n",
      "AA 544\n",
      "AA 545\n",
      "AA 546\n",
      "AA 547\n",
      "AA 548\n",
      "AA 549\n",
      "AA 550\n",
      "AA 551\n",
      "AA 552\n",
      "AA 553\n",
      "AA 554\n",
      "AA 555\n",
      "AA 556\n",
      "AA 557\n",
      "AA 558\n",
      "AA 559\n",
      "AA 560\n",
      "AA 561\n",
      "AA 562\n",
      "AA 563\n",
      "AA 564\n",
      "AA 565\n",
      "AA 566\n",
      "AA 567\n",
      "AA 568\n",
      "AA 569\n",
      "AA 570\n",
      "AA 571\n",
      "AA 572\n",
      "AA 573\n",
      "AA 574\n",
      "AA 575\n",
      "AA 576\n",
      "AA 577\n",
      "AA 578\n",
      "AA 579\n",
      "AA 580\n",
      "AA 581\n",
      "AA 582\n",
      "AA 583\n",
      "AA 584\n",
      "AA 585\n",
      "AA 586\n",
      "AA 587\n",
      "AA 588\n",
      "AA 589\n",
      "AA 590\n",
      "AA 591\n",
      "AA 592\n",
      "AA 593\n",
      "AA 594\n",
      "AA 595\n",
      "AA 596\n",
      "AA 597\n",
      "AA 598\n",
      "AA 599\n",
      "AA 600\n",
      "AA 601\n",
      "AA 602\n",
      "AA 603\n",
      "AA 604\n",
      "AA 605\n",
      "AA 606\n",
      "AA 607\n",
      "AA 608\n",
      "AA 609\n",
      "AA 610\n",
      "AA 611\n",
      "AA 612\n",
      "AA 613\n",
      "AA 614\n",
      "AA 615\n",
      "AA 616\n",
      "AA 617\n",
      "AA 618\n",
      "AA 619\n",
      "AA 620\n",
      "AA 621\n",
      "AA 622\n",
      "AA 623\n",
      "AA 624\n",
      "AA 625\n",
      "AA 626\n",
      "AA 627\n",
      "AA 628\n",
      "AA 629\n",
      "AA 630\n",
      "AA 631\n",
      "AA 632\n",
      "AA 633\n",
      "AA 634\n",
      "AA 635\n",
      "AA 636\n",
      "AA 637\n",
      "AA 638\n",
      "AA 639\n",
      "AA 640\n",
      "AA 641\n",
      "AA 642\n",
      "AA 643\n",
      "AA 644\n",
      "AA 645\n",
      "AA 646\n",
      "AA 647\n",
      "AA 648\n",
      "AA 649\n",
      "AA 650\n",
      "AA 651\n",
      "AA 652\n",
      "AA 653\n",
      "AA 654\n",
      "AA 655\n",
      "AA 656\n",
      "AA 657\n",
      "AA 658\n",
      "AA 659\n",
      "AA 660\n",
      "AA 661\n",
      "AA 662\n",
      "AA 663\n",
      "AA 664\n",
      "AA 665\n",
      "AA 666\n",
      "AA 667\n",
      "AA 668\n",
      "AA 669\n",
      "AA 670\n",
      "AA 671\n",
      "AA 672\n",
      "AA 673\n",
      "AA 674\n",
      "AA 675\n",
      "AA 676\n",
      "AA 677\n",
      "AA 678\n",
      "AA 679\n",
      "AA 680\n",
      "AA 681\n",
      "AA 682\n",
      "AA 683\n",
      "AA 684\n",
      "AA 685\n",
      "AA 686\n",
      "AA 687\n",
      "AA 688\n",
      "AA 689\n",
      "AA 690\n",
      "AA 691\n",
      "AA 692\n",
      "AA 693\n",
      "AA 694\n",
      "AA 695\n",
      "AA 696\n",
      "AA 697\n",
      "AA 698\n",
      "AA 699\n",
      "AA 700\n",
      "AA 701\n",
      "AA 702\n",
      "AA 703\n",
      "AA 704\n",
      "AA 705\n",
      "AA 706\n",
      "AA 707\n",
      "AA 708\n",
      "AA 709\n",
      "AA 710\n",
      "AA 711\n",
      "AA 712\n",
      "AA 713\n",
      "AA 714\n",
      "AA 715\n",
      "AA 716\n",
      "AA 717\n",
      "AA 718\n",
      "AA 719\n",
      "AA 720\n",
      "AA 721\n",
      "AA 722\n",
      "AA 723\n",
      "AA 724\n",
      "AA 725\n",
      "AA 726\n",
      "AA 727\n",
      "AA 728\n",
      "AA 729\n",
      "AA 730\n",
      "AA 731\n",
      "AA 732\n",
      "AA 733\n",
      "AA 734\n",
      "AA 735\n",
      "AA 736\n",
      "AA 737\n",
      "AA 738\n",
      "AA 739\n",
      "AA 740\n",
      "AA 741\n",
      "AA 742\n",
      "AA 743\n",
      "AA 744\n",
      "AA 745\n",
      "AA 746\n",
      "AA 747\n",
      "AA 748\n",
      "AA 749\n",
      "AA 750\n",
      "AA 751\n",
      "AA 752\n",
      "AA 753\n",
      "AA 754\n",
      "AA 755\n",
      "AA 756\n",
      "AA 757\n",
      "AA 758\n",
      "AA 759\n",
      "AA 760\n",
      "AA 761\n",
      "AA 762\n",
      "AA 763\n",
      "AA 764\n",
      "AA 765\n",
      "AA 766\n",
      "AA 767\n",
      "AA 768\n",
      "AA 769\n",
      "AA 770\n",
      "AA 771\n",
      "AA 772\n",
      "AA 773\n",
      "AA 774\n",
      "AA 775\n",
      "AA 776\n",
      "AA 777\n",
      "AA 778\n",
      "AA 779\n",
      "AA 780\n",
      "AA 781\n",
      "AA 782\n",
      "AA 783\n",
      "AA 784\n",
      "AA 785\n",
      "AA 786\n",
      "AA 787\n",
      "AA 788\n",
      "AA 789\n",
      "AA 790\n",
      "AA 791\n",
      "AA 792\n",
      "AA 793\n",
      "AA 794\n",
      "AA 795\n",
      "AA 796\n",
      "AA 797\n",
      "AA 798\n",
      "AA 799\n",
      "AA 800\n",
      "AA 801\n",
      "AA 802\n",
      "AA 803\n",
      "AA 804\n",
      "AA 805\n",
      "AA 806\n",
      "AA 807\n",
      "AA 808\n",
      "AA 809\n",
      "AA 810\n",
      "AA 811\n",
      "AA 812\n",
      "AA 813\n",
      "AA 814\n",
      "AA 815\n",
      "AA 816\n",
      "AA 817\n",
      "AA 818\n",
      "AA 819\n",
      "AA 820\n",
      "AA 821\n",
      "AA 822\n",
      "AA 823\n",
      "AA 824\n",
      "AA 825\n",
      "AA 826\n",
      "AA 827\n",
      "AA 828\n",
      "AA 829\n",
      "AA 830\n",
      "AA 831\n",
      "AA 832\n",
      "AA 833\n",
      "AA 834\n",
      "AA 835\n",
      "AA 836\n",
      "AA 837\n",
      "AA 838\n",
      "AA 839\n",
      "AA 840\n",
      "AA 841\n",
      "AA 842\n",
      "AA 843\n",
      "AA 844\n",
      "AA 845\n",
      "AA 846\n",
      "AA 847\n",
      "AA 848\n",
      "AA 849\n",
      "AA 850\n",
      "AA 851\n",
      "AA 852\n",
      "AA 853\n",
      "AA 854\n",
      "AA 855\n",
      "AA 856\n",
      "AA 857\n",
      "AA 858\n",
      "AA 859\n",
      "AA 860\n",
      "AA 861\n",
      "AA 862\n",
      "AA 863\n",
      "AA 864\n",
      "AA 865\n",
      "AA 866\n",
      "AA 867\n",
      "AA 868\n",
      "AA 869\n",
      "AA 870\n",
      "AA 871\n",
      "AA 872\n",
      "AA 873\n",
      "AA 874\n",
      "AA 875\n",
      "AA 876\n",
      "AA 877\n",
      "AA 878\n",
      "AA 879\n",
      "AA 880\n",
      "AA 881\n",
      "AA 882\n",
      "AA 883\n",
      "AA 884\n",
      "AA 885\n",
      "AA 886\n",
      "AA 887\n",
      "AA 888\n",
      "AA 889\n",
      "AA 890\n",
      "AA 891\n",
      "AA 892\n",
      "AA 893\n",
      "AA 894\n",
      "AA 895\n",
      "AA 896\n",
      "AA 897\n",
      "AA 898\n",
      "AA 899\n",
      "AA 900\n",
      "AA 901\n",
      "AA 902\n",
      "AA 903\n",
      "AA 904\n",
      "AA 905\n",
      "AA 906\n",
      "AA 907\n",
      "AA 908\n",
      "AA 909\n",
      "AA 910\n",
      "AA 911\n",
      "AA 912\n",
      "AA 913\n",
      "AA 914\n",
      "AA 915\n",
      "AA 916\n",
      "AA 917\n",
      "AA 918\n",
      "AA 919\n",
      "AA 920\n",
      "AA 921\n",
      "AA 922\n",
      "AA 923\n",
      "AA 924\n",
      "AA 925\n",
      "AA 926\n",
      "AA 927\n",
      "AA 928\n",
      "AA 929\n",
      "AA 930\n",
      "AA 931\n",
      "AA 932\n",
      "AA 933\n",
      "AA 934\n",
      "AA 935\n",
      "AA 936\n",
      "AA 937\n",
      "AA 938\n",
      "AA 939\n",
      "AA 940\n",
      "AA 941\n",
      "AA 942\n",
      "AA 943\n",
      "AA 944\n",
      "AA 945\n",
      "AA 946\n",
      "AA 947\n",
      "AA 948\n",
      "AA 949\n",
      "AA 950\n",
      "AA 951\n",
      "AA 952\n",
      "AA 953\n",
      "AA 954\n",
      "AA 955\n",
      "AA 956\n",
      "AA 957\n",
      "AA 958\n",
      "AA 959\n",
      "AA 960\n",
      "AA 961\n",
      "AA 962\n",
      "AA 963\n",
      "AA 964\n",
      "AA 965\n",
      "AA 966\n",
      "AA 967\n",
      "AA 968\n",
      "AA 969\n",
      "AA 970\n",
      "AA 971\n",
      "AA 972\n",
      "AA 973\n",
      "AA 974\n",
      "AA 975\n",
      "AA 976\n",
      "AA 977\n",
      "AA 978\n",
      "AA 979\n",
      "AA 980\n",
      "AA 981\n",
      "AA 982\n",
      "AA 983\n",
      "AA 984\n",
      "AA 985\n",
      "AA 986\n",
      "AA 987\n",
      "AA 988\n",
      "AA 989\n",
      "AA 990\n",
      "AA 991\n",
      "AA 992\n",
      "AA 993\n",
      "AA 994\n",
      "AA 995\n",
      "AA 996\n",
      "AA 997\n",
      "AA 998\n",
      "AA 999\n",
      "AA 1000\n",
      "AA 1001\n",
      "AA 1002\n",
      "AA 1003\n",
      "AA 1004\n",
      "AA 1005\n",
      "AA 1006\n",
      "AA 1007\n",
      "AA 1008\n",
      "AA 1009\n",
      "AA 1010\n",
      "AA 1011\n",
      "AA 1012\n",
      "AA 1013\n",
      "AA 1014\n",
      "AA 1015\n",
      "AA 1016\n",
      "AA 1017\n",
      "AA 1018\n",
      "AA 1019\n",
      "AA 1020\n",
      "AA 1021\n",
      "AA 1022\n",
      "AA 1023\n",
      "AA 1024\n",
      "AA 1025\n",
      "AA 1026\n",
      "AA 1027\n",
      "AA 1028\n",
      "AA 1029\n",
      "AA 1030\n",
      "AA 1031\n",
      "AA 1032\n",
      "AA 1033\n",
      "AA 1034\n",
      "AA 1035\n",
      "AA 1036\n",
      "AA 1037\n",
      "AA 1038\n",
      "AA 1039\n",
      "AA 1040\n",
      "AA 1041\n",
      "AA 1042\n",
      "AA 1043\n",
      "AA 1044\n",
      "AA 1045\n",
      "AA 1046\n",
      "AA 1047\n",
      "AA 1048\n",
      "AA 1049\n",
      "AA 1050\n",
      "AA 1051\n",
      "AA 1052\n",
      "AA 1053\n",
      "AA 1054\n",
      "AA 1055\n",
      "AA 1056\n",
      "AA 1057\n",
      "AA 1058\n",
      "AA 1059\n",
      "AA 1060\n",
      "AA 1061\n",
      "AA 1062\n",
      "AA 1063\n",
      "AA 1064\n",
      "AA 1065\n",
      "AA 1066\n",
      "AA 1067\n",
      "AA 1068\n",
      "AA 1069\n",
      "AA 1070\n",
      "AA 1071\n",
      "AA 1072\n",
      "AA 1073\n",
      "AA 1074\n",
      "AA 1075\n",
      "AA 1076\n",
      "AA 1077\n",
      "AA 1078\n",
      "AA 1079\n",
      "AA 1080\n",
      "AA 1081\n",
      "AA 1082\n",
      "AA 1083\n",
      "AA 1084\n",
      "AA 1085\n",
      "AA 1086\n",
      "AA 1087\n",
      "AA 1088\n",
      "AA 1089\n",
      "AA 1090\n",
      "AA 1091\n",
      "AA 1092\n",
      "AA 1093\n",
      "AA 1094\n",
      "AA 1095\n",
      "AA 1096\n",
      "AA 1097\n",
      "AA 1098\n",
      "AA 1099\n",
      "AA 1100\n",
      "AA 1101\n",
      "AA 1102\n",
      "AA 1103\n",
      "AA 1104\n",
      "AA 1105\n",
      "AA 1106\n",
      "AA 1107\n",
      "AA 1108\n",
      "AA 1109\n",
      "AA 1110\n",
      "AA 1111\n",
      "AA 1112\n",
      "AA 1113\n",
      "AA 1114\n",
      "AA 1115\n",
      "AA 1116\n",
      "AA 1117\n",
      "AA 1118\n",
      "AA 1119\n",
      "AA 1120\n",
      "AA 1121\n",
      "AA 1122\n",
      "AA 1123\n",
      "AA 1124\n",
      "AA 1125\n",
      "AA 1126\n",
      "AA 1127\n",
      "AA 1128\n",
      "AA 1129\n",
      "AA 1130\n",
      "AA 1131\n",
      "AA 1132\n",
      "AA 1133\n",
      "AA 1134\n",
      "AA 1135\n",
      "AA 1136\n",
      "AA 1137\n",
      "AA 1138\n",
      "AA 1139\n",
      "AA 1140\n",
      "AA 1141\n",
      "AA 1142\n",
      "AA 1143\n",
      "AA 1144\n",
      "AA 1145\n",
      "AA 1146\n",
      "AA 1147\n",
      "AA 1148\n",
      "AA 1149\n",
      "AA 1150\n",
      "AA 1151\n",
      "AA 1152\n",
      "AA 1153\n",
      "AA 1154\n",
      "AA 1155\n",
      "AA 1156\n",
      "AA 1157\n",
      "AA 1158\n",
      "AA 1159\n",
      "AA 1160\n",
      "AA 1161\n",
      "AA 1162\n",
      "AA 1163\n",
      "AA 1164\n",
      "AA 1165\n",
      "AA 1166\n",
      "AA 1167\n",
      "AA 1168\n",
      "AA 1169\n",
      "AA 1170\n",
      "AA 1171\n",
      "AA 1172\n",
      "AA 1173\n",
      "AA 1174\n",
      "AA 1175\n",
      "AA 1176\n",
      "AA 1177\n",
      "AA 1178\n",
      "AA 1179\n",
      "AA 1180\n",
      "AA 1181\n",
      "AA 1182\n",
      "AA 1183\n",
      "AA 1184\n",
      "AA 1185\n",
      "AA 1186\n",
      "AA 1187\n",
      "AA 1188\n",
      "AA 1189\n",
      "AA 1190\n",
      "AA 1191\n",
      "AA 1192\n",
      "AA 1193\n",
      "AA 1194\n",
      "AA 1195\n",
      "AA 1196\n",
      "AA 1197\n",
      "AA 1198\n",
      "AA 1199\n",
      "AA 1200\n",
      "AA 1201\n",
      "AA 1202\n",
      "AA 1203\n",
      "AA 1204\n",
      "AA 1205\n",
      "AA 1206\n",
      "AA 1207\n",
      "AA 1208\n",
      "AA 1209\n",
      "AA 1210\n",
      "AA 1211\n",
      "AA 1212\n",
      "AA 1213\n",
      "AA 1214\n",
      "AA 1215\n",
      "AA 1216\n",
      "AA 1217\n",
      "AA 1218\n",
      "AA 1219\n",
      "AA 1220\n",
      "AA 1221\n",
      "AA 1222\n",
      "AA 1223\n",
      "AA 1224\n",
      "AA 1225\n",
      "AA 1226\n",
      "AA 1227\n",
      "AA 1228\n",
      "AA 1229\n",
      "AA 1230\n",
      "AA 1231\n",
      "AA 1232\n",
      "AA 1233\n",
      "AA 1234\n",
      "AA 1235\n",
      "AA 1236\n",
      "AA 1237\n",
      "AA 1238\n",
      "AA 1239\n",
      "AA 1240\n",
      "AA 1241\n",
      "AA 1242\n",
      "AA 1243\n",
      "AA 1244\n",
      "AA 1245\n",
      "AA 1246\n",
      "AA 1247\n",
      "AA 1248\n",
      "AA 1249\n",
      "AA 1250\n",
      "AA 1251\n",
      "AA 1252\n",
      "AA 1253\n",
      "AA 1254\n",
      "AA 1255\n",
      "AA 1256\n",
      "AA 1257\n",
      "AA 1258\n",
      "AA 1259\n",
      "AA 1260\n",
      "AA 1261\n",
      "AA 1262\n",
      "AA 1263\n",
      "AA 1264\n",
      "AA 1265\n",
      "AA 1266\n",
      "AA 1267\n",
      "AA 1268\n",
      "AA 1269\n",
      "AA 1270\n",
      "AA 1271\n",
      "AA 1272\n",
      "AA 1273\n",
      "AA 1274\n",
      "AA 1275\n",
      "AA 1276\n",
      "AA 1277\n",
      "AA 1278\n",
      "AA 1279\n",
      "AA 1280\n",
      "AA 1281\n",
      "AA 1282\n",
      "AA 1283\n",
      "AA 1284\n",
      "AA 1285\n",
      "AA 1286\n",
      "AA 1287\n",
      "AA 1288\n",
      "AA 1289\n",
      "AA 1290\n",
      "AA 1291\n",
      "AA 1292\n",
      "AA 1293\n",
      "AA 1294\n",
      "AA 1295\n",
      "AA 1296\n",
      "AA 1297\n",
      "AA 1298\n",
      "AA 1299\n",
      "AA 1300\n",
      "AA 1301\n",
      "AA 1302\n",
      "AA 1303\n",
      "AA 1304\n",
      "AA 1305\n",
      "AA 1306\n",
      "AA 1307\n",
      "AA 1308\n",
      "AA 1309\n",
      "AA 1310\n",
      "AA 1311\n",
      "AA 1312\n",
      "AA 1313\n",
      "AA 1314\n",
      "AA 1315\n",
      "AA 1316\n",
      "AA 1317\n",
      "AA 1318\n",
      "AA 1319\n",
      "AA 1320\n",
      "AA 1321\n",
      "AA 1322\n",
      "AA 1323\n",
      "AA 1324\n",
      "AA 1325\n",
      "AA 1326\n",
      "AA 1327\n",
      "AA 1328\n",
      "AA 1329\n",
      "AA 1330\n",
      "AA 1331\n",
      "AA 1332\n",
      "AA 1333\n",
      "AA 1334\n",
      "AA 1335\n",
      "AA 1336\n",
      "AA 1337\n",
      "AA 1338\n",
      "AA 1339\n",
      "AA 1340\n",
      "AA 1341\n",
      "AA 1342\n",
      "AA 1343\n",
      "AA 1344\n",
      "AA 1345\n",
      "AA 1346\n",
      "AA 1347\n",
      "AA 1348\n",
      "AA 1349\n",
      "AA 1350\n",
      "AA 1351\n",
      "AA 1352\n",
      "AA 1353\n",
      "AA 1354\n",
      "AA 1355\n",
      "AA 1356\n",
      "AA 1357\n",
      "AA 1358\n",
      "AA 1359\n",
      "AA 1360\n",
      "AA 1361\n",
      "AA 1362\n",
      "AA 1363\n",
      "AA 1364\n",
      "AA 1365\n",
      "AA 1366\n",
      "AA 1367\n",
      "AA 1368\n",
      "AA 1369\n",
      "AA 1370\n",
      "AA 1371\n",
      "AA 1372\n",
      "AA 1373\n",
      "AA 1374\n",
      "AA 1375\n",
      "AA 1376\n",
      "AA 1377\n",
      "AA 1378\n",
      "AA 1379\n",
      "AA 1380\n",
      "AA 1381\n",
      "AA 1382\n",
      "AA 1383\n",
      "AA 1384\n",
      "AA 1385\n",
      "AA 1386\n",
      "AA 1387\n",
      "AA 1388\n",
      "AA 1389\n",
      "AA 1390\n",
      "AA 1391\n",
      "AA 1392\n",
      "AA 1393\n",
      "AA 1394\n",
      "AA 1395\n",
      "AA 1396\n",
      "AA 1397\n",
      "AA 1398\n",
      "AA 1399\n",
      "AA 1400\n",
      "AA 1401\n",
      "AA 1402\n",
      "AA 1403\n",
      "AA 1404\n",
      "AA 1405\n",
      "AA 1406\n",
      "AA 1407\n",
      "AA 1408\n",
      "AA 1409\n",
      "AA 1410\n",
      "AA 1411\n",
      "AA 1412\n",
      "AA 1413\n",
      "AA 1414\n",
      "AA 1415\n",
      "AA 1416\n",
      "AA 1417\n",
      "AA 1418\n",
      "AA 1419\n",
      "AA 1420\n",
      "AA 1421\n",
      "AA 1422\n",
      "AA 1423\n",
      "AA 1424\n",
      "AA 1425\n",
      "AA 1426\n",
      "AA 1427\n",
      "AA 1428\n",
      "AA 1429\n",
      "AA 1430\n",
      "AA 1431\n",
      "AA 1432\n",
      "AA 1433\n",
      "AA 1434\n",
      "AA 1435\n",
      "AA 1436\n",
      "AA 1437\n",
      "AA 1438\n",
      "AA 1439\n",
      "AA 1440\n",
      "AA 1441\n",
      "AA 1442\n",
      "AA 1443\n",
      "AA 1444\n",
      "AA 1445\n",
      "AA 1446\n",
      "AA 1447\n",
      "AA 1448\n",
      "AA 1449\n",
      "AA 1450\n",
      "AA 1451\n",
      "AA 1452\n",
      "AA 1453\n",
      "AA 1454\n",
      "AA 1455\n",
      "AA 1456\n",
      "AA 1457\n",
      "AA 1458\n",
      "AA 1459\n",
      "AA 1460\n",
      "AA 1461\n",
      "AA 1462\n",
      "AA 1463\n",
      "AA 1464\n",
      "AA 1465\n",
      "AA 1466\n",
      "AA 1467\n",
      "AA 1468\n",
      "AA 1469\n",
      "AA 1470\n",
      "AA 1471\n",
      "AA 1472\n",
      "AA 1473\n",
      "AA 1474\n",
      "AA 1475\n",
      "AA 1476\n",
      "AA 1477\n",
      "AA 1478\n",
      "AA 1479\n",
      "AA 1480\n",
      "AA 1481\n",
      "AA 1482\n",
      "AA 1483\n",
      "AA 1484\n",
      "AA 1485\n",
      "AA 1486\n",
      "AA 1487\n",
      "AA 1488\n",
      "AA 1489\n",
      "AA 1490\n",
      "AA 1491\n",
      "AA 1492\n",
      "AA 1493\n",
      "AA 1494\n",
      "AA 1495\n",
      "AA 1496\n",
      "AA 1497\n",
      "AA 1498\n",
      "AA 1499\n",
      "AA 1500\n",
      "AA 1501\n",
      "AA 1502\n",
      "AA 1503\n",
      "AA 1504\n",
      "AA 1505\n",
      "AA 1506\n",
      "AA 1507\n",
      "AA 1508\n",
      "AA 1509\n",
      "AA 1510\n",
      "AA 1511\n",
      "AA 1512\n",
      "AA 1513\n",
      "AA 1514\n",
      "AA 1515\n",
      "AA 1516\n",
      "AA 1517\n",
      "AA 1518\n",
      "AA 1519\n",
      "AA 1520\n",
      "AA 1521\n",
      "AA 1522\n",
      "AA 1523\n",
      "AA 1524\n",
      "AA 1525\n",
      "AA 1526\n",
      "AA 1527\n",
      "AA 1528\n",
      "AA 1529\n",
      "AA 1530\n",
      "AA 1531\n",
      "AA 1532\n",
      "AA 1533\n",
      "AA 1534\n",
      "AA 1535\n",
      "AA 1536\n",
      "AA 1537\n",
      "AA 1538\n",
      "AA 1539\n",
      "AA 1540\n",
      "AA 1541\n",
      "AA 1542\n",
      "AA 1543\n",
      "AA 1544\n",
      "AA 1545\n",
      "AA 1546\n",
      "AA 1547\n",
      "AA 1548\n",
      "AA 1549\n",
      "AA 1550\n",
      "AA 1551\n",
      "AA 1552\n",
      "AA 1553\n",
      "AA 1554\n",
      "AA 1555\n",
      "AA 1556\n",
      "AA 1557\n",
      "AA 1558\n",
      "AA 1559\n",
      "AA 1560\n",
      "AA 1561\n",
      "AA 1562\n",
      "AA 1563\n",
      "AA 1564\n",
      "AA 1565\n",
      "AA 1566\n",
      "AA 1567\n",
      "AA 1568\n",
      "AA 1569\n",
      "AA 1570\n",
      "AA 1571\n",
      "AA 1572\n",
      "AA 1573\n",
      "AA 1574\n",
      "AA 1575\n",
      "AA 1576\n",
      "AA 1577\n",
      "AA 1578\n",
      "AA 1579\n",
      "AA 1580\n",
      "AA 1581\n",
      "AA 1582\n",
      "AA 1583\n",
      "AA 1584\n",
      "AA 1585\n",
      "AA 1586\n",
      "AA 1587\n",
      "AA 1588\n",
      "AA 1589\n",
      "AA 1590\n",
      "AA 1591\n",
      "AA 1592\n",
      "AA 1593\n",
      "AA 1594\n",
      "AA 1595\n",
      "AA 1596\n",
      "AA 1597\n",
      "AA 1598\n",
      "AA 1599\n",
      "AA 1600\n",
      "AA 1601\n",
      "AA 1602\n",
      "AA 1603\n",
      "AA 1604\n",
      "AA 1605\n",
      "AA 1606\n",
      "AA 1607\n",
      "AA 1608\n",
      "AA 1609\n",
      "AA 1610\n",
      "AA 1611\n",
      "AA 1612\n",
      "AA 1613\n",
      "AA 1614\n",
      "AA 1615\n",
      "AA 1616\n",
      "AA 1617\n",
      "AA 1618\n",
      "AA 1619\n",
      "AA 1620\n",
      "AA 1621\n",
      "AA 1622\n",
      "AA 1623\n",
      "AA 1624\n",
      "AA 1625\n",
      "AA 1626\n",
      "AA 1627\n",
      "AA 1628\n",
      "AA 1629\n",
      "AA 1630\n",
      "AA 1631\n",
      "AA 1632\n",
      "AA 1633\n",
      "AA 1634\n",
      "AA 1635\n",
      "AA 1636\n",
      "AA 1637\n",
      "AA 1638\n",
      "AA 1639\n",
      "AA 1640\n",
      "AA 1641\n",
      "AA 1642\n",
      "AA 1643\n",
      "AA 1644\n",
      "AA 1645\n",
      "AA 1646\n",
      "AA 1647\n",
      "AA 1648\n",
      "AA 1649\n",
      "AA 1650\n",
      "AA 1651\n",
      "AA 1652\n",
      "AA 1653\n",
      "AA 1654\n",
      "AA 1655\n",
      "AA 1656\n",
      "AA 1657\n",
      "AA 1658\n",
      "AA 1659\n",
      "AA 1660\n",
      "AA 1661\n",
      "AA 1662\n",
      "AA 1663\n",
      "AA 1664\n",
      "AA 1665\n",
      "AA 1666\n",
      "AA 1667\n",
      "AA 1668\n",
      "AA 1669\n",
      "AA 1670\n",
      "AA 1671\n",
      "AA 1672\n",
      "AA 1673\n",
      "AA 1674\n",
      "AA 1675\n",
      "AA 1676\n",
      "AA 1677\n",
      "AA 1678\n",
      "AA 1679\n",
      "AA 1680\n",
      "AA 1681\n",
      "AA 1682\n",
      "AA 1683\n",
      "AA 1684\n",
      "AA 1685\n",
      "AA 1686\n",
      "AA 1687\n",
      "AA 1688\n",
      "AA 1689\n",
      "AA 1690\n",
      "AA 1691\n",
      "AA 1692\n",
      "AA 1693\n",
      "AA 1694\n",
      "AA 1695\n",
      "AA 1696\n",
      "AA 1697\n",
      "AA 1698\n",
      "AA 1699\n",
      "AA 1700\n",
      "AA 1701\n",
      "AA 1702\n",
      "AA 1703\n",
      "AA 1704\n",
      "AA 1705\n",
      "AA 1706\n",
      "AA 1707\n",
      "AA 1708\n",
      "AA 1709\n",
      "AA 1710\n",
      "AA 1711\n",
      "AA 1712\n",
      "AA 1713\n",
      "AA 1714\n",
      "AA 1715\n",
      "AA 1716\n",
      "AA 1717\n",
      "AA 1718\n",
      "AA 1719\n",
      "AA 1720\n",
      "AA 1721\n",
      "AA 1722\n",
      "AA 1723\n",
      "AA 1724\n",
      "AA 1725\n",
      "AA 1726\n",
      "AA 1727\n",
      "AA 1728\n",
      "AA 1729\n",
      "AA 1730\n",
      "AA 1731\n",
      "AA 1732\n",
      "AA 1733\n",
      "AA 1734\n",
      "AA 1735\n",
      "AA 1736\n",
      "AA 1737\n",
      "AA 1738\n",
      "AA 1739\n",
      "AA 1740\n",
      "AA 1741\n",
      "AA 1742\n",
      "AA 1743\n",
      "AA 1744\n",
      "AA 1745\n",
      "AA 1746\n",
      "AA 1747\n",
      "AA 1748\n",
      "AA 1749\n",
      "AA 1750\n",
      "AA 1751\n",
      "AA 1752\n",
      "AA 1753\n",
      "AA 1754\n",
      "AA 1755\n",
      "AA 1756\n",
      "AA 1757\n",
      "AA 1758\n",
      "AA 1759\n",
      "AA 1760\n",
      "AA 1761\n",
      "AA 1762\n",
      "AA 1763\n",
      "AA 1764\n",
      "AA 1765\n",
      "AA 1766\n",
      "AA 1767\n",
      "AA 1768\n",
      "AA 1769\n",
      "AA 1770\n",
      "AA 1771\n",
      "AA 1772\n",
      "AA 1773\n",
      "AA 1774\n",
      "AA 1775\n",
      "AA 1776\n",
      "AA 1777\n",
      "AA 1778\n",
      "AA 1779\n",
      "AA 1780\n",
      "AA 1781\n",
      "AA 1782\n",
      "AA 1783\n",
      "AA 1784\n",
      "AA 1785\n",
      "AA 1786\n",
      "AA 1787\n",
      "AA 1788\n",
      "AA 1789\n",
      "AA 1790\n",
      "AA 1791\n",
      "AA 1792\n",
      "AA 1793\n",
      "AA 1794\n",
      "AA 1795\n",
      "AA 1796\n",
      "AA 1797\n",
      "AA 1798\n",
      "AA 1799\n",
      "AA 1800\n",
      "AA 1801\n",
      "AA 1802\n",
      "AA 1803\n",
      "AA 1804\n",
      "AA 1805\n",
      "AA 1806\n",
      "AA 1807\n",
      "AA 1808\n",
      "AA 1809\n",
      "AA 1810\n",
      "AA 1811\n",
      "AA 1812\n",
      "AA 1813\n",
      "AA 1814\n",
      "AA 1815\n",
      "AA 1816\n",
      "AA 1817\n",
      "AA 1818\n",
      "AA 1819\n",
      "AA 1820\n",
      "AA 1821\n",
      "AA 1822\n",
      "AA 1823\n",
      "AA 1824\n",
      "AA 1825\n",
      "AA 1826\n",
      "AA 1827\n",
      "AA 1828\n",
      "AA 1829\n",
      "AA 1830\n",
      "AA 1831\n",
      "AA 1832\n",
      "AA 1833\n",
      "AA 1834\n",
      "AA 1835\n",
      "AA 1836\n",
      "AA 1837\n",
      "AA 1838\n",
      "AA 1839\n",
      "AA 1840\n",
      "AA 1841\n",
      "AA 1842\n",
      "AA 1843\n",
      "AA 1844\n",
      "AA 1845\n",
      "AA 1846\n",
      "AA 1847\n",
      "AA 1848\n",
      "AA 1849\n",
      "AA 1850\n",
      "AA 1851\n",
      "AA 1852\n",
      "AA 1853\n",
      "AA 1854\n",
      "AA 1855\n",
      "AA 1856\n",
      "AA 1857\n",
      "AA 1858\n",
      "AA 1859\n",
      "AA 1860\n",
      "AA 1861\n",
      "AA 1862\n",
      "AA 1863\n",
      "AA 1864\n",
      "AA 1865\n",
      "AA 1866\n",
      "AA 1867\n",
      "AA 1868\n",
      "AA 1869\n",
      "AA 1870\n",
      "AA 1871\n",
      "AA 1872\n",
      "AA 1873\n",
      "AA 1874\n",
      "AA 1875\n",
      "AA 1876\n",
      "AA 1877\n",
      "AA 1878\n",
      "AA 1879\n",
      "AA 1880\n",
      "AA 1881\n",
      "AA 1882\n",
      "AA 1883\n",
      "AA 1884\n",
      "AA 1885\n",
      "AA 1886\n",
      "AA 1887\n",
      "AA 1888\n",
      "AA 1889\n",
      "AA 1890\n",
      "AA 1891\n",
      "AA 1892\n",
      "AA 1893\n",
      "AA 1894\n",
      "AA 1895\n",
      "AA 1896\n",
      "AA 1897\n",
      "AA 1898\n",
      "AA 1899\n",
      "AA 1900\n",
      "AA 1901\n",
      "AA 1902\n",
      "AA 1903\n",
      "AA 1904\n",
      "AA 1905\n",
      "AA 1906\n",
      "AA 1907\n",
      "AA 1908\n",
      "AA 1909\n",
      "AA 1910\n",
      "AA 1911\n",
      "AA 1912\n",
      "AA 1913\n",
      "AA 1914\n",
      "AA 1915\n",
      "AA 1916\n",
      "AA 1917\n",
      "AA 1918\n",
      "AA 1919\n",
      "AA 1920\n",
      "AA 1921\n",
      "AA 1922\n",
      "AA 1923\n",
      "AA 1924\n",
      "AA 1925\n",
      "AA 1926\n",
      "AA 1927\n",
      "AA 1928\n",
      "AA 1929\n",
      "AA 1930\n",
      "AA 1931\n",
      "AA 1932\n",
      "AA 1933\n",
      "AA 1934\n",
      "AA 1935\n",
      "AA 1936\n",
      "AA 1937\n",
      "AA 1938\n",
      "AA 1939\n",
      "AA 1940\n",
      "AA 1941\n",
      "AA 1942\n",
      "AA 1943\n",
      "AA 1944\n",
      "AA 1945\n",
      "AA 1946\n",
      "AA 1947\n",
      "AA 1948\n",
      "AA 1949\n",
      "AA 1950\n",
      "AA 1951\n",
      "AA 1952\n",
      "AA 1953\n",
      "AA 1954\n",
      "AA 1955\n",
      "AA 1956\n",
      "AA 1957\n",
      "AA 1958\n",
      "AA 1959\n",
      "AA 1960\n",
      "AA 1961\n",
      "AA 1962\n",
      "AA 1963\n",
      "AA 1964\n",
      "AA 1965\n",
      "AA 1966\n",
      "AA 1967\n",
      "AA 1968\n",
      "AA 1969\n",
      "AA 1970\n",
      "AA 1971\n",
      "AA 1972\n",
      "AA 1973\n",
      "AA 1974\n",
      "AA 1975\n",
      "AA 1976\n",
      "AA 1977\n",
      "AA 1978\n",
      "AA 1979\n",
      "AA 1980\n",
      "AA 1981\n",
      "AA 1982\n",
      "AA 1983\n",
      "AA 1984\n",
      "AA 1985\n",
      "AA 1986\n",
      "AA 1987\n",
      "AA 1988\n",
      "AA 1989\n",
      "AA 1990\n",
      "AA 1991\n",
      "AA 1992\n",
      "AA 1993\n",
      "AA 1994\n",
      "AA 1995\n",
      "AA 1996\n",
      "AA 1997\n",
      "AA 1998\n",
      "AA 1999\n",
      "AA 2000\n",
      "AA 2001\n",
      "AA 2002\n",
      "AA 2003\n",
      "AA 2004\n",
      "AA 2005\n",
      "AA 2006\n",
      "AA 2007\n",
      "AA 2008\n",
      "AA 2009\n",
      "AA 2010\n",
      "AA 2011\n",
      "AA 2012\n",
      "AA 2013\n",
      "AA 2014\n",
      "AA 2015\n",
      "AA 2016\n",
      "AA 2017\n",
      "AA 2018\n",
      "AA 2019\n",
      "AA 2020\n",
      "AA 2021\n",
      "AA 2022\n",
      "AA 2023\n",
      "AA 2024\n",
      "AA 2025\n",
      "AA 2026\n",
      "AA 2027\n",
      "AA 2028\n",
      "AA 2029\n",
      "AA 2030\n",
      "AA 2031\n",
      "AA 2032\n",
      "AA 2033\n",
      "AA 2034\n",
      "AA 2035\n",
      "AA 2036\n",
      "AA 2037\n",
      "AA 2038\n",
      "AA 2039\n",
      "AA 2040\n",
      "AA 2041\n",
      "AA 2042\n",
      "AA 2043\n",
      "AA 2044\n",
      "AA 2045\n",
      "AA 2046\n",
      "AA 2047\n",
      "AA 2048\n",
      "AA 2049\n",
      "AA 2050\n",
      "AA 2051\n",
      "AA 2052\n",
      "AA 2053\n",
      "AA 2054\n",
      "AA 2055\n",
      "AA 2056\n",
      "AA 2057\n",
      "AA 2058\n",
      "AA 2059\n",
      "AA 2060\n",
      "AA 2061\n",
      "AA 2062\n",
      "AA 2063\n",
      "AA 2064\n",
      "AA 2065\n",
      "AA 2066\n",
      "AA 2067\n",
      "AA 2068\n",
      "AA 2069\n",
      "AA 2070\n",
      "AA 2071\n",
      "AA 2072\n",
      "AA 2073\n",
      "AA 2074\n",
      "AA 2075\n",
      "AA 2076\n",
      "AA 2077\n",
      "AA 2078\n",
      "AA 2079\n",
      "AA 2080\n",
      "AA 2081\n",
      "AA 2082\n",
      "AA 2083\n",
      "AA 2084\n",
      "AA 2085\n",
      "AA 2086\n",
      "AA 2087\n",
      "AA 2088\n",
      "AA 2089\n",
      "AA 2090\n",
      "AA 2091\n",
      "AA 2092\n",
      "AA 2093\n",
      "AA 2094\n",
      "AA 2095\n",
      "AA 2096\n",
      "AA 2097\n",
      "AA 2098\n",
      "AA 2099\n",
      "AA 2100\n",
      "AA 2101\n",
      "AA 2102\n",
      "AA 2103\n",
      "AA 2104\n",
      "AA 2105\n",
      "AA 2106\n",
      "AA 2107\n",
      "AA 2108\n",
      "AA 2109\n",
      "AA 2110\n",
      "AA 2111\n",
      "AA 2112\n",
      "AA 2113\n",
      "AA 2114\n",
      "AA 2115\n",
      "AA 2116\n",
      "AA 2117\n",
      "AA 2118\n",
      "AA 2119\n",
      "AA 2120\n",
      "AA 2121\n",
      "AA 2122\n",
      "AA 2123\n",
      "AA 2124\n",
      "AA 2125\n",
      "AA 2126\n",
      "AA 2127\n",
      "AA 2128\n",
      "AA 2129\n",
      "AA 2130\n",
      "AA 2131\n",
      "AA 2132\n",
      "AA 2133\n",
      "AA 2134\n",
      "AA 2135\n",
      "AA 2136\n",
      "AA 2137\n",
      "AA 2138\n",
      "AA 2139\n",
      "AA 2140\n",
      "AA 2141\n",
      "AA 2142\n",
      "AA 2143\n",
      "AA 2144\n",
      "AA 2145\n",
      "AA 2146\n",
      "AA 2147\n",
      "AA 2148\n",
      "AA 2149\n",
      "AA 2150\n",
      "AA 2151\n",
      "AA 2152\n",
      "AA 2153\n",
      "AA 2154\n",
      "AA 2155\n",
      "AA 2156\n",
      "AA 2157\n",
      "AA 2158\n",
      "AA 2159\n",
      "\n",
      "Fetching forks timeline...\n"
     ]
    },
    {
     "data": {
      "application/json": {
       "ascii": false,
       "bar_format": null,
       "colour": null,
       "elapsed": 0.0034248828887939453,
       "initial": 0,
       "n": 0,
       "ncols": null,
       "nrows": null,
       "postfix": null,
       "prefix": "Fetching forks",
       "rate": null,
       "total": 83,
       "unit": "it",
       "unit_divisor": 1000,
       "unit_scale": false
      },
      "application/vnd.jupyter.widget-view+json": {
       "model_id": "9a8c67cff4d4462f87acdea89afa59d4",
       "version_major": 2,
       "version_minor": 0
      },
      "text/plain": [
       "Fetching forks:   0%|          | 0/83 [00:00<?, ?it/s]"
      ]
     },
     "metadata": {},
     "output_type": "display_data"
    },
    {
     "name": "stdout",
     "output_type": "stream",
     "text": [
      "\n",
      "Processing timeline data...\n",
      "\n",
      "Identifying key milestones...\n",
      "\n",
      "=== ANALYSIS RESULTS ===\n",
      "Repository: Neoteroi/BlackSheep\n",
      "Total data points: 77 time periods\n",
      "First activity date: 2018-12-31 09:30:23+00:00\n",
      "Latest activity date: 2025-04-30 09:30:23+00:00\n",
      "Current stars: 0.0\n",
      "Current forks: 0.0\n",
      "\n",
      "Generating visualizations...\n"
     ]
    },
    {
     "name": "stderr",
     "output_type": "stream",
     "text": [
      "/var/folders/wy/xyg009356vlb9p2k691ggv780000gp/T/ipykernel_64748/3364969829.py:31: FutureWarning: 'M' is deprecated and will be removed in a future version, please use 'ME' instead.\n",
      "  stars_count = stars_df.groupby(pd.Grouper(key='starred_at', freq=freq)).size()\n",
      "/var/folders/wy/xyg009356vlb9p2k691ggv780000gp/T/ipykernel_64748/3364969829.py:32: FutureWarning: 'M' is deprecated and will be removed in a future version, please use 'ME' instead.\n",
      "  forks_count = forks_df.groupby(pd.Grouper(key='forked_at', freq=freq)).size()\n",
      "/var/folders/wy/xyg009356vlb9p2k691ggv780000gp/T/ipykernel_64748/3364969829.py:38: FutureWarning: 'M' is deprecated and will be removed in a future version, please use 'ME' instead.\n",
      "  date_range = pd.date_range(start=start_date, end=end_date, freq=freq)\n"
     ]
    },
    {
     "data": {
      "application/vnd.plotly.v1+json": {
       "config": {
        "plotlyServerURL": "https://plot.ly"
       },
       "data": [
        {
         "line": {
          "color": "gold",
          "width": 3
         },
         "mode": "lines",
         "name": "Stars",
         "type": "scatter",
         "x": [
          "2018-12-31T09:30:23.000000000",
          "2019-01-31T09:30:23.000000000",
          "2019-02-28T09:30:23.000000000",
          "2019-03-31T09:30:23.000000000",
          "2019-04-30T09:30:23.000000000",
          "2019-05-31T09:30:23.000000000",
          "2019-06-30T09:30:23.000000000",
          "2019-07-31T09:30:23.000000000",
          "2019-08-31T09:30:23.000000000",
          "2019-09-30T09:30:23.000000000",
          "2019-10-31T09:30:23.000000000",
          "2019-11-30T09:30:23.000000000",
          "2019-12-31T09:30:23.000000000",
          "2020-01-31T09:30:23.000000000",
          "2020-02-29T09:30:23.000000000",
          "2020-03-31T09:30:23.000000000",
          "2020-04-30T09:30:23.000000000",
          "2020-05-31T09:30:23.000000000",
          "2020-06-30T09:30:23.000000000",
          "2020-07-31T09:30:23.000000000",
          "2020-08-31T09:30:23.000000000",
          "2020-09-30T09:30:23.000000000",
          "2020-10-31T09:30:23.000000000",
          "2020-11-30T09:30:23.000000000",
          "2020-12-31T09:30:23.000000000",
          "2021-01-31T09:30:23.000000000",
          "2021-02-28T09:30:23.000000000",
          "2021-03-31T09:30:23.000000000",
          "2021-04-30T09:30:23.000000000",
          "2021-05-31T09:30:23.000000000",
          "2021-06-30T09:30:23.000000000",
          "2021-07-31T09:30:23.000000000",
          "2021-08-31T09:30:23.000000000",
          "2021-09-30T09:30:23.000000000",
          "2021-10-31T09:30:23.000000000",
          "2021-11-30T09:30:23.000000000",
          "2021-12-31T09:30:23.000000000",
          "2022-01-31T09:30:23.000000000",
          "2022-02-28T09:30:23.000000000",
          "2022-03-31T09:30:23.000000000",
          "2022-04-30T09:30:23.000000000",
          "2022-05-31T09:30:23.000000000",
          "2022-06-30T09:30:23.000000000",
          "2022-07-31T09:30:23.000000000",
          "2022-08-31T09:30:23.000000000",
          "2022-09-30T09:30:23.000000000",
          "2022-10-31T09:30:23.000000000",
          "2022-11-30T09:30:23.000000000",
          "2022-12-31T09:30:23.000000000",
          "2023-01-31T09:30:23.000000000",
          "2023-02-28T09:30:23.000000000",
          "2023-03-31T09:30:23.000000000",
          "2023-04-30T09:30:23.000000000",
          "2023-05-31T09:30:23.000000000",
          "2023-06-30T09:30:23.000000000",
          "2023-07-31T09:30:23.000000000",
          "2023-08-31T09:30:23.000000000",
          "2023-09-30T09:30:23.000000000",
          "2023-10-31T09:30:23.000000000",
          "2023-11-30T09:30:23.000000000",
          "2023-12-31T09:30:23.000000000",
          "2024-01-31T09:30:23.000000000",
          "2024-02-29T09:30:23.000000000",
          "2024-03-31T09:30:23.000000000",
          "2024-04-30T09:30:23.000000000",
          "2024-05-31T09:30:23.000000000",
          "2024-06-30T09:30:23.000000000",
          "2024-07-31T09:30:23.000000000",
          "2024-08-31T09:30:23.000000000",
          "2024-09-30T09:30:23.000000000",
          "2024-10-31T09:30:23.000000000",
          "2024-11-30T09:30:23.000000000",
          "2024-12-31T09:30:23.000000000",
          "2025-01-31T09:30:23.000000000",
          "2025-02-28T09:30:23.000000000",
          "2025-03-31T09:30:23.000000000",
          "2025-04-30T09:30:23.000000000"
         ],
         "y": {
          "bdata": "AAAAAAAAAAAAAAAAAAAAAAAAAAAAAAAAAAAAAAAAAAAAAAAAAAAAAAAAAAAAAAAAAAAAAAAAAAAAAAAAAAAAAAAAAAAAAAAAAAAAAAAAAAAAAAAAAAAAAAAAAAAAAAAAAAAAAAAAAAAAAAAAAAAAAAAAAAAAAAAAAAAAAAAAAAAAAAAAAAAAAAAAAAAAAAAAAAAAAAAAAAAAAAAAAAAAAAAAAAAAAAAAAAAAAAAAAAAAAAAAAAAAAAAAAAAAAAAAAAAAAAAAAAAAAAAAAAAAAAAAAAAAAAAAAAAAAAAAAAAAAAAAAAAAAAAAAAAAAAAAAAAAAAAAAAAAAAAAAAAAAAAAAAAAAAAAAAAAAAAAAAAAAAAAAAAAAAAAAAAAAAAAAAAAAAAAAAAAAAAAAAAAAAAAAAAAAAAAAAAAAAAAAAAAAAAAAAAAAAAAAAAAAAAAAAAAAAAAAAAAAAAAAAAAAAAAAAAAAAAAAAAAAAAAAAAAAAAAAAAAAAAAAAAAAAAAAAAAAAAAAAAAAAAAAAAAAAAAAAAAAAAAAAAAAAAAAAAAAAAAAAAAAAAAAAAAAAAAAAAAAAAAAAAAAAAAAAAAAAAAAAAAAAAAAAAAAAAAAAAAAAAAAAAAAAAAAAAAAAAAAAAAAAAAAAAAAAAAAAAAAAAAAAAAAAAAAAAAAAAAAAAAAAAAAAAAAAAAAAAAAAAAAAAAAAAAAAAAAAAAAAAAAAAAAAAAAAAAAAAAAAAAAAAAAAAAAAAAAAAAAAAAAAAAAAAAAAAAAAAAAAAAAAAAAAAAAAAAAAAAAAAAAAAAAAAAAAAAAAAAAA==",
          "dtype": "f8"
         }
        },
        {
         "line": {
          "color": "blue",
          "width": 3
         },
         "mode": "lines",
         "name": "Forks",
         "type": "scatter",
         "x": [
          "2018-12-31T09:30:23.000000000",
          "2019-01-31T09:30:23.000000000",
          "2019-02-28T09:30:23.000000000",
          "2019-03-31T09:30:23.000000000",
          "2019-04-30T09:30:23.000000000",
          "2019-05-31T09:30:23.000000000",
          "2019-06-30T09:30:23.000000000",
          "2019-07-31T09:30:23.000000000",
          "2019-08-31T09:30:23.000000000",
          "2019-09-30T09:30:23.000000000",
          "2019-10-31T09:30:23.000000000",
          "2019-11-30T09:30:23.000000000",
          "2019-12-31T09:30:23.000000000",
          "2020-01-31T09:30:23.000000000",
          "2020-02-29T09:30:23.000000000",
          "2020-03-31T09:30:23.000000000",
          "2020-04-30T09:30:23.000000000",
          "2020-05-31T09:30:23.000000000",
          "2020-06-30T09:30:23.000000000",
          "2020-07-31T09:30:23.000000000",
          "2020-08-31T09:30:23.000000000",
          "2020-09-30T09:30:23.000000000",
          "2020-10-31T09:30:23.000000000",
          "2020-11-30T09:30:23.000000000",
          "2020-12-31T09:30:23.000000000",
          "2021-01-31T09:30:23.000000000",
          "2021-02-28T09:30:23.000000000",
          "2021-03-31T09:30:23.000000000",
          "2021-04-30T09:30:23.000000000",
          "2021-05-31T09:30:23.000000000",
          "2021-06-30T09:30:23.000000000",
          "2021-07-31T09:30:23.000000000",
          "2021-08-31T09:30:23.000000000",
          "2021-09-30T09:30:23.000000000",
          "2021-10-31T09:30:23.000000000",
          "2021-11-30T09:30:23.000000000",
          "2021-12-31T09:30:23.000000000",
          "2022-01-31T09:30:23.000000000",
          "2022-02-28T09:30:23.000000000",
          "2022-03-31T09:30:23.000000000",
          "2022-04-30T09:30:23.000000000",
          "2022-05-31T09:30:23.000000000",
          "2022-06-30T09:30:23.000000000",
          "2022-07-31T09:30:23.000000000",
          "2022-08-31T09:30:23.000000000",
          "2022-09-30T09:30:23.000000000",
          "2022-10-31T09:30:23.000000000",
          "2022-11-30T09:30:23.000000000",
          "2022-12-31T09:30:23.000000000",
          "2023-01-31T09:30:23.000000000",
          "2023-02-28T09:30:23.000000000",
          "2023-03-31T09:30:23.000000000",
          "2023-04-30T09:30:23.000000000",
          "2023-05-31T09:30:23.000000000",
          "2023-06-30T09:30:23.000000000",
          "2023-07-31T09:30:23.000000000",
          "2023-08-31T09:30:23.000000000",
          "2023-09-30T09:30:23.000000000",
          "2023-10-31T09:30:23.000000000",
          "2023-11-30T09:30:23.000000000",
          "2023-12-31T09:30:23.000000000",
          "2024-01-31T09:30:23.000000000",
          "2024-02-29T09:30:23.000000000",
          "2024-03-31T09:30:23.000000000",
          "2024-04-30T09:30:23.000000000",
          "2024-05-31T09:30:23.000000000",
          "2024-06-30T09:30:23.000000000",
          "2024-07-31T09:30:23.000000000",
          "2024-08-31T09:30:23.000000000",
          "2024-09-30T09:30:23.000000000",
          "2024-10-31T09:30:23.000000000",
          "2024-11-30T09:30:23.000000000",
          "2024-12-31T09:30:23.000000000",
          "2025-01-31T09:30:23.000000000",
          "2025-02-28T09:30:23.000000000",
          "2025-03-31T09:30:23.000000000",
          "2025-04-30T09:30:23.000000000"
         ],
         "y": {
          "bdata": "AAAAAAAAAAAAAAAAAAAAAAAAAAAAAAAAAAAAAAAAAAAAAAAAAAAAAAAAAAAAAAAAAAAAAAAAAAAAAAAAAAAAAAAAAAAAAAAAAAAAAAAAAAAAAAAAAAAAAAAAAAAAAAAAAAAAAAAAAAAAAAAAAAAAAAAAAAAAAAAAAAAAAAAAAAAAAAAAAAAAAAAAAAAAAAAAAAAAAAAAAAAAAAAAAAAAAAAAAAAAAAAAAAAAAAAAAAAAAAAAAAAAAAAAAAAAAAAAAAAAAAAAAAAAAAAAAAAAAAAAAAAAAAAAAAAAAAAAAAAAAAAAAAAAAAAAAAAAAAAAAAAAAAAAAAAAAAAAAAAAAAAAAAAAAAAAAAAAAAAAAAAAAAAAAAAAAAAAAAAAAAAAAAAAAAAAAAAAAAAAAAAAAAAAAAAAAAAAAAAAAAAAAAAAAAAAAAAAAAAAAAAAAAAAAAAAAAAAAAAAAAAAAAAAAAAAAAAAAAAAAAAAAAAAAAAAAAAAAAAAAAAAAAAAAAAAAAAAAAAAAAAAAAAAAAAAAAAAAAAAAAAAAAAAAAAAAAAAAAAAAAAAAAAAAAAAAAAAAAAAAAAAAAAAAAAAAAAAAAAAAAAAAAAAAAAAAAAAAAAAAAAAAAAAAAAAAAAAAAAAAAAAAAAAAAAAAAAAAAAAAAAAAAAAAAAAAAAAAAAAAAAAAAAAAAAAAAAAAAAAAAAAAAAAAAAAAAAAAAAAAAAAAAAAAAAAAAAAAAAAAAAAAAAAAAAAAAAAAAAAAAAAAAAAAAAAAAAAAAAAAAAAAAAAAAAAAAAAAAAAAAAAAAAAAAAAAAAAAAAAAA==",
          "dtype": "f8"
         }
        }
       ],
       "layout": {
        "height": 600,
        "legend": {
         "title": {
          "text": "Metric"
         }
        },
        "template": {
         "data": {
          "bar": [
           {
            "error_x": {
             "color": "#2a3f5f"
            },
            "error_y": {
             "color": "#2a3f5f"
            },
            "marker": {
             "line": {
              "color": "white",
              "width": 0.5
             },
             "pattern": {
              "fillmode": "overlay",
              "size": 10,
              "solidity": 0.2
             }
            },
            "type": "bar"
           }
          ],
          "barpolar": [
           {
            "marker": {
             "line": {
              "color": "white",
              "width": 0.5
             },
             "pattern": {
              "fillmode": "overlay",
              "size": 10,
              "solidity": 0.2
             }
            },
            "type": "barpolar"
           }
          ],
          "carpet": [
           {
            "aaxis": {
             "endlinecolor": "#2a3f5f",
             "gridcolor": "#C8D4E3",
             "linecolor": "#C8D4E3",
             "minorgridcolor": "#C8D4E3",
             "startlinecolor": "#2a3f5f"
            },
            "baxis": {
             "endlinecolor": "#2a3f5f",
             "gridcolor": "#C8D4E3",
             "linecolor": "#C8D4E3",
             "minorgridcolor": "#C8D4E3",
             "startlinecolor": "#2a3f5f"
            },
            "type": "carpet"
           }
          ],
          "choropleth": [
           {
            "colorbar": {
             "outlinewidth": 0,
             "ticks": ""
            },
            "type": "choropleth"
           }
          ],
          "contour": [
           {
            "colorbar": {
             "outlinewidth": 0,
             "ticks": ""
            },
            "colorscale": [
             [
              0,
              "#0d0887"
             ],
             [
              0.1111111111111111,
              "#46039f"
             ],
             [
              0.2222222222222222,
              "#7201a8"
             ],
             [
              0.3333333333333333,
              "#9c179e"
             ],
             [
              0.4444444444444444,
              "#bd3786"
             ],
             [
              0.5555555555555556,
              "#d8576b"
             ],
             [
              0.6666666666666666,
              "#ed7953"
             ],
             [
              0.7777777777777778,
              "#fb9f3a"
             ],
             [
              0.8888888888888888,
              "#fdca26"
             ],
             [
              1,
              "#f0f921"
             ]
            ],
            "type": "contour"
           }
          ],
          "contourcarpet": [
           {
            "colorbar": {
             "outlinewidth": 0,
             "ticks": ""
            },
            "type": "contourcarpet"
           }
          ],
          "heatmap": [
           {
            "colorbar": {
             "outlinewidth": 0,
             "ticks": ""
            },
            "colorscale": [
             [
              0,
              "#0d0887"
             ],
             [
              0.1111111111111111,
              "#46039f"
             ],
             [
              0.2222222222222222,
              "#7201a8"
             ],
             [
              0.3333333333333333,
              "#9c179e"
             ],
             [
              0.4444444444444444,
              "#bd3786"
             ],
             [
              0.5555555555555556,
              "#d8576b"
             ],
             [
              0.6666666666666666,
              "#ed7953"
             ],
             [
              0.7777777777777778,
              "#fb9f3a"
             ],
             [
              0.8888888888888888,
              "#fdca26"
             ],
             [
              1,
              "#f0f921"
             ]
            ],
            "type": "heatmap"
           }
          ],
          "histogram": [
           {
            "marker": {
             "pattern": {
              "fillmode": "overlay",
              "size": 10,
              "solidity": 0.2
             }
            },
            "type": "histogram"
           }
          ],
          "histogram2d": [
           {
            "colorbar": {
             "outlinewidth": 0,
             "ticks": ""
            },
            "colorscale": [
             [
              0,
              "#0d0887"
             ],
             [
              0.1111111111111111,
              "#46039f"
             ],
             [
              0.2222222222222222,
              "#7201a8"
             ],
             [
              0.3333333333333333,
              "#9c179e"
             ],
             [
              0.4444444444444444,
              "#bd3786"
             ],
             [
              0.5555555555555556,
              "#d8576b"
             ],
             [
              0.6666666666666666,
              "#ed7953"
             ],
             [
              0.7777777777777778,
              "#fb9f3a"
             ],
             [
              0.8888888888888888,
              "#fdca26"
             ],
             [
              1,
              "#f0f921"
             ]
            ],
            "type": "histogram2d"
           }
          ],
          "histogram2dcontour": [
           {
            "colorbar": {
             "outlinewidth": 0,
             "ticks": ""
            },
            "colorscale": [
             [
              0,
              "#0d0887"
             ],
             [
              0.1111111111111111,
              "#46039f"
             ],
             [
              0.2222222222222222,
              "#7201a8"
             ],
             [
              0.3333333333333333,
              "#9c179e"
             ],
             [
              0.4444444444444444,
              "#bd3786"
             ],
             [
              0.5555555555555556,
              "#d8576b"
             ],
             [
              0.6666666666666666,
              "#ed7953"
             ],
             [
              0.7777777777777778,
              "#fb9f3a"
             ],
             [
              0.8888888888888888,
              "#fdca26"
             ],
             [
              1,
              "#f0f921"
             ]
            ],
            "type": "histogram2dcontour"
           }
          ],
          "mesh3d": [
           {
            "colorbar": {
             "outlinewidth": 0,
             "ticks": ""
            },
            "type": "mesh3d"
           }
          ],
          "parcoords": [
           {
            "line": {
             "colorbar": {
              "outlinewidth": 0,
              "ticks": ""
             }
            },
            "type": "parcoords"
           }
          ],
          "pie": [
           {
            "automargin": true,
            "type": "pie"
           }
          ],
          "scatter": [
           {
            "fillpattern": {
             "fillmode": "overlay",
             "size": 10,
             "solidity": 0.2
            },
            "type": "scatter"
           }
          ],
          "scatter3d": [
           {
            "line": {
             "colorbar": {
              "outlinewidth": 0,
              "ticks": ""
             }
            },
            "marker": {
             "colorbar": {
              "outlinewidth": 0,
              "ticks": ""
             }
            },
            "type": "scatter3d"
           }
          ],
          "scattercarpet": [
           {
            "marker": {
             "colorbar": {
              "outlinewidth": 0,
              "ticks": ""
             }
            },
            "type": "scattercarpet"
           }
          ],
          "scattergeo": [
           {
            "marker": {
             "colorbar": {
              "outlinewidth": 0,
              "ticks": ""
             }
            },
            "type": "scattergeo"
           }
          ],
          "scattergl": [
           {
            "marker": {
             "colorbar": {
              "outlinewidth": 0,
              "ticks": ""
             }
            },
            "type": "scattergl"
           }
          ],
          "scattermap": [
           {
            "marker": {
             "colorbar": {
              "outlinewidth": 0,
              "ticks": ""
             }
            },
            "type": "scattermap"
           }
          ],
          "scattermapbox": [
           {
            "marker": {
             "colorbar": {
              "outlinewidth": 0,
              "ticks": ""
             }
            },
            "type": "scattermapbox"
           }
          ],
          "scatterpolar": [
           {
            "marker": {
             "colorbar": {
              "outlinewidth": 0,
              "ticks": ""
             }
            },
            "type": "scatterpolar"
           }
          ],
          "scatterpolargl": [
           {
            "marker": {
             "colorbar": {
              "outlinewidth": 0,
              "ticks": ""
             }
            },
            "type": "scatterpolargl"
           }
          ],
          "scatterternary": [
           {
            "marker": {
             "colorbar": {
              "outlinewidth": 0,
              "ticks": ""
             }
            },
            "type": "scatterternary"
           }
          ],
          "surface": [
           {
            "colorbar": {
             "outlinewidth": 0,
             "ticks": ""
            },
            "colorscale": [
             [
              0,
              "#0d0887"
             ],
             [
              0.1111111111111111,
              "#46039f"
             ],
             [
              0.2222222222222222,
              "#7201a8"
             ],
             [
              0.3333333333333333,
              "#9c179e"
             ],
             [
              0.4444444444444444,
              "#bd3786"
             ],
             [
              0.5555555555555556,
              "#d8576b"
             ],
             [
              0.6666666666666666,
              "#ed7953"
             ],
             [
              0.7777777777777778,
              "#fb9f3a"
             ],
             [
              0.8888888888888888,
              "#fdca26"
             ],
             [
              1,
              "#f0f921"
             ]
            ],
            "type": "surface"
           }
          ],
          "table": [
           {
            "cells": {
             "fill": {
              "color": "#EBF0F8"
             },
             "line": {
              "color": "white"
             }
            },
            "header": {
             "fill": {
              "color": "#C8D4E3"
             },
             "line": {
              "color": "white"
             }
            },
            "type": "table"
           }
          ]
         },
         "layout": {
          "annotationdefaults": {
           "arrowcolor": "#2a3f5f",
           "arrowhead": 0,
           "arrowwidth": 1
          },
          "autotypenumbers": "strict",
          "coloraxis": {
           "colorbar": {
            "outlinewidth": 0,
            "ticks": ""
           }
          },
          "colorscale": {
           "diverging": [
            [
             0,
             "#8e0152"
            ],
            [
             0.1,
             "#c51b7d"
            ],
            [
             0.2,
             "#de77ae"
            ],
            [
             0.3,
             "#f1b6da"
            ],
            [
             0.4,
             "#fde0ef"
            ],
            [
             0.5,
             "#f7f7f7"
            ],
            [
             0.6,
             "#e6f5d0"
            ],
            [
             0.7,
             "#b8e186"
            ],
            [
             0.8,
             "#7fbc41"
            ],
            [
             0.9,
             "#4d9221"
            ],
            [
             1,
             "#276419"
            ]
           ],
           "sequential": [
            [
             0,
             "#0d0887"
            ],
            [
             0.1111111111111111,
             "#46039f"
            ],
            [
             0.2222222222222222,
             "#7201a8"
            ],
            [
             0.3333333333333333,
             "#9c179e"
            ],
            [
             0.4444444444444444,
             "#bd3786"
            ],
            [
             0.5555555555555556,
             "#d8576b"
            ],
            [
             0.6666666666666666,
             "#ed7953"
            ],
            [
             0.7777777777777778,
             "#fb9f3a"
            ],
            [
             0.8888888888888888,
             "#fdca26"
            ],
            [
             1,
             "#f0f921"
            ]
           ],
           "sequentialminus": [
            [
             0,
             "#0d0887"
            ],
            [
             0.1111111111111111,
             "#46039f"
            ],
            [
             0.2222222222222222,
             "#7201a8"
            ],
            [
             0.3333333333333333,
             "#9c179e"
            ],
            [
             0.4444444444444444,
             "#bd3786"
            ],
            [
             0.5555555555555556,
             "#d8576b"
            ],
            [
             0.6666666666666666,
             "#ed7953"
            ],
            [
             0.7777777777777778,
             "#fb9f3a"
            ],
            [
             0.8888888888888888,
             "#fdca26"
            ],
            [
             1,
             "#f0f921"
            ]
           ]
          },
          "colorway": [
           "#636efa",
           "#EF553B",
           "#00cc96",
           "#ab63fa",
           "#FFA15A",
           "#19d3f3",
           "#FF6692",
           "#B6E880",
           "#FF97FF",
           "#FECB52"
          ],
          "font": {
           "color": "#2a3f5f"
          },
          "geo": {
           "bgcolor": "white",
           "lakecolor": "white",
           "landcolor": "white",
           "showlakes": true,
           "showland": true,
           "subunitcolor": "#C8D4E3"
          },
          "hoverlabel": {
           "align": "left"
          },
          "hovermode": "closest",
          "mapbox": {
           "style": "light"
          },
          "paper_bgcolor": "white",
          "plot_bgcolor": "white",
          "polar": {
           "angularaxis": {
            "gridcolor": "#EBF0F8",
            "linecolor": "#EBF0F8",
            "ticks": ""
           },
           "bgcolor": "white",
           "radialaxis": {
            "gridcolor": "#EBF0F8",
            "linecolor": "#EBF0F8",
            "ticks": ""
           }
          },
          "scene": {
           "xaxis": {
            "backgroundcolor": "white",
            "gridcolor": "#DFE8F3",
            "gridwidth": 2,
            "linecolor": "#EBF0F8",
            "showbackground": true,
            "ticks": "",
            "zerolinecolor": "#EBF0F8"
           },
           "yaxis": {
            "backgroundcolor": "white",
            "gridcolor": "#DFE8F3",
            "gridwidth": 2,
            "linecolor": "#EBF0F8",
            "showbackground": true,
            "ticks": "",
            "zerolinecolor": "#EBF0F8"
           },
           "zaxis": {
            "backgroundcolor": "white",
            "gridcolor": "#DFE8F3",
            "gridwidth": 2,
            "linecolor": "#EBF0F8",
            "showbackground": true,
            "ticks": "",
            "zerolinecolor": "#EBF0F8"
           }
          },
          "shapedefaults": {
           "line": {
            "color": "#2a3f5f"
           }
          },
          "ternary": {
           "aaxis": {
            "gridcolor": "#DFE8F3",
            "linecolor": "#A2B1C6",
            "ticks": ""
           },
           "baxis": {
            "gridcolor": "#DFE8F3",
            "linecolor": "#A2B1C6",
            "ticks": ""
           },
           "bgcolor": "white",
           "caxis": {
            "gridcolor": "#DFE8F3",
            "linecolor": "#A2B1C6",
            "ticks": ""
           }
          },
          "title": {
           "x": 0.05
          },
          "xaxis": {
           "automargin": true,
           "gridcolor": "#EBF0F8",
           "linecolor": "#EBF0F8",
           "ticks": "",
           "title": {
            "standoff": 15
           },
           "zerolinecolor": "#EBF0F8",
           "zerolinewidth": 2
          },
          "yaxis": {
           "automargin": true,
           "gridcolor": "#EBF0F8",
           "linecolor": "#EBF0F8",
           "ticks": "",
           "title": {
            "standoff": 15
           },
           "zerolinecolor": "#EBF0F8",
           "zerolinewidth": 2
          }
         }
        },
        "title": {
         "text": "Neoteroi/BlackSheep - Cumulative Stars and Forks Over Time"
        },
        "xaxis": {
         "title": {
          "text": "Date"
         }
        },
        "yaxis": {
         "title": {
          "text": "Count"
         }
        }
       }
      }
     },
     "metadata": {},
     "output_type": "display_data"
    },
    {
     "data": {
      "application/vnd.plotly.v1+json": {
       "config": {
        "plotlyServerURL": "https://plot.ly"
       },
       "data": [
        {
         "marker": {
          "color": "gold"
         },
         "name": "New Stars",
         "type": "bar",
         "x": [
          "2018-12-31T09:30:23.000000000",
          "2019-01-31T09:30:23.000000000",
          "2019-02-28T09:30:23.000000000",
          "2019-03-31T09:30:23.000000000",
          "2019-04-30T09:30:23.000000000",
          "2019-05-31T09:30:23.000000000",
          "2019-06-30T09:30:23.000000000",
          "2019-07-31T09:30:23.000000000",
          "2019-08-31T09:30:23.000000000",
          "2019-09-30T09:30:23.000000000",
          "2019-10-31T09:30:23.000000000",
          "2019-11-30T09:30:23.000000000",
          "2019-12-31T09:30:23.000000000",
          "2020-01-31T09:30:23.000000000",
          "2020-02-29T09:30:23.000000000",
          "2020-03-31T09:30:23.000000000",
          "2020-04-30T09:30:23.000000000",
          "2020-05-31T09:30:23.000000000",
          "2020-06-30T09:30:23.000000000",
          "2020-07-31T09:30:23.000000000",
          "2020-08-31T09:30:23.000000000",
          "2020-09-30T09:30:23.000000000",
          "2020-10-31T09:30:23.000000000",
          "2020-11-30T09:30:23.000000000",
          "2020-12-31T09:30:23.000000000",
          "2021-01-31T09:30:23.000000000",
          "2021-02-28T09:30:23.000000000",
          "2021-03-31T09:30:23.000000000",
          "2021-04-30T09:30:23.000000000",
          "2021-05-31T09:30:23.000000000",
          "2021-06-30T09:30:23.000000000",
          "2021-07-31T09:30:23.000000000",
          "2021-08-31T09:30:23.000000000",
          "2021-09-30T09:30:23.000000000",
          "2021-10-31T09:30:23.000000000",
          "2021-11-30T09:30:23.000000000",
          "2021-12-31T09:30:23.000000000",
          "2022-01-31T09:30:23.000000000",
          "2022-02-28T09:30:23.000000000",
          "2022-03-31T09:30:23.000000000",
          "2022-04-30T09:30:23.000000000",
          "2022-05-31T09:30:23.000000000",
          "2022-06-30T09:30:23.000000000",
          "2022-07-31T09:30:23.000000000",
          "2022-08-31T09:30:23.000000000",
          "2022-09-30T09:30:23.000000000",
          "2022-10-31T09:30:23.000000000",
          "2022-11-30T09:30:23.000000000",
          "2022-12-31T09:30:23.000000000",
          "2023-01-31T09:30:23.000000000",
          "2023-02-28T09:30:23.000000000",
          "2023-03-31T09:30:23.000000000",
          "2023-04-30T09:30:23.000000000",
          "2023-05-31T09:30:23.000000000",
          "2023-06-30T09:30:23.000000000",
          "2023-07-31T09:30:23.000000000",
          "2023-08-31T09:30:23.000000000",
          "2023-09-30T09:30:23.000000000",
          "2023-10-31T09:30:23.000000000",
          "2023-11-30T09:30:23.000000000",
          "2023-12-31T09:30:23.000000000",
          "2024-01-31T09:30:23.000000000",
          "2024-02-29T09:30:23.000000000",
          "2024-03-31T09:30:23.000000000",
          "2024-04-30T09:30:23.000000000",
          "2024-05-31T09:30:23.000000000",
          "2024-06-30T09:30:23.000000000",
          "2024-07-31T09:30:23.000000000",
          "2024-08-31T09:30:23.000000000",
          "2024-09-30T09:30:23.000000000",
          "2024-10-31T09:30:23.000000000",
          "2024-11-30T09:30:23.000000000",
          "2024-12-31T09:30:23.000000000",
          "2025-01-31T09:30:23.000000000",
          "2025-02-28T09:30:23.000000000",
          "2025-03-31T09:30:23.000000000",
          "2025-04-30T09:30:23.000000000"
         ],
         "y": {
          "bdata": "AAAAAAAAAAAAAAAAAAAAAAAAAAAAAAAAAAAAAAAAAAAAAAAAAAAAAAAAAAAAAAAAAAAAAAAAAAAAAAAAAAAAAAAAAAAAAAAAAAAAAAAAAAAAAAAAAAAAAAAAAAAAAAAAAAAAAAAAAAAAAAAAAAAAAAAAAAAAAAAAAAAAAAAAAAAAAAAAAAAAAAAAAAAAAAAAAAAAAAAAAAAAAAAAAAAAAAAAAAAAAAAAAAAAAAAAAAAAAAAAAAAAAAAAAAAAAAAAAAAAAAAAAAAAAAAAAAAAAAAAAAAAAAAAAAAAAAAAAAAAAAAAAAAAAAAAAAAAAAAAAAAAAAAAAAAAAAAAAAAAAAAAAAAAAAAAAAAAAAAAAAAAAAAAAAAAAAAAAAAAAAAAAAAAAAAAAAAAAAAAAAAAAAAAAAAAAAAAAAAAAAAAAAAAAAAAAAAAAAAAAAAAAAAAAAAAAAAAAAAAAAAAAAAAAAAAAAAAAAAAAAAAAAAAAAAAAAAAAAAAAAAAAAAAAAAAAAAAAAAAAAAAAAAAAAAAAAAAAAAAAAAAAAAAAAAAAAAAAAAAAAAAAAAAAAAAAAAAAAAAAAAAAAAAAAAAAAAAAAAAAAAAAAAAAAAAAAAAAAAAAAAAAAAAAAAAAAAAAAAAAAAAAAAAAAAAAAAAAAAAAAAAAAAAAAAAAAAAAAAAAAAAAAAAAAAAAAAAAAAAAAAAAAAAAAAAAAAAAAAAAAAAAAAAAAAAAAAAAAAAAAAAAAAAAAAAAAAAAAAAAAAAAAAAAAAAAAAAAAAAAAAAAAAAAAAAAAAAAAAAAAAAAAAAAAAAAAAAAAAAAA==",
          "dtype": "f8"
         }
        },
        {
         "marker": {
          "color": "blue"
         },
         "name": "New Forks",
         "type": "bar",
         "x": [
          "2018-12-31T09:30:23.000000000",
          "2019-01-31T09:30:23.000000000",
          "2019-02-28T09:30:23.000000000",
          "2019-03-31T09:30:23.000000000",
          "2019-04-30T09:30:23.000000000",
          "2019-05-31T09:30:23.000000000",
          "2019-06-30T09:30:23.000000000",
          "2019-07-31T09:30:23.000000000",
          "2019-08-31T09:30:23.000000000",
          "2019-09-30T09:30:23.000000000",
          "2019-10-31T09:30:23.000000000",
          "2019-11-30T09:30:23.000000000",
          "2019-12-31T09:30:23.000000000",
          "2020-01-31T09:30:23.000000000",
          "2020-02-29T09:30:23.000000000",
          "2020-03-31T09:30:23.000000000",
          "2020-04-30T09:30:23.000000000",
          "2020-05-31T09:30:23.000000000",
          "2020-06-30T09:30:23.000000000",
          "2020-07-31T09:30:23.000000000",
          "2020-08-31T09:30:23.000000000",
          "2020-09-30T09:30:23.000000000",
          "2020-10-31T09:30:23.000000000",
          "2020-11-30T09:30:23.000000000",
          "2020-12-31T09:30:23.000000000",
          "2021-01-31T09:30:23.000000000",
          "2021-02-28T09:30:23.000000000",
          "2021-03-31T09:30:23.000000000",
          "2021-04-30T09:30:23.000000000",
          "2021-05-31T09:30:23.000000000",
          "2021-06-30T09:30:23.000000000",
          "2021-07-31T09:30:23.000000000",
          "2021-08-31T09:30:23.000000000",
          "2021-09-30T09:30:23.000000000",
          "2021-10-31T09:30:23.000000000",
          "2021-11-30T09:30:23.000000000",
          "2021-12-31T09:30:23.000000000",
          "2022-01-31T09:30:23.000000000",
          "2022-02-28T09:30:23.000000000",
          "2022-03-31T09:30:23.000000000",
          "2022-04-30T09:30:23.000000000",
          "2022-05-31T09:30:23.000000000",
          "2022-06-30T09:30:23.000000000",
          "2022-07-31T09:30:23.000000000",
          "2022-08-31T09:30:23.000000000",
          "2022-09-30T09:30:23.000000000",
          "2022-10-31T09:30:23.000000000",
          "2022-11-30T09:30:23.000000000",
          "2022-12-31T09:30:23.000000000",
          "2023-01-31T09:30:23.000000000",
          "2023-02-28T09:30:23.000000000",
          "2023-03-31T09:30:23.000000000",
          "2023-04-30T09:30:23.000000000",
          "2023-05-31T09:30:23.000000000",
          "2023-06-30T09:30:23.000000000",
          "2023-07-31T09:30:23.000000000",
          "2023-08-31T09:30:23.000000000",
          "2023-09-30T09:30:23.000000000",
          "2023-10-31T09:30:23.000000000",
          "2023-11-30T09:30:23.000000000",
          "2023-12-31T09:30:23.000000000",
          "2024-01-31T09:30:23.000000000",
          "2024-02-29T09:30:23.000000000",
          "2024-03-31T09:30:23.000000000",
          "2024-04-30T09:30:23.000000000",
          "2024-05-31T09:30:23.000000000",
          "2024-06-30T09:30:23.000000000",
          "2024-07-31T09:30:23.000000000",
          "2024-08-31T09:30:23.000000000",
          "2024-09-30T09:30:23.000000000",
          "2024-10-31T09:30:23.000000000",
          "2024-11-30T09:30:23.000000000",
          "2024-12-31T09:30:23.000000000",
          "2025-01-31T09:30:23.000000000",
          "2025-02-28T09:30:23.000000000",
          "2025-03-31T09:30:23.000000000",
          "2025-04-30T09:30:23.000000000"
         ],
         "y": {
          "bdata": "AAAAAAAAAAAAAAAAAAAAAAAAAAAAAAAAAAAAAAAAAAAAAAAAAAAAAAAAAAAAAAAAAAAAAAAAAAAAAAAAAAAAAAAAAAAAAAAAAAAAAAAAAAAAAAAAAAAAAAAAAAAAAAAAAAAAAAAAAAAAAAAAAAAAAAAAAAAAAAAAAAAAAAAAAAAAAAAAAAAAAAAAAAAAAAAAAAAAAAAAAAAAAAAAAAAAAAAAAAAAAAAAAAAAAAAAAAAAAAAAAAAAAAAAAAAAAAAAAAAAAAAAAAAAAAAAAAAAAAAAAAAAAAAAAAAAAAAAAAAAAAAAAAAAAAAAAAAAAAAAAAAAAAAAAAAAAAAAAAAAAAAAAAAAAAAAAAAAAAAAAAAAAAAAAAAAAAAAAAAAAAAAAAAAAAAAAAAAAAAAAAAAAAAAAAAAAAAAAAAAAAAAAAAAAAAAAAAAAAAAAAAAAAAAAAAAAAAAAAAAAAAAAAAAAAAAAAAAAAAAAAAAAAAAAAAAAAAAAAAAAAAAAAAAAAAAAAAAAAAAAAAAAAAAAAAAAAAAAAAAAAAAAAAAAAAAAAAAAAAAAAAAAAAAAAAAAAAAAAAAAAAAAAAAAAAAAAAAAAAAAAAAAAAAAAAAAAAAAAAAAAAAAAAAAAAAAAAAAAAAAAAAAAAAAAAAAAAAAAAAAAAAAAAAAAAAAAAAAAAAAAAAAAAAAAAAAAAAAAAAAAAAAAAAAAAAAAAAAAAAAAAAAAAAAAAAAAAAAAAAAAAAAAAAAAAAAAAAAAAAAAAAAAAAAAAAAAAAAAAAAAAAAAAAAAAAAAAAAAAAAAAAAAAAAAAAAAAAAAAAAA==",
          "dtype": "f8"
         }
        }
       ],
       "layout": {
        "barmode": "group",
        "height": 600,
        "legend": {
         "title": {
          "text": "Metric"
         }
        },
        "template": {
         "data": {
          "bar": [
           {
            "error_x": {
             "color": "#2a3f5f"
            },
            "error_y": {
             "color": "#2a3f5f"
            },
            "marker": {
             "line": {
              "color": "white",
              "width": 0.5
             },
             "pattern": {
              "fillmode": "overlay",
              "size": 10,
              "solidity": 0.2
             }
            },
            "type": "bar"
           }
          ],
          "barpolar": [
           {
            "marker": {
             "line": {
              "color": "white",
              "width": 0.5
             },
             "pattern": {
              "fillmode": "overlay",
              "size": 10,
              "solidity": 0.2
             }
            },
            "type": "barpolar"
           }
          ],
          "carpet": [
           {
            "aaxis": {
             "endlinecolor": "#2a3f5f",
             "gridcolor": "#C8D4E3",
             "linecolor": "#C8D4E3",
             "minorgridcolor": "#C8D4E3",
             "startlinecolor": "#2a3f5f"
            },
            "baxis": {
             "endlinecolor": "#2a3f5f",
             "gridcolor": "#C8D4E3",
             "linecolor": "#C8D4E3",
             "minorgridcolor": "#C8D4E3",
             "startlinecolor": "#2a3f5f"
            },
            "type": "carpet"
           }
          ],
          "choropleth": [
           {
            "colorbar": {
             "outlinewidth": 0,
             "ticks": ""
            },
            "type": "choropleth"
           }
          ],
          "contour": [
           {
            "colorbar": {
             "outlinewidth": 0,
             "ticks": ""
            },
            "colorscale": [
             [
              0,
              "#0d0887"
             ],
             [
              0.1111111111111111,
              "#46039f"
             ],
             [
              0.2222222222222222,
              "#7201a8"
             ],
             [
              0.3333333333333333,
              "#9c179e"
             ],
             [
              0.4444444444444444,
              "#bd3786"
             ],
             [
              0.5555555555555556,
              "#d8576b"
             ],
             [
              0.6666666666666666,
              "#ed7953"
             ],
             [
              0.7777777777777778,
              "#fb9f3a"
             ],
             [
              0.8888888888888888,
              "#fdca26"
             ],
             [
              1,
              "#f0f921"
             ]
            ],
            "type": "contour"
           }
          ],
          "contourcarpet": [
           {
            "colorbar": {
             "outlinewidth": 0,
             "ticks": ""
            },
            "type": "contourcarpet"
           }
          ],
          "heatmap": [
           {
            "colorbar": {
             "outlinewidth": 0,
             "ticks": ""
            },
            "colorscale": [
             [
              0,
              "#0d0887"
             ],
             [
              0.1111111111111111,
              "#46039f"
             ],
             [
              0.2222222222222222,
              "#7201a8"
             ],
             [
              0.3333333333333333,
              "#9c179e"
             ],
             [
              0.4444444444444444,
              "#bd3786"
             ],
             [
              0.5555555555555556,
              "#d8576b"
             ],
             [
              0.6666666666666666,
              "#ed7953"
             ],
             [
              0.7777777777777778,
              "#fb9f3a"
             ],
             [
              0.8888888888888888,
              "#fdca26"
             ],
             [
              1,
              "#f0f921"
             ]
            ],
            "type": "heatmap"
           }
          ],
          "histogram": [
           {
            "marker": {
             "pattern": {
              "fillmode": "overlay",
              "size": 10,
              "solidity": 0.2
             }
            },
            "type": "histogram"
           }
          ],
          "histogram2d": [
           {
            "colorbar": {
             "outlinewidth": 0,
             "ticks": ""
            },
            "colorscale": [
             [
              0,
              "#0d0887"
             ],
             [
              0.1111111111111111,
              "#46039f"
             ],
             [
              0.2222222222222222,
              "#7201a8"
             ],
             [
              0.3333333333333333,
              "#9c179e"
             ],
             [
              0.4444444444444444,
              "#bd3786"
             ],
             [
              0.5555555555555556,
              "#d8576b"
             ],
             [
              0.6666666666666666,
              "#ed7953"
             ],
             [
              0.7777777777777778,
              "#fb9f3a"
             ],
             [
              0.8888888888888888,
              "#fdca26"
             ],
             [
              1,
              "#f0f921"
             ]
            ],
            "type": "histogram2d"
           }
          ],
          "histogram2dcontour": [
           {
            "colorbar": {
             "outlinewidth": 0,
             "ticks": ""
            },
            "colorscale": [
             [
              0,
              "#0d0887"
             ],
             [
              0.1111111111111111,
              "#46039f"
             ],
             [
              0.2222222222222222,
              "#7201a8"
             ],
             [
              0.3333333333333333,
              "#9c179e"
             ],
             [
              0.4444444444444444,
              "#bd3786"
             ],
             [
              0.5555555555555556,
              "#d8576b"
             ],
             [
              0.6666666666666666,
              "#ed7953"
             ],
             [
              0.7777777777777778,
              "#fb9f3a"
             ],
             [
              0.8888888888888888,
              "#fdca26"
             ],
             [
              1,
              "#f0f921"
             ]
            ],
            "type": "histogram2dcontour"
           }
          ],
          "mesh3d": [
           {
            "colorbar": {
             "outlinewidth": 0,
             "ticks": ""
            },
            "type": "mesh3d"
           }
          ],
          "parcoords": [
           {
            "line": {
             "colorbar": {
              "outlinewidth": 0,
              "ticks": ""
             }
            },
            "type": "parcoords"
           }
          ],
          "pie": [
           {
            "automargin": true,
            "type": "pie"
           }
          ],
          "scatter": [
           {
            "fillpattern": {
             "fillmode": "overlay",
             "size": 10,
             "solidity": 0.2
            },
            "type": "scatter"
           }
          ],
          "scatter3d": [
           {
            "line": {
             "colorbar": {
              "outlinewidth": 0,
              "ticks": ""
             }
            },
            "marker": {
             "colorbar": {
              "outlinewidth": 0,
              "ticks": ""
             }
            },
            "type": "scatter3d"
           }
          ],
          "scattercarpet": [
           {
            "marker": {
             "colorbar": {
              "outlinewidth": 0,
              "ticks": ""
             }
            },
            "type": "scattercarpet"
           }
          ],
          "scattergeo": [
           {
            "marker": {
             "colorbar": {
              "outlinewidth": 0,
              "ticks": ""
             }
            },
            "type": "scattergeo"
           }
          ],
          "scattergl": [
           {
            "marker": {
             "colorbar": {
              "outlinewidth": 0,
              "ticks": ""
             }
            },
            "type": "scattergl"
           }
          ],
          "scattermap": [
           {
            "marker": {
             "colorbar": {
              "outlinewidth": 0,
              "ticks": ""
             }
            },
            "type": "scattermap"
           }
          ],
          "scattermapbox": [
           {
            "marker": {
             "colorbar": {
              "outlinewidth": 0,
              "ticks": ""
             }
            },
            "type": "scattermapbox"
           }
          ],
          "scatterpolar": [
           {
            "marker": {
             "colorbar": {
              "outlinewidth": 0,
              "ticks": ""
             }
            },
            "type": "scatterpolar"
           }
          ],
          "scatterpolargl": [
           {
            "marker": {
             "colorbar": {
              "outlinewidth": 0,
              "ticks": ""
             }
            },
            "type": "scatterpolargl"
           }
          ],
          "scatterternary": [
           {
            "marker": {
             "colorbar": {
              "outlinewidth": 0,
              "ticks": ""
             }
            },
            "type": "scatterternary"
           }
          ],
          "surface": [
           {
            "colorbar": {
             "outlinewidth": 0,
             "ticks": ""
            },
            "colorscale": [
             [
              0,
              "#0d0887"
             ],
             [
              0.1111111111111111,
              "#46039f"
             ],
             [
              0.2222222222222222,
              "#7201a8"
             ],
             [
              0.3333333333333333,
              "#9c179e"
             ],
             [
              0.4444444444444444,
              "#bd3786"
             ],
             [
              0.5555555555555556,
              "#d8576b"
             ],
             [
              0.6666666666666666,
              "#ed7953"
             ],
             [
              0.7777777777777778,
              "#fb9f3a"
             ],
             [
              0.8888888888888888,
              "#fdca26"
             ],
             [
              1,
              "#f0f921"
             ]
            ],
            "type": "surface"
           }
          ],
          "table": [
           {
            "cells": {
             "fill": {
              "color": "#EBF0F8"
             },
             "line": {
              "color": "white"
             }
            },
            "header": {
             "fill": {
              "color": "#C8D4E3"
             },
             "line": {
              "color": "white"
             }
            },
            "type": "table"
           }
          ]
         },
         "layout": {
          "annotationdefaults": {
           "arrowcolor": "#2a3f5f",
           "arrowhead": 0,
           "arrowwidth": 1
          },
          "autotypenumbers": "strict",
          "coloraxis": {
           "colorbar": {
            "outlinewidth": 0,
            "ticks": ""
           }
          },
          "colorscale": {
           "diverging": [
            [
             0,
             "#8e0152"
            ],
            [
             0.1,
             "#c51b7d"
            ],
            [
             0.2,
             "#de77ae"
            ],
            [
             0.3,
             "#f1b6da"
            ],
            [
             0.4,
             "#fde0ef"
            ],
            [
             0.5,
             "#f7f7f7"
            ],
            [
             0.6,
             "#e6f5d0"
            ],
            [
             0.7,
             "#b8e186"
            ],
            [
             0.8,
             "#7fbc41"
            ],
            [
             0.9,
             "#4d9221"
            ],
            [
             1,
             "#276419"
            ]
           ],
           "sequential": [
            [
             0,
             "#0d0887"
            ],
            [
             0.1111111111111111,
             "#46039f"
            ],
            [
             0.2222222222222222,
             "#7201a8"
            ],
            [
             0.3333333333333333,
             "#9c179e"
            ],
            [
             0.4444444444444444,
             "#bd3786"
            ],
            [
             0.5555555555555556,
             "#d8576b"
            ],
            [
             0.6666666666666666,
             "#ed7953"
            ],
            [
             0.7777777777777778,
             "#fb9f3a"
            ],
            [
             0.8888888888888888,
             "#fdca26"
            ],
            [
             1,
             "#f0f921"
            ]
           ],
           "sequentialminus": [
            [
             0,
             "#0d0887"
            ],
            [
             0.1111111111111111,
             "#46039f"
            ],
            [
             0.2222222222222222,
             "#7201a8"
            ],
            [
             0.3333333333333333,
             "#9c179e"
            ],
            [
             0.4444444444444444,
             "#bd3786"
            ],
            [
             0.5555555555555556,
             "#d8576b"
            ],
            [
             0.6666666666666666,
             "#ed7953"
            ],
            [
             0.7777777777777778,
             "#fb9f3a"
            ],
            [
             0.8888888888888888,
             "#fdca26"
            ],
            [
             1,
             "#f0f921"
            ]
           ]
          },
          "colorway": [
           "#636efa",
           "#EF553B",
           "#00cc96",
           "#ab63fa",
           "#FFA15A",
           "#19d3f3",
           "#FF6692",
           "#B6E880",
           "#FF97FF",
           "#FECB52"
          ],
          "font": {
           "color": "#2a3f5f"
          },
          "geo": {
           "bgcolor": "white",
           "lakecolor": "white",
           "landcolor": "white",
           "showlakes": true,
           "showland": true,
           "subunitcolor": "#C8D4E3"
          },
          "hoverlabel": {
           "align": "left"
          },
          "hovermode": "closest",
          "mapbox": {
           "style": "light"
          },
          "paper_bgcolor": "white",
          "plot_bgcolor": "white",
          "polar": {
           "angularaxis": {
            "gridcolor": "#EBF0F8",
            "linecolor": "#EBF0F8",
            "ticks": ""
           },
           "bgcolor": "white",
           "radialaxis": {
            "gridcolor": "#EBF0F8",
            "linecolor": "#EBF0F8",
            "ticks": ""
           }
          },
          "scene": {
           "xaxis": {
            "backgroundcolor": "white",
            "gridcolor": "#DFE8F3",
            "gridwidth": 2,
            "linecolor": "#EBF0F8",
            "showbackground": true,
            "ticks": "",
            "zerolinecolor": "#EBF0F8"
           },
           "yaxis": {
            "backgroundcolor": "white",
            "gridcolor": "#DFE8F3",
            "gridwidth": 2,
            "linecolor": "#EBF0F8",
            "showbackground": true,
            "ticks": "",
            "zerolinecolor": "#EBF0F8"
           },
           "zaxis": {
            "backgroundcolor": "white",
            "gridcolor": "#DFE8F3",
            "gridwidth": 2,
            "linecolor": "#EBF0F8",
            "showbackground": true,
            "ticks": "",
            "zerolinecolor": "#EBF0F8"
           }
          },
          "shapedefaults": {
           "line": {
            "color": "#2a3f5f"
           }
          },
          "ternary": {
           "aaxis": {
            "gridcolor": "#DFE8F3",
            "linecolor": "#A2B1C6",
            "ticks": ""
           },
           "baxis": {
            "gridcolor": "#DFE8F3",
            "linecolor": "#A2B1C6",
            "ticks": ""
           },
           "bgcolor": "white",
           "caxis": {
            "gridcolor": "#DFE8F3",
            "linecolor": "#A2B1C6",
            "ticks": ""
           }
          },
          "title": {
           "x": 0.05
          },
          "xaxis": {
           "automargin": true,
           "gridcolor": "#EBF0F8",
           "linecolor": "#EBF0F8",
           "ticks": "",
           "title": {
            "standoff": 15
           },
           "zerolinecolor": "#EBF0F8",
           "zerolinewidth": 2
          },
          "yaxis": {
           "automargin": true,
           "gridcolor": "#EBF0F8",
           "linecolor": "#EBF0F8",
           "ticks": "",
           "title": {
            "standoff": 15
           },
           "zerolinecolor": "#EBF0F8",
           "zerolinewidth": 2
          }
         }
        },
        "title": {
         "text": "Neoteroi/BlackSheep - New Stars and Forks Over Time"
        },
        "xaxis": {
         "title": {
          "text": "Date"
         }
        },
        "yaxis": {
         "title": {
          "text": "Count"
         }
        }
       }
      }
     },
     "metadata": {},
     "output_type": "display_data"
    },
    {
     "data": {
      "application/vnd.plotly.v1+json": {
       "config": {
        "plotlyServerURL": "https://plot.ly"
       },
       "data": [
        {
         "line": {
          "color": "gold",
          "width": 3
         },
         "mode": "lines",
         "name": "Stars (30-day avg)",
         "type": "scatter",
         "x": [
          "2018-12-31T09:30:23.000000000",
          "2019-01-31T09:30:23.000000000",
          "2019-02-28T09:30:23.000000000",
          "2019-03-31T09:30:23.000000000",
          "2019-04-30T09:30:23.000000000",
          "2019-05-31T09:30:23.000000000",
          "2019-06-30T09:30:23.000000000",
          "2019-07-31T09:30:23.000000000",
          "2019-08-31T09:30:23.000000000",
          "2019-09-30T09:30:23.000000000",
          "2019-10-31T09:30:23.000000000",
          "2019-11-30T09:30:23.000000000",
          "2019-12-31T09:30:23.000000000",
          "2020-01-31T09:30:23.000000000",
          "2020-02-29T09:30:23.000000000",
          "2020-03-31T09:30:23.000000000",
          "2020-04-30T09:30:23.000000000",
          "2020-05-31T09:30:23.000000000",
          "2020-06-30T09:30:23.000000000",
          "2020-07-31T09:30:23.000000000",
          "2020-08-31T09:30:23.000000000",
          "2020-09-30T09:30:23.000000000",
          "2020-10-31T09:30:23.000000000",
          "2020-11-30T09:30:23.000000000",
          "2020-12-31T09:30:23.000000000",
          "2021-01-31T09:30:23.000000000",
          "2021-02-28T09:30:23.000000000",
          "2021-03-31T09:30:23.000000000",
          "2021-04-30T09:30:23.000000000",
          "2021-05-31T09:30:23.000000000",
          "2021-06-30T09:30:23.000000000",
          "2021-07-31T09:30:23.000000000",
          "2021-08-31T09:30:23.000000000",
          "2021-09-30T09:30:23.000000000",
          "2021-10-31T09:30:23.000000000",
          "2021-11-30T09:30:23.000000000",
          "2021-12-31T09:30:23.000000000",
          "2022-01-31T09:30:23.000000000",
          "2022-02-28T09:30:23.000000000",
          "2022-03-31T09:30:23.000000000",
          "2022-04-30T09:30:23.000000000",
          "2022-05-31T09:30:23.000000000",
          "2022-06-30T09:30:23.000000000",
          "2022-07-31T09:30:23.000000000",
          "2022-08-31T09:30:23.000000000",
          "2022-09-30T09:30:23.000000000",
          "2022-10-31T09:30:23.000000000",
          "2022-11-30T09:30:23.000000000",
          "2022-12-31T09:30:23.000000000",
          "2023-01-31T09:30:23.000000000",
          "2023-02-28T09:30:23.000000000",
          "2023-03-31T09:30:23.000000000",
          "2023-04-30T09:30:23.000000000",
          "2023-05-31T09:30:23.000000000",
          "2023-06-30T09:30:23.000000000",
          "2023-07-31T09:30:23.000000000",
          "2023-08-31T09:30:23.000000000",
          "2023-09-30T09:30:23.000000000",
          "2023-10-31T09:30:23.000000000",
          "2023-11-30T09:30:23.000000000",
          "2023-12-31T09:30:23.000000000",
          "2024-01-31T09:30:23.000000000",
          "2024-02-29T09:30:23.000000000",
          "2024-03-31T09:30:23.000000000",
          "2024-04-30T09:30:23.000000000",
          "2024-05-31T09:30:23.000000000",
          "2024-06-30T09:30:23.000000000",
          "2024-07-31T09:30:23.000000000",
          "2024-08-31T09:30:23.000000000",
          "2024-09-30T09:30:23.000000000",
          "2024-10-31T09:30:23.000000000",
          "2024-11-30T09:30:23.000000000",
          "2024-12-31T09:30:23.000000000",
          "2025-01-31T09:30:23.000000000",
          "2025-02-28T09:30:23.000000000",
          "2025-03-31T09:30:23.000000000",
          "2025-04-30T09:30:23.000000000"
         ],
         "y": {
          "bdata": "AAAAAAAA+H8AAAAAAAD4fwAAAAAAAPh/AAAAAAAA+H8AAAAAAAD4fwAAAAAAAPh/AAAAAAAA+H8AAAAAAAD4fwAAAAAAAPh/AAAAAAAA+H8AAAAAAAD4fwAAAAAAAPh/AAAAAAAA+H8AAAAAAAD4fwAAAAAAAPh/AAAAAAAA+H8AAAAAAAD4fwAAAAAAAPh/AAAAAAAA+H8AAAAAAAD4fwAAAAAAAPh/AAAAAAAA+H8AAAAAAAD4fwAAAAAAAPh/AAAAAAAA+H8AAAAAAAD4fwAAAAAAAPh/AAAAAAAA+H8AAAAAAAD4fwAAAAAAAAAAAAAAAAAAAAAAAAAAAAAAAAAAAAAAAAAAAAAAAAAAAAAAAAAAAAAAAAAAAAAAAAAAAAAAAAAAAAAAAAAAAAAAAAAAAAAAAAAAAAAAAAAAAAAAAAAAAAAAAAAAAAAAAAAAAAAAAAAAAAAAAAAAAAAAAAAAAAAAAAAAAAAAAAAAAAAAAAAAAAAAAAAAAAAAAAAAAAAAAAAAAAAAAAAAAAAAAAAAAAAAAAAAAAAAAAAAAAAAAAAAAAAAAAAAAAAAAAAAAAAAAAAAAAAAAAAAAAAAAAAAAAAAAAAAAAAAAAAAAAAAAAAAAAAAAAAAAAAAAAAAAAAAAAAAAAAAAAAAAAAAAAAAAAAAAAAAAAAAAAAAAAAAAAAAAAAAAAAAAAAAAAAAAAAAAAAAAAAAAAAAAAAAAAAAAAAAAAAAAAAAAAAAAAAAAAAAAAAAAAAAAAAAAAAAAAAAAAAAAAAAAAAAAAAAAAAAAAAAAAAAAAAAAAAAAAAAAAAAAAAAAA==",
          "dtype": "f8"
         }
        },
        {
         "line": {
          "color": "blue",
          "width": 3
         },
         "mode": "lines",
         "name": "Forks (30-day avg)",
         "type": "scatter",
         "x": [
          "2018-12-31T09:30:23.000000000",
          "2019-01-31T09:30:23.000000000",
          "2019-02-28T09:30:23.000000000",
          "2019-03-31T09:30:23.000000000",
          "2019-04-30T09:30:23.000000000",
          "2019-05-31T09:30:23.000000000",
          "2019-06-30T09:30:23.000000000",
          "2019-07-31T09:30:23.000000000",
          "2019-08-31T09:30:23.000000000",
          "2019-09-30T09:30:23.000000000",
          "2019-10-31T09:30:23.000000000",
          "2019-11-30T09:30:23.000000000",
          "2019-12-31T09:30:23.000000000",
          "2020-01-31T09:30:23.000000000",
          "2020-02-29T09:30:23.000000000",
          "2020-03-31T09:30:23.000000000",
          "2020-04-30T09:30:23.000000000",
          "2020-05-31T09:30:23.000000000",
          "2020-06-30T09:30:23.000000000",
          "2020-07-31T09:30:23.000000000",
          "2020-08-31T09:30:23.000000000",
          "2020-09-30T09:30:23.000000000",
          "2020-10-31T09:30:23.000000000",
          "2020-11-30T09:30:23.000000000",
          "2020-12-31T09:30:23.000000000",
          "2021-01-31T09:30:23.000000000",
          "2021-02-28T09:30:23.000000000",
          "2021-03-31T09:30:23.000000000",
          "2021-04-30T09:30:23.000000000",
          "2021-05-31T09:30:23.000000000",
          "2021-06-30T09:30:23.000000000",
          "2021-07-31T09:30:23.000000000",
          "2021-08-31T09:30:23.000000000",
          "2021-09-30T09:30:23.000000000",
          "2021-10-31T09:30:23.000000000",
          "2021-11-30T09:30:23.000000000",
          "2021-12-31T09:30:23.000000000",
          "2022-01-31T09:30:23.000000000",
          "2022-02-28T09:30:23.000000000",
          "2022-03-31T09:30:23.000000000",
          "2022-04-30T09:30:23.000000000",
          "2022-05-31T09:30:23.000000000",
          "2022-06-30T09:30:23.000000000",
          "2022-07-31T09:30:23.000000000",
          "2022-08-31T09:30:23.000000000",
          "2022-09-30T09:30:23.000000000",
          "2022-10-31T09:30:23.000000000",
          "2022-11-30T09:30:23.000000000",
          "2022-12-31T09:30:23.000000000",
          "2023-01-31T09:30:23.000000000",
          "2023-02-28T09:30:23.000000000",
          "2023-03-31T09:30:23.000000000",
          "2023-04-30T09:30:23.000000000",
          "2023-05-31T09:30:23.000000000",
          "2023-06-30T09:30:23.000000000",
          "2023-07-31T09:30:23.000000000",
          "2023-08-31T09:30:23.000000000",
          "2023-09-30T09:30:23.000000000",
          "2023-10-31T09:30:23.000000000",
          "2023-11-30T09:30:23.000000000",
          "2023-12-31T09:30:23.000000000",
          "2024-01-31T09:30:23.000000000",
          "2024-02-29T09:30:23.000000000",
          "2024-03-31T09:30:23.000000000",
          "2024-04-30T09:30:23.000000000",
          "2024-05-31T09:30:23.000000000",
          "2024-06-30T09:30:23.000000000",
          "2024-07-31T09:30:23.000000000",
          "2024-08-31T09:30:23.000000000",
          "2024-09-30T09:30:23.000000000",
          "2024-10-31T09:30:23.000000000",
          "2024-11-30T09:30:23.000000000",
          "2024-12-31T09:30:23.000000000",
          "2025-01-31T09:30:23.000000000",
          "2025-02-28T09:30:23.000000000",
          "2025-03-31T09:30:23.000000000",
          "2025-04-30T09:30:23.000000000"
         ],
         "y": {
          "bdata": "AAAAAAAA+H8AAAAAAAD4fwAAAAAAAPh/AAAAAAAA+H8AAAAAAAD4fwAAAAAAAPh/AAAAAAAA+H8AAAAAAAD4fwAAAAAAAPh/AAAAAAAA+H8AAAAAAAD4fwAAAAAAAPh/AAAAAAAA+H8AAAAAAAD4fwAAAAAAAPh/AAAAAAAA+H8AAAAAAAD4fwAAAAAAAPh/AAAAAAAA+H8AAAAAAAD4fwAAAAAAAPh/AAAAAAAA+H8AAAAAAAD4fwAAAAAAAPh/AAAAAAAA+H8AAAAAAAD4fwAAAAAAAPh/AAAAAAAA+H8AAAAAAAD4fwAAAAAAAAAAAAAAAAAAAAAAAAAAAAAAAAAAAAAAAAAAAAAAAAAAAAAAAAAAAAAAAAAAAAAAAAAAAAAAAAAAAAAAAAAAAAAAAAAAAAAAAAAAAAAAAAAAAAAAAAAAAAAAAAAAAAAAAAAAAAAAAAAAAAAAAAAAAAAAAAAAAAAAAAAAAAAAAAAAAAAAAAAAAAAAAAAAAAAAAAAAAAAAAAAAAAAAAAAAAAAAAAAAAAAAAAAAAAAAAAAAAAAAAAAAAAAAAAAAAAAAAAAAAAAAAAAAAAAAAAAAAAAAAAAAAAAAAAAAAAAAAAAAAAAAAAAAAAAAAAAAAAAAAAAAAAAAAAAAAAAAAAAAAAAAAAAAAAAAAAAAAAAAAAAAAAAAAAAAAAAAAAAAAAAAAAAAAAAAAAAAAAAAAAAAAAAAAAAAAAAAAAAAAAAAAAAAAAAAAAAAAAAAAAAAAAAAAAAAAAAAAAAAAAAAAAAAAAAAAAAAAAAAAAAAAAAAAAAAAAAAAAAAAAAAAA==",
          "dtype": "f8"
         }
        }
       ],
       "layout": {
        "height": 600,
        "legend": {
         "title": {
          "text": "Metric"
         }
        },
        "template": {
         "data": {
          "bar": [
           {
            "error_x": {
             "color": "#2a3f5f"
            },
            "error_y": {
             "color": "#2a3f5f"
            },
            "marker": {
             "line": {
              "color": "white",
              "width": 0.5
             },
             "pattern": {
              "fillmode": "overlay",
              "size": 10,
              "solidity": 0.2
             }
            },
            "type": "bar"
           }
          ],
          "barpolar": [
           {
            "marker": {
             "line": {
              "color": "white",
              "width": 0.5
             },
             "pattern": {
              "fillmode": "overlay",
              "size": 10,
              "solidity": 0.2
             }
            },
            "type": "barpolar"
           }
          ],
          "carpet": [
           {
            "aaxis": {
             "endlinecolor": "#2a3f5f",
             "gridcolor": "#C8D4E3",
             "linecolor": "#C8D4E3",
             "minorgridcolor": "#C8D4E3",
             "startlinecolor": "#2a3f5f"
            },
            "baxis": {
             "endlinecolor": "#2a3f5f",
             "gridcolor": "#C8D4E3",
             "linecolor": "#C8D4E3",
             "minorgridcolor": "#C8D4E3",
             "startlinecolor": "#2a3f5f"
            },
            "type": "carpet"
           }
          ],
          "choropleth": [
           {
            "colorbar": {
             "outlinewidth": 0,
             "ticks": ""
            },
            "type": "choropleth"
           }
          ],
          "contour": [
           {
            "colorbar": {
             "outlinewidth": 0,
             "ticks": ""
            },
            "colorscale": [
             [
              0,
              "#0d0887"
             ],
             [
              0.1111111111111111,
              "#46039f"
             ],
             [
              0.2222222222222222,
              "#7201a8"
             ],
             [
              0.3333333333333333,
              "#9c179e"
             ],
             [
              0.4444444444444444,
              "#bd3786"
             ],
             [
              0.5555555555555556,
              "#d8576b"
             ],
             [
              0.6666666666666666,
              "#ed7953"
             ],
             [
              0.7777777777777778,
              "#fb9f3a"
             ],
             [
              0.8888888888888888,
              "#fdca26"
             ],
             [
              1,
              "#f0f921"
             ]
            ],
            "type": "contour"
           }
          ],
          "contourcarpet": [
           {
            "colorbar": {
             "outlinewidth": 0,
             "ticks": ""
            },
            "type": "contourcarpet"
           }
          ],
          "heatmap": [
           {
            "colorbar": {
             "outlinewidth": 0,
             "ticks": ""
            },
            "colorscale": [
             [
              0,
              "#0d0887"
             ],
             [
              0.1111111111111111,
              "#46039f"
             ],
             [
              0.2222222222222222,
              "#7201a8"
             ],
             [
              0.3333333333333333,
              "#9c179e"
             ],
             [
              0.4444444444444444,
              "#bd3786"
             ],
             [
              0.5555555555555556,
              "#d8576b"
             ],
             [
              0.6666666666666666,
              "#ed7953"
             ],
             [
              0.7777777777777778,
              "#fb9f3a"
             ],
             [
              0.8888888888888888,
              "#fdca26"
             ],
             [
              1,
              "#f0f921"
             ]
            ],
            "type": "heatmap"
           }
          ],
          "histogram": [
           {
            "marker": {
             "pattern": {
              "fillmode": "overlay",
              "size": 10,
              "solidity": 0.2
             }
            },
            "type": "histogram"
           }
          ],
          "histogram2d": [
           {
            "colorbar": {
             "outlinewidth": 0,
             "ticks": ""
            },
            "colorscale": [
             [
              0,
              "#0d0887"
             ],
             [
              0.1111111111111111,
              "#46039f"
             ],
             [
              0.2222222222222222,
              "#7201a8"
             ],
             [
              0.3333333333333333,
              "#9c179e"
             ],
             [
              0.4444444444444444,
              "#bd3786"
             ],
             [
              0.5555555555555556,
              "#d8576b"
             ],
             [
              0.6666666666666666,
              "#ed7953"
             ],
             [
              0.7777777777777778,
              "#fb9f3a"
             ],
             [
              0.8888888888888888,
              "#fdca26"
             ],
             [
              1,
              "#f0f921"
             ]
            ],
            "type": "histogram2d"
           }
          ],
          "histogram2dcontour": [
           {
            "colorbar": {
             "outlinewidth": 0,
             "ticks": ""
            },
            "colorscale": [
             [
              0,
              "#0d0887"
             ],
             [
              0.1111111111111111,
              "#46039f"
             ],
             [
              0.2222222222222222,
              "#7201a8"
             ],
             [
              0.3333333333333333,
              "#9c179e"
             ],
             [
              0.4444444444444444,
              "#bd3786"
             ],
             [
              0.5555555555555556,
              "#d8576b"
             ],
             [
              0.6666666666666666,
              "#ed7953"
             ],
             [
              0.7777777777777778,
              "#fb9f3a"
             ],
             [
              0.8888888888888888,
              "#fdca26"
             ],
             [
              1,
              "#f0f921"
             ]
            ],
            "type": "histogram2dcontour"
           }
          ],
          "mesh3d": [
           {
            "colorbar": {
             "outlinewidth": 0,
             "ticks": ""
            },
            "type": "mesh3d"
           }
          ],
          "parcoords": [
           {
            "line": {
             "colorbar": {
              "outlinewidth": 0,
              "ticks": ""
             }
            },
            "type": "parcoords"
           }
          ],
          "pie": [
           {
            "automargin": true,
            "type": "pie"
           }
          ],
          "scatter": [
           {
            "fillpattern": {
             "fillmode": "overlay",
             "size": 10,
             "solidity": 0.2
            },
            "type": "scatter"
           }
          ],
          "scatter3d": [
           {
            "line": {
             "colorbar": {
              "outlinewidth": 0,
              "ticks": ""
             }
            },
            "marker": {
             "colorbar": {
              "outlinewidth": 0,
              "ticks": ""
             }
            },
            "type": "scatter3d"
           }
          ],
          "scattercarpet": [
           {
            "marker": {
             "colorbar": {
              "outlinewidth": 0,
              "ticks": ""
             }
            },
            "type": "scattercarpet"
           }
          ],
          "scattergeo": [
           {
            "marker": {
             "colorbar": {
              "outlinewidth": 0,
              "ticks": ""
             }
            },
            "type": "scattergeo"
           }
          ],
          "scattergl": [
           {
            "marker": {
             "colorbar": {
              "outlinewidth": 0,
              "ticks": ""
             }
            },
            "type": "scattergl"
           }
          ],
          "scattermap": [
           {
            "marker": {
             "colorbar": {
              "outlinewidth": 0,
              "ticks": ""
             }
            },
            "type": "scattermap"
           }
          ],
          "scattermapbox": [
           {
            "marker": {
             "colorbar": {
              "outlinewidth": 0,
              "ticks": ""
             }
            },
            "type": "scattermapbox"
           }
          ],
          "scatterpolar": [
           {
            "marker": {
             "colorbar": {
              "outlinewidth": 0,
              "ticks": ""
             }
            },
            "type": "scatterpolar"
           }
          ],
          "scatterpolargl": [
           {
            "marker": {
             "colorbar": {
              "outlinewidth": 0,
              "ticks": ""
             }
            },
            "type": "scatterpolargl"
           }
          ],
          "scatterternary": [
           {
            "marker": {
             "colorbar": {
              "outlinewidth": 0,
              "ticks": ""
             }
            },
            "type": "scatterternary"
           }
          ],
          "surface": [
           {
            "colorbar": {
             "outlinewidth": 0,
             "ticks": ""
            },
            "colorscale": [
             [
              0,
              "#0d0887"
             ],
             [
              0.1111111111111111,
              "#46039f"
             ],
             [
              0.2222222222222222,
              "#7201a8"
             ],
             [
              0.3333333333333333,
              "#9c179e"
             ],
             [
              0.4444444444444444,
              "#bd3786"
             ],
             [
              0.5555555555555556,
              "#d8576b"
             ],
             [
              0.6666666666666666,
              "#ed7953"
             ],
             [
              0.7777777777777778,
              "#fb9f3a"
             ],
             [
              0.8888888888888888,
              "#fdca26"
             ],
             [
              1,
              "#f0f921"
             ]
            ],
            "type": "surface"
           }
          ],
          "table": [
           {
            "cells": {
             "fill": {
              "color": "#EBF0F8"
             },
             "line": {
              "color": "white"
             }
            },
            "header": {
             "fill": {
              "color": "#C8D4E3"
             },
             "line": {
              "color": "white"
             }
            },
            "type": "table"
           }
          ]
         },
         "layout": {
          "annotationdefaults": {
           "arrowcolor": "#2a3f5f",
           "arrowhead": 0,
           "arrowwidth": 1
          },
          "autotypenumbers": "strict",
          "coloraxis": {
           "colorbar": {
            "outlinewidth": 0,
            "ticks": ""
           }
          },
          "colorscale": {
           "diverging": [
            [
             0,
             "#8e0152"
            ],
            [
             0.1,
             "#c51b7d"
            ],
            [
             0.2,
             "#de77ae"
            ],
            [
             0.3,
             "#f1b6da"
            ],
            [
             0.4,
             "#fde0ef"
            ],
            [
             0.5,
             "#f7f7f7"
            ],
            [
             0.6,
             "#e6f5d0"
            ],
            [
             0.7,
             "#b8e186"
            ],
            [
             0.8,
             "#7fbc41"
            ],
            [
             0.9,
             "#4d9221"
            ],
            [
             1,
             "#276419"
            ]
           ],
           "sequential": [
            [
             0,
             "#0d0887"
            ],
            [
             0.1111111111111111,
             "#46039f"
            ],
            [
             0.2222222222222222,
             "#7201a8"
            ],
            [
             0.3333333333333333,
             "#9c179e"
            ],
            [
             0.4444444444444444,
             "#bd3786"
            ],
            [
             0.5555555555555556,
             "#d8576b"
            ],
            [
             0.6666666666666666,
             "#ed7953"
            ],
            [
             0.7777777777777778,
             "#fb9f3a"
            ],
            [
             0.8888888888888888,
             "#fdca26"
            ],
            [
             1,
             "#f0f921"
            ]
           ],
           "sequentialminus": [
            [
             0,
             "#0d0887"
            ],
            [
             0.1111111111111111,
             "#46039f"
            ],
            [
             0.2222222222222222,
             "#7201a8"
            ],
            [
             0.3333333333333333,
             "#9c179e"
            ],
            [
             0.4444444444444444,
             "#bd3786"
            ],
            [
             0.5555555555555556,
             "#d8576b"
            ],
            [
             0.6666666666666666,
             "#ed7953"
            ],
            [
             0.7777777777777778,
             "#fb9f3a"
            ],
            [
             0.8888888888888888,
             "#fdca26"
            ],
            [
             1,
             "#f0f921"
            ]
           ]
          },
          "colorway": [
           "#636efa",
           "#EF553B",
           "#00cc96",
           "#ab63fa",
           "#FFA15A",
           "#19d3f3",
           "#FF6692",
           "#B6E880",
           "#FF97FF",
           "#FECB52"
          ],
          "font": {
           "color": "#2a3f5f"
          },
          "geo": {
           "bgcolor": "white",
           "lakecolor": "white",
           "landcolor": "white",
           "showlakes": true,
           "showland": true,
           "subunitcolor": "#C8D4E3"
          },
          "hoverlabel": {
           "align": "left"
          },
          "hovermode": "closest",
          "mapbox": {
           "style": "light"
          },
          "paper_bgcolor": "white",
          "plot_bgcolor": "white",
          "polar": {
           "angularaxis": {
            "gridcolor": "#EBF0F8",
            "linecolor": "#EBF0F8",
            "ticks": ""
           },
           "bgcolor": "white",
           "radialaxis": {
            "gridcolor": "#EBF0F8",
            "linecolor": "#EBF0F8",
            "ticks": ""
           }
          },
          "scene": {
           "xaxis": {
            "backgroundcolor": "white",
            "gridcolor": "#DFE8F3",
            "gridwidth": 2,
            "linecolor": "#EBF0F8",
            "showbackground": true,
            "ticks": "",
            "zerolinecolor": "#EBF0F8"
           },
           "yaxis": {
            "backgroundcolor": "white",
            "gridcolor": "#DFE8F3",
            "gridwidth": 2,
            "linecolor": "#EBF0F8",
            "showbackground": true,
            "ticks": "",
            "zerolinecolor": "#EBF0F8"
           },
           "zaxis": {
            "backgroundcolor": "white",
            "gridcolor": "#DFE8F3",
            "gridwidth": 2,
            "linecolor": "#EBF0F8",
            "showbackground": true,
            "ticks": "",
            "zerolinecolor": "#EBF0F8"
           }
          },
          "shapedefaults": {
           "line": {
            "color": "#2a3f5f"
           }
          },
          "ternary": {
           "aaxis": {
            "gridcolor": "#DFE8F3",
            "linecolor": "#A2B1C6",
            "ticks": ""
           },
           "baxis": {
            "gridcolor": "#DFE8F3",
            "linecolor": "#A2B1C6",
            "ticks": ""
           },
           "bgcolor": "white",
           "caxis": {
            "gridcolor": "#DFE8F3",
            "linecolor": "#A2B1C6",
            "ticks": ""
           }
          },
          "title": {
           "x": 0.05
          },
          "xaxis": {
           "automargin": true,
           "gridcolor": "#EBF0F8",
           "linecolor": "#EBF0F8",
           "ticks": "",
           "title": {
            "standoff": 15
           },
           "zerolinecolor": "#EBF0F8",
           "zerolinewidth": 2
          },
          "yaxis": {
           "automargin": true,
           "gridcolor": "#EBF0F8",
           "linecolor": "#EBF0F8",
           "ticks": "",
           "title": {
            "standoff": 15
           },
           "zerolinecolor": "#EBF0F8",
           "zerolinewidth": 2
          }
         }
        },
        "title": {
         "text": "Neoteroi/BlackSheep - Growth Rate (Rolling Average)"
        },
        "xaxis": {
         "title": {
          "text": "Date"
         }
        },
        "yaxis": {
         "title": {
          "text": "Average New Count (per 30 days)"
         }
        }
       }
      }
     },
     "metadata": {},
     "output_type": "display_data"
    }
   ],
   "source": [
    "# Let's analyze the pandas repository\n",
    "repo_name = \"Neoteroi/BlackSheep\"\n",
    "timeline_df, milestones_df = analyze_github_repository(repo_name, time_freq='M')"
   ]
  },
  {
   "cell_type": "markdown",
   "id": "0a96b142",
   "metadata": {},
   "source": [
    "## Try Another Repository\n",
    "\n",
    "You can easily analyze any other public GitHub repository by changing the `repo_name` variable. Here's an example with a different repository:"
   ]
  },
  {
   "cell_type": "code",
   "execution_count": 16,
   "id": "8a1091db",
   "metadata": {},
   "outputs": [
    {
     "name": "stdout",
     "output_type": "stream",
     "text": [
      "Requirement already satisfied: tqdm in ./.venv/lib/python3.13/site-packages (4.67.1)\n"
     ]
    }
   ],
   "source": [
    "!pip install --upgrade tqdm"
   ]
  },
  {
   "cell_type": "code",
   "execution_count": null,
   "id": "21f3a5ca",
   "metadata": {},
   "outputs": [],
   "source": [
    "# Let's analyze another popular repository\n",
    "repo_name = \"tensorflow/tensorflow\"\n",
    "timeline_df, milestones_df = analyze_github_repository(repo_name, time_freq='W')"
   ]
  },
  {
   "cell_type": "markdown",
   "id": "25be2382",
   "metadata": {},
   "source": [
    "## Comparing Multiple Repositories\n",
    "\n",
    "We can extend our analysis to compare multiple repositories side by side. This can be useful for competitive analysis or understanding ecosystem trends."
   ]
  },
  {
   "cell_type": "code",
   "execution_count": null,
   "id": "bc19c182",
   "metadata": {},
   "outputs": [],
   "source": [
    "def compare_repositories(repo_list, time_freq='M'):\n",
    "    \"\"\"\n",
    "    Compare multiple GitHub repositories.\n",
    "    \n",
    "    Parameters:\n",
    "    -----------\n",
    "    repo_list : list\n",
    "        List of repository names to compare\n",
    "    time_freq : str\n",
    "        Time frequency for aggregation ('D' for daily, 'W' for weekly, 'M' for monthly)\n",
    "    \"\"\"\n",
    "    all_data = {}\n",
    "    \n",
    "    # Collect data for each repository\n",
    "    for repo_name in repo_list:\n",
    "        stars_df, forks_df = fetch_repo_data(repo_name)\n",
    "        if stars_df is None or forks_df is None:\n",
    "            print(f\"Skipping {repo_name} due to data retrieval issues\")\n",
    "            continue\n",
    "            \n",
    "        timeline_df = process_timeline_data(stars_df, forks_df, freq=time_freq)\n",
    "        all_data[repo_name] = timeline_df\n",
    "    \n",
    "    # Create comparison visualizations\n",
    "    # 1. Stars comparison\n",
    "    fig1 = go.Figure()\n",
    "    \n",
    "    for repo_name, df in all_data.items():\n",
    "        fig1.add_trace(go.Scatter(\n",
    "            x=df['date'],\n",
    "            y=df['total_stars'],\n",
    "            mode='lines',\n",
    "            name=repo_name,\n",
    "            line=dict(width=3)\n",
    "        ))\n",
    "    \n",
    "    fig1.update_layout(\n",
    "        title='Comparison of Stars Over Time',\n",
    "        xaxis_title='Date',\n",
    "        yaxis_title='Total Stars',\n",
    "        legend_title='Repository',\n",
    "        template='plotly_white',\n",
    "        height=600\n",
    "    )\n",
    "    \n",
    "    fig1.show()\n",
    "    \n",
    "    # 2. Stars-to-forks ratio\n",
    "    fig2 = go.Figure()\n",
    "    \n",
    "    for repo_name, df in all_data.items():\n",
    "        # Create a copy to avoid warning, then calculate ratio\n",
    "        df_copy = df.copy()\n",
    "        df_copy['stars_to_forks_ratio'] = df_copy['total_stars'] / df_copy['total_forks'].replace(0, 1)\n",
    "        \n",
    "        fig2.add_trace(go.Scatter(\n",
    "            x=df_copy['date'],\n",
    "            y=df_copy['stars_to_forks_ratio'],\n",
    "            mode='lines',\n",
    "            name=repo_name,\n",
    "            line=dict(width=3)\n",
    "        ))\n",
    "    \n",
    "    fig2.update_layout(\n",
    "        title='Stars to Forks Ratio Over Time',\n",
    "        xaxis_title='Date',\n",
    "        yaxis_title='Stars/Forks Ratio',\n",
    "        legend_title='Repository',\n",
    "        template='plotly_white',\n",
    "        height=600\n",
    "    )\n",
    "    \n",
    "    fig2.show()\n",
    "    \n",
    "    return all_data"
   ]
  },
  {
   "cell_type": "code",
   "execution_count": null,
   "id": "fbda24d8",
   "metadata": {},
   "outputs": [],
   "source": [
    "# Compare multiple machine learning frameworks\n",
    "repos_to_compare = [\n",
    "    \"tensorflow/tensorflow\",\n",
    "    \"pytorch/pytorch\",\n",
    "    \"scikit-learn/scikit-learn\"\n",
    "]\n",
    "\n",
    "comparison_data = compare_repositories(repos_to_compare, time_freq='M')"
   ]
  },
  {
   "cell_type": "markdown",
   "id": "be0dc9d8",
   "metadata": {},
   "source": [
    "## Conclusion\n",
    "\n",
    "In this notebook, we've built a comprehensive tool for analyzing the growth of GitHub repositories through their stars and forks history. This can be valuable for:\n",
    "\n",
    "- Open-source project maintainers to understand their project's growth\n",
    "- Researchers studying the adoption of technologies\n",
    "- Developers choosing between competing libraries\n",
    "- Marketing teams measuring the impact of promotional activities\n",
    "\n",
    "The techniques we've used - API integration, data processing, and interactive visualization - can be extended to analyze other aspects of GitHub repositories such as contributors, issues, and commits.\n",
    "\n",
    "Feel free to adapt this notebook for your own GitHub repository analysis needs!"
   ]
  }
 ],
 "metadata": {
  "kernelspec": {
   "display_name": ".venv",
   "language": "python",
   "name": "python3"
  },
  "language_info": {
   "codemirror_mode": {
    "name": "ipython",
    "version": 3
   },
   "file_extension": ".py",
   "mimetype": "text/x-python",
   "name": "python",
   "nbconvert_exporter": "python",
   "pygments_lexer": "ipython3",
   "version": "3.13.2"
  }
 },
 "nbformat": 4,
 "nbformat_minor": 5
}
