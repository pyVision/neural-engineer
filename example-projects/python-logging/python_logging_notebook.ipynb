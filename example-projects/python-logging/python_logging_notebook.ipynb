{
 "cells": [
  {
   "cell_type": "markdown",
   "id": "d45caeba",
   "metadata": {},
   "source": [
    "# Python Logging: Preventing Propagation to Parent Loggers\n",
    "\n",
    "\n",
    "Python's built-in logging module is a powerful tool for tracking events and debugging applications. However, one common frustration developers face is when configuring logging for their own code inadvertently causes third-party libraries to flood the console with debug messages. This article explains how to properly configure Python's logging module to prevent log messages from propagating to parent logger\n"
   ]
  },
  {
   "cell_type": "markdown",
   "id": "8f676d22",
   "metadata": {},
   "source": [
    "## Understanding Logger Hierarchy and Propagation\n",
    "\n",
    "In Python's logging system, loggers are organized in a hierarchical namespace. For example, a logger named `foo.bar.baz` is a child of the logger named `foo.bar`, which is a child of the logger named `foo`, which is a child of the root logger.\n",
    "\n",
    "By default, log messages propagate up this hierarchy. When you log a message to `foo.bar.baz`, that message is also sent to `foo.bar`, `foo`, and the root logger. This propagation mechanism is often the source of unwanted log messages.\n",
    "\n",
    "Let's start with the most basic logging setup to understand the default behavior."
   ]
  },
  {
   "cell_type": "markdown",
   "id": "868aeecb",
   "metadata": {},
   "source": [
    "\n",
    "Here's a simple example demonstrating logger hierarchy and propagation:\n",
    "\n"
   ]
  },
  {
   "cell_type": "code",
   "execution_count": null,
   "id": "d9ab5b14",
   "metadata": {},
   "outputs": [],
   "source": [
    "import logging\n",
    "\n",
    "\n",
    "\n",
    "def reset_logging():\n",
    "    # Get the root logger\n",
    "    root = logging.getLogger()\n",
    "    \n",
    "\n",
    "    # Remove all handlers from the root logger\n",
    "    for handler in root.handlers[:]:\n",
    "        root.removeHandler(handler)\n",
    "    \n",
    "    # Reset logger hierarchy - this clears the internal dict of loggers\n",
    "    logging.Logger.manager.loggerDict.clear()\n",
    "\n",
    "\n",
    "    \n",
    "    # Reinitialize the root logger\n",
    "    logging.basicConfig(level=logging.WARNING)\n",
    "\n",
    "\n",
    "#reset_logging()\n",
    "\n",
    "\n",
    "# Configure the root logger with a handler\n",
    "root_logger = logging.getLogger()\n",
    "root_handler = logging.StreamHandler()\n",
    "root_handler.setFormatter(logging.Formatter('ROOT: %(message)s'))\n",
    "root_logger.addHandler(root_handler)\n",
    "\n",
    "# Create parent logger\n",
    "parent_logger = logging.getLogger('parent')\n",
    "parent_handler = logging.StreamHandler()\n",
    "parent_handler.setFormatter(logging.Formatter('PARENT: %(message)s'))\n",
    "parent_logger.addHandler(parent_handler)\n",
    "\n",
    "# Create child logger\n",
    "child_logger = logging.getLogger('parent.child')\n",
    "child_handler = logging.StreamHandler()\n",
    "child_handler.setFormatter(logging.Formatter('CHILD: %(message)s'))\n",
    "child_logger.addHandler(child_handler)\n",
    "\n",
    "# Log a message with the child logger\n",
    "child_logger.warning('This is a warning message')\n",
    "\n",
    "\n"
   ]
  },
  {
   "cell_type": "markdown",
   "id": "dd945811",
   "metadata": {},
   "source": [
    "\n",
    "When you run the above code, you'll see the warning message appears three times:\n",
    "\n",
    "```\n",
    "CHILD: This is a warning message\n",
    "PARENT: This is a warning message\n",
    "ROOT: This is a warning message\n",
    "```\n",
    "\n",
    "\n",
    "This happens because the log message propagates from the child logger up through the hierarchy, being handled at each level.\n",
    "\n",
    "\n",
    "## The Problem with Default Propagation\n",
    "\n",
    "Let's say you have a script that demonstrates our child, parent, and root logger hierarchy from earlier. If you simply set the root logger level to DEBUG:\n",
    "\n"
   ]
  },
  {
   "cell_type": "code",
   "execution_count": null,
   "id": "66a6c3f2",
   "metadata": {},
   "outputs": [],
   "source": [
    "import logging\n",
    "#logging.basicConfig(level=logging.DEBUG)\n",
    "\n",
    "\n",
    "# Configure the root logger with a handler\n",
    "root_logger = logging.getLogger()\n",
    "root_handler = logging.StreamHandler()\n",
    "root_handler.setFormatter(logging.Formatter('ROOT: %(message)s'))\n",
    "root_logger.addHandler(root_handler)\n",
    "root_logger.setLevel(logging.DEBUG)\n",
    "\n",
    "# Create parent logger\n",
    "parent_logger = logging.getLogger('parent')\n",
    "parent_handler = logging.StreamHandler()\n",
    "parent_handler.setFormatter(logging.Formatter('PARENT: %(message)s'))\n",
    "parent_logger.addHandler(parent_handler)\n",
    "\n",
    "# Create child logger\n",
    "child_logger = logging.getLogger('parent.child')\n",
    "child_handler = logging.StreamHandler()\n",
    "child_handler.setFormatter(logging.Formatter('CHILD: %(message)s'))\n",
    "child_logger.addHandler(child_handler)\n",
    "\n",
    "# Log messages at different levels\n",
    "child_logger.debug(\"Debug from child\")\n",
    "parent_logger.info(\"Info from parent\")\n",
    "root_logger.warning(\"Warning from root\")\n",
    "\n"
   ]
  },
  {
   "cell_type": "markdown",
   "id": "43b99f43",
   "metadata": {},
   "source": [
    "You'll not only see the DEBUG message from the child logger but also see that same message propagated to the parent and root loggers, resulting in duplicate log outputs that can quickly become overwhelming:\n",
    "\n",
    "```\n",
    "DEBUG:parent.child:Debug from child\n",
    "DEBUG:parent:Debug from child\n",
    "DEBUG:root:Debug from child\n",
    "INFO:parent:Info from parent\n",
    "INFO:root:Info from parent\n",
    "WARNING:root:Warning from root\n",
    "```\n",
    "\n",
    "This creates a problem when:\n",
    "\n",
    "1. You need detailed logs (DEBUG level) from your own code\n",
    "2. But you want to suppress verbose output from third-party libraries\n",
    "3. You're working with multiple loggers that handle the same message\n",
    "4. You need different formatting for different parts of your application\n",
    "\n",
    "Without controlling propagation, a single log event can be displayed multiple times with different formats, creating confusing and redundant output. In large applications, this can make logs practically unusable for debugging.\n",
    "\n",
    "\n"
   ]
  },
  {
   "cell_type": "markdown",
   "id": "420c73b8",
   "metadata": {},
   "source": [
    "\n",
    "With this configuration, logs from `my_module` will be handled by your custom handler and won't propagate to the root logger or any other parent loggers."
   ]
  },
  {
   "cell_type": "markdown",
   "id": "179d464b",
   "metadata": {},
   "source": [
    "## 3. DEBUG Third-Party Libraries Logs\n",
    "\n",
    "Let's simulate a scenario where we want to see DEBUG logs from our app but not from third-party libraries:"
   ]
  },
  {
   "cell_type": "code",
   "execution_count": null,
   "id": "9d268ca8",
   "metadata": {},
   "outputs": [],
   "source": [
    "%pip install requests"
   ]
  },
  {
   "cell_type": "code",
   "execution_count": 1,
   "id": "01a1fada",
   "metadata": {},
   "outputs": [
    {
     "name": "stderr",
     "output_type": "stream",
     "text": [
      "DEBUG:urllib3.connectionpool:Starting new HTTPS connection (1): httpbin.org:443\n",
      "DEBUG:urllib3.connectionpool:https://httpbin.org:443 \"GET /get HTTP/1.1\" 200 307\n",
      "CHILD: Response status code: 200\n",
      "DEBUG:APP:Response status code: 200\n"
     ]
    }
   ],
   "source": [
    "\n",
    "import requests,logging\n",
    "\n",
    "\n",
    "logging.basicConfig(level=logging.DEBUG)\n",
    "\n",
    "root_logger = logging.getLogger()\n",
    "\n",
    "\n",
    "child_logger = logging.getLogger(\"APP\")\n",
    "child_logger.setLevel(logging.DEBUG)\n",
    "child_handler = logging.StreamHandler()\n",
    "child_handler.setFormatter(logging.Formatter('CHILD: %(message)s'))\n",
    "child_logger.addHandler(child_handler)\n",
    "\n",
    "\n",
    "# Make a simple HTTP request\n",
    "response = requests.get('https://httpbin.org/get')\n",
    "\n",
    "# Print the response status code\n",
    "child_logger.debug(f\"Response status code: {response.status_code}\")"
   ]
  },
  {
   "cell_type": "markdown",
   "id": "2ee99ce0",
   "metadata": {},
   "source": [
    "We can see that along logs of the request library and our module logs , we can see the duplicate logs of our application propagated to the parent\n",
    "\n",
    "## Solution: Disabling Propagation\n",
    "\n",
    "The key to preventing log messages from propagating to parent loggers is to set the `propagate` attribute to `False` on your logger instance:\n"
   ]
  },
  {
   "cell_type": "code",
   "execution_count": 2,
   "id": "f7aba17f",
   "metadata": {},
   "outputs": [
    {
     "name": "stderr",
     "output_type": "stream",
     "text": [
      "DEBUG:urllib3.connectionpool:Starting new HTTPS connection (1): httpbin.org:443\n",
      "DEBUG:urllib3.connectionpool:https://httpbin.org:443 \"GET /get HTTP/1.1\" 200 307\n",
      "CHILD: Response status code: 200\n",
      "CHILD: Response status code: 200\n"
     ]
    }
   ],
   "source": [
    "import requests, logging\n",
    "\n",
    "# This sets up the root logger to show all messages (DEBUG and up)\n",
    "logging.basicConfig(level=logging.DEBUG)  # This affects all loggers without specific levels\n",
    "\n",
    "root_logger = logging.getLogger()\n",
    "\n",
    "# Create our application logger\n",
    "child_logger = logging.getLogger(\"APP\")\n",
    "child_logger.setLevel(logging.DEBUG)  # We want to see all APP logs\n",
    "child_handler = logging.StreamHandler()\n",
    "child_handler.setFormatter(logging.Formatter('CHILD: %(message)s'))\n",
    "child_logger.addHandler(child_handler)\n",
    "#setting the propagation to parent as false\n",
    "child_logger.propagate=False\n",
    "\n",
    "# Make a simple HTTP request\n",
    "# This will trigger many DEBUG logs from the requests and urllib3 libraries\n",
    "response = requests.get('https://httpbin.org/get')\n",
    "\n",
    "# Print the response status code\n",
    "child_logger.debug(f\"Response status code: {response.status_code}\")"
   ]
  },
  {
   "cell_type": "markdown",
   "id": "aa052a8f",
   "metadata": {},
   "source": [
    "## 4. Solution: Disable Logs for Specific Librarues\n",
    "\n",
    "Now let's fix this by disabling logs for specific libraries "
   ]
  },
  {
   "cell_type": "code",
   "execution_count": 1,
   "id": "79237d8a",
   "metadata": {},
   "outputs": [
    {
     "name": "stderr",
     "output_type": "stream",
     "text": [
      "CHILD: Response status code: 200\n"
     ]
    }
   ],
   "source": [
    "\n",
    "import requests,logging\n",
    "\n",
    "logging.basicConfig(level=logging.DEBUG)\n",
    "\n",
    "child_logger = logging.getLogger(\"APP\")\n",
    "child_logger.setLevel(logging.DEBUG)\n",
    "child_handler = logging.StreamHandler()\n",
    "child_handler.setFormatter(logging.Formatter('CHILD: %(message)s'))\n",
    "child_logger.addHandler(child_handler)\n",
    "\n",
    "# Important: Disable propagation to parent loggers\n",
    "child_logger.propagate = False\n",
    "\n",
    "# Special configuration for specific third-party libraries\n",
    "# Example: Set requests library to ERROR level only\n",
    "requests_logger = logging.getLogger('urllib3')\n",
    "requests_logger.setLevel(logging.ERROR)\n",
    "\n",
    "# Make a simple HTTP request\n",
    "response = requests.get('https://httpbin.org/get')\n",
    "\n",
    "# Print the response status code\n",
    "child_logger.warning(f\"Response status code: {response.status_code}\")"
   ]
  },
  {
   "cell_type": "markdown",
   "id": "f316407b",
   "metadata": {},
   "source": [
    "## 5. Complete Example: Configurable Logging Setup\n",
    "\n",
    "Let's create a reusable function to set up logging with proper propagation control:"
   ]
  },
  {
   "cell_type": "code",
   "execution_count": 2,
   "id": "f5ffd990",
   "metadata": {},
   "outputs": [
    {
     "name": "stdout",
     "output_type": "stream",
     "text": [
      "2025-04-27 15:44:43,471 - my_application - DEBUG - Application debug message - should appear\n",
      "2025-04-27 15:44:43,473 - my_application - INFO - Application info message - should appear\n",
      "2025-04-27 15:44:43,473 - my_application - INFO - Application info message - should appear\n"
     ]
    }
   ],
   "source": [
    "import sys\n",
    "\n",
    "def setup_logging(app_name, app_level=logging.DEBUG, root_level=logging.WARNING):\n",
    "    \"\"\"Set up logging configuration that prevents propagation issues.\n",
    "    \n",
    "    Args:\n",
    "        app_name (str): The logger name for your application\n",
    "        app_level (int): Logging level for your app's logger\n",
    "        root_level (int): Logging level for third-party libraries\n",
    "        \n",
    "    Returns:\n",
    "        logging.Logger: Configured logger for your application\n",
    "    \"\"\"\n",
    "    # Reset handlers if any exist\n",
    "    for handler in logging.root.handlers[:]:\n",
    "        logging.root.removeHandler(handler)\n",
    "    \n",
    "    # Configure root logger (for third-party libraries)\n",
    "    root_logger = logging.getLogger()\n",
    "    root_logger.setLevel(root_level)\n",
    "    \n",
    "    root_handler = logging.StreamHandler(sys.stdout)\n",
    "    root_handler.setFormatter(logging.Formatter('%(levelname)s - %(name)s - %(message)s'))\n",
    "    root_logger.addHandler(root_handler)\n",
    "    \n",
    "    # Configure application logger with propagation disabled\n",
    "    app_logger = logging.getLogger(app_name)\n",
    "    app_logger.setLevel(app_level)\n",
    "    app_logger.propagate = False  # Key setting to prevent propagation\n",
    "    \n",
    "    app_handler = logging.StreamHandler(sys.stdout)\n",
    "    app_handler.setFormatter(logging.Formatter(\n",
    "        '%(asctime)s - %(name)s - %(levelname)s - %(message)s'))\n",
    "    app_logger.addHandler(app_handler)\n",
    "    \n",
    "    # Special configuration for specific third-party libraries\n",
    "    # Example: Set requests library to ERROR level only\n",
    "    requests_logger = logging.getLogger('requests')\n",
    "    requests_logger.setLevel(logging.ERROR)\n",
    "    \n",
    "    # Example: Completely silence urllib3\n",
    "    urllib3_logger = logging.getLogger('urllib3')\n",
    "    urllib3_logger.setLevel(logging.CRITICAL)\n",
    "    \n",
    "    return app_logger\n",
    "\n",
    "# Test our setup function\n",
    "logger = setup_logging('my_application')\n",
    "\n",
    "# Now let's use it\n",
    "logger.debug(\"Application debug message - should appear\")\n",
    "logger.info(\"Application info message - should appear\")\n",
    "\n",
    "# Some third-party library logging\n",
    "requests_logger = logging.getLogger('requests')\n",
    "requests_logger.debug(\"Requests debug - should NOT appear\")\n",
    "requests_logger.warning(\"Requests warning - SHOULD appear\")"
   ]
  },
  {
   "cell_type": "markdown",
   "id": "3592ceb7",
   "metadata": {},
   "source": [
    "## 7. Best Practices Summary\n",
    "\n",
    "1. **Always set explicit log levels** for your application loggers\n",
    "2. **Disable propagation** by setting `propagate=False` on application loggers\n",
    "3. **Add appropriate handlers** to loggers with disabled propagation\n",
    "4. **Configure the root logger** to control third-party library logging\n",
    "5. **Explicitly configure problematic third-party loggers** when needed\n",
    "\n",
    "Following these practices will help you maintain clean logs without unwanted messages from dependencies."
   ]
  },
  {
   "cell_type": "markdown",
   "id": "e0ab047e",
   "metadata": {},
   "source": [
    "## Conclusion\n",
    "\n",
    "By understanding how logger propagation works in Python and taking control of it, you can create a clean logging setup that shows exactly the information you need without noise from dependencies.\n",
    "\n",
    "The key takeaway is to set `propagate=False` on your application loggers and add appropriate handlers to them, while configuring the root logger to manage third-party libraries' log levels."
   ]
  }
 ],
 "metadata": {
  "kernelspec": {
   "display_name": "Python 3",
   "language": "python",
   "name": "python3"
  },
  "language_info": {
   "codemirror_mode": {
    "name": "ipython",
    "version": 3
   },
   "file_extension": ".py",
   "mimetype": "text/x-python",
   "name": "python",
   "nbconvert_exporter": "python",
   "pygments_lexer": "ipython3",
   "version": "3.11.11"
  }
 },
 "nbformat": 4,
 "nbformat_minor": 5
}
