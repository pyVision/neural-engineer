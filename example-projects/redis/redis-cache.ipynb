{
 "cells": [
  {
   "cell_type": "markdown",
   "id": "fc990f91",
   "metadata": {},
   "source": [
    "# Async Caching in Python with aiocache and Redis\n",
    "\n",
    "Caching is essential for building high-performance applications, especially when dealing with expensive computations or slow data sources. For modern Python async applications, [aiocache](https://aiocache.readthedocs.io/) is a popular library that provides a simple and flexible caching interface with support for multiple backends, including Redis."
   ]
  },
  {
   "cell_type": "markdown",
   "id": "0e1ccb33",
   "metadata": {},
   "source": [
    "## What is aiocache?\n",
    "\n",
    "aioCache is an asynchronous caching library for Python, designed to work seamlessly with asyncio-based frameworks like FastAPI, Starlette, and aiohttp. It provides decorators and cache objects to easily cache function results, objects, or arbitrary data."
   ]
  },
  {
   "cell_type": "markdown",
   "id": "c9b17e3e",
   "metadata": {},
   "source": [
    "## Using aiocache with Redis Backend\n",
    "\n",
    "### Installation"
   ]
  },
  {
   "cell_type": "code",
   "execution_count": null,
   "id": "79f0dea3",
   "metadata": {},
   "outputs": [],
   "source": [
    "# Install aiocache with Redis support\n",
    "%pip install aiocache[redis]\n",
    "\n",
    "# Install Redis CLI (choose your platform)\n",
    "\n",
    "# For Ubuntu/Debian\n",
    "# sudo apt-get install redis-tools\n",
    "\n",
    "# For macOS using Homebrew\n",
    "# brew install redis\n",
    "\n",
    "# For Windows, download from Redis website\n",
    "# https://github.com/microsoftarchive/redis/releases"
   ]
  },
  {
   "cell_type": "markdown",
   "id": "79f6c27c",
   "metadata": {},
   "source": [
    "# Key Features of aiocache"
   ]
  },
  {
   "cell_type": "markdown",
   "id": "a9a2af50",
   "metadata": {},
   "source": [
    "### **Async Support:** \n",
    "\n",
    "Designed for asyncio, works natively with async functions. Here's a basic example:"
   ]
  },
  {
   "cell_type": "code",
   "execution_count": null,
   "id": "4db8d43b",
   "metadata": {},
   "outputs": [],
   "source": [
    "from aiocache import SimpleMemoryCache\n",
    "import asyncio\n",
    "\n",
    "\n",
    "cache = SimpleMemoryCache()\n",
    "\n",
    "# Using in-memory cache\n",
    "async def cache_example():\n",
    "    cache = SimpleMemoryCache()\n",
    "\n",
    "    print(\"Setting cache values...\")\n",
    "    await cache.set(\"k1\", \"v1\")\n",
    "    await cache.set(\"k2\", \"v2\")\n",
    "\n",
    "    print(\"Getting cache values...\")\n",
    "    r1 = await cache.get(\"k1\")\n",
    "    print(f\"Value for k1: {r1}\")\n",
    "    \n",
    "    r2 = await cache.get(\"k2\") \n",
    "    print(f\"Value for k2: {r2}\")\n",
    "\n",
    "# Run the example\n",
    "asyncio.run(cache_example())"
   ]
  },
  {
   "cell_type": "markdown",
   "id": "6cbe4ded",
   "metadata": {},
   "source": [
    "### **Multiple Backends:** \n",
    "\n",
    "Supports Redis, Memcached, SimpleMemoryCache, and allows custom backend implementations."
   ]
  },
  {
   "cell_type": "code",
   "execution_count": 8,
   "id": "861f9081",
   "metadata": {},
   "outputs": [
    {
     "name": "stdout",
     "output_type": "stream",
     "text": [
      "Setting cache values...\n",
      "Getting cache values...\n",
      "Value for k1: v1\n",
      "Value for k2: v2\n"
     ]
    }
   ],
   "source": [
    "from aiocache import RedisCache\n",
    "import asyncio\n",
    "import redis.asyncio as redis\n",
    "\n",
    "# Using Redis cache with authentication\n",
    "async def cache_example2():\n",
    "\n",
    "    \n",
    "    # Initialize Redis cache\n",
    "    cache = RedisCache(\n",
    "        namespace=\"main\",\n",
    "        endpoint=\"127.0.0.1\", \n",
    "        port=6379,\n",
    "        password=\"asdf\"\n",
    "    )\n",
    "\n",
    "    print(\"Setting cache values...\")\n",
    "    await cache.set(\"k1\", \"v1\")\n",
    "    await cache.set(\"k2\", \"v2\")\n",
    "\n",
    "    print(\"Getting cache values...\")\n",
    "    r1 = await cache.get(\"k1\")\n",
    "    print(f\"Value for k1: {r1}\")\n",
    "    \n",
    "    r2 = await cache.get(\"k2\") \n",
    "    print(f\"Value for k2: {r2}\")\n",
    "\n",
    "# Run the example\n",
    "await cache_example2()"
   ]
  },
  {
   "cell_type": "markdown",
   "id": "377b768b",
   "metadata": {},
   "source": [
    "### View Cache Values in Redis CLI\n",
    "\n",
    "To inspect the cached values using Redis CLI:"
   ]
  },
  {
   "cell_type": "code",
   "execution_count": 40,
   "id": "a4e8fe7e",
   "metadata": {},
   "outputs": [
    {
     "name": "stdout",
     "output_type": "stream",
     "text": [
      "redis-cli 8.0.0\n",
      "Redis connection successful.\n",
      "result is  b'n1:get_user_data:123:detail=True\\nmain:k2\\nmain:k1\\n'\n"
     ]
    },
    {
     "name": "stderr",
     "output_type": "stream",
     "text": [
      "Warning: Using a password with '-a' or '-u' option on the command line interface may not be safe.\n"
     ]
    }
   ],
   "source": [
    "import os\n",
    "import subprocess\n",
    "\n",
    "# Set Redis connection parameters\n",
    "redis_url = \"127.0.0.1\"\n",
    "redis_port = \"6379\"\n",
    "password = \"asdf\"\n",
    "\n",
    "def run_redis_cli(command):\n",
    "    # Check if redis-cli is installed\n",
    "    try:\n",
    "        subprocess.run([\"redis-cli\", \"--version\"], check=True)\n",
    "    except subprocess.CalledProcessError:\n",
    "        print(\"redis-cli is not installed. Please install it first.\")\n",
    "        return\n",
    "\n",
    "    # Connect to Redis using redis-cli\n",
    "    cmd = f\"redis-cli -h {redis_url} -p {redis_port} -a {password} {command}\"\n",
    "    \n",
    "    try:\n",
    "        # Run the redis-cli command and capture output\n",
    "        result = subprocess.check_output(cmd, shell=True)\n",
    "        \n",
    "        # Handle empty results\n",
    "        if not result.strip():\n",
    "            result = \"(empty)\"\n",
    "\n",
    "        result=  str(result)\n",
    "        \n",
    "        # Format multi-line output for better display\n",
    "        if \"\\n\" in result and len(result.strip().split(\"\\n\")) > 1:\n",
    "            result = \"\\n\" + result\n",
    "        print(\"Redis connection successful.\")\n",
    "        print(\"result is \",result)\n",
    "    except subprocess.CalledProcessError as e:\n",
    "        print(f\"Error connecting to Redis: {e}\")\n",
    "\n",
    "\n",
    "\n",
    "run_redis_cli(\"keys '*'\")  \n"
   ]
  },
  {
   "cell_type": "markdown",
   "id": "6a5c1dde",
   "metadata": {},
   "source": [
    "We can see the keys created:"
   ]
  },
  {
   "cell_type": "code",
   "execution_count": null,
   "id": "ab9e3329",
   "metadata": {},
   "outputs": [],
   "source": [
    "main:k2\n",
    "main:k1"
   ]
  },
  {
   "cell_type": "markdown",
   "id": "47dca96e",
   "metadata": {},
   "source": [
    "### **Function Decorators:** \n",
    "\n",
    "`@cached` provides simple function caching with Redis. Here's an example:"
   ]
  },
  {
   "cell_type": "code",
   "execution_count": 13,
   "id": "6c47634c",
   "metadata": {},
   "outputs": [
    {
     "name": "stdout",
     "output_type": "stream",
     "text": [
      "First call result: {'id': '123', 'name': 'User 123', 'status': 'active'}\n",
      "Second call result: {'id': '123', 'name': 'User 123', 'status': 'active'}\n"
     ]
    }
   ],
   "source": [
    "from aiocache import cached, Cache\n",
    "from aiocache.serializers import PickleSerializer\n",
    "\n",
    "# Redis Cache with Decorator Example\n",
    "\n",
    "# This example demonstrates using Redis as a caching layer with a decorator pattern. \n",
    "# The cache configuration uses aiocache library.\n",
    "\n",
    "# ## Cache Configuration Details\n",
    "# - **TTL (Time To Live)**: 10 seconds\n",
    "# - **Cache Type**: Redis\n",
    "# - **Serializer**: PickleSerializer for object serialization\n",
    "# - **Namespace**: \"n1\" (used for key prefix)\n",
    "# - **Connection**: localhost:6379\n",
    "# - **Database**: 0\n",
    "# - **Pool Size**: 10 concurrent connections max\n",
    "\n",
    "# ## Cache Behavior\n",
    "# - First call performs the actual operation and caches the result\n",
    "# - Subsequent calls within TTL period retrieve data from cache\n",
    "# - After TTL expiration, the cache is invalidated and the operation is performed again\n",
    "\n",
    "# Using Redis cache with decorator\n",
    "@cached(\n",
    "    ttl=10,\n",
    "    cache=Cache.REDIS, \n",
    "    serializer=PickleSerializer(),\n",
    "    namespace=\"n1\",\n",
    "    endpoint=\"localhost\",\n",
    "    port=6379,\n",
    "    password=\"asdf\",\n",
    "    db=0,\n",
    "    pool_max_size=10\n",
    ")\n",
    "async def get_user_info(user_id: str) -> dict:\n",
    "    # This would normally fetch from database\n",
    "    # Simulating expensive operation\n",
    "    await asyncio.sleep(1)  \n",
    "    return {\n",
    "        \"id\": user_id,\n",
    "        \"name\": f\"User {user_id}\",\n",
    "        \"status\": \"active\"\n",
    "    }\n",
    "\n",
    "# Usage example\n",
    "async def cache_example3():\n",
    "    # First call - cache miss\n",
    "    result1 = await get_user_info(\"123\")\n",
    "    print(\"First call result:\", result1)\n",
    "    \n",
    "    # Second call - cache hit (fetches from cache)\n",
    "    result2 = await get_user_info(\"123\")\n",
    "    print(\"Second call result:\", result2)\n",
    "\n",
    "# Run the example\n",
    "await cache_example3()"
   ]
  },
  {
   "cell_type": "markdown",
   "id": "b18071ff",
   "metadata": {},
   "source": [
    "We can see the key name in redis as:"
   ]
  },
  {
   "cell_type": "code",
   "execution_count": 26,
   "id": "f14e21ea",
   "metadata": {},
   "outputs": [
    {
     "name": "stdout",
     "output_type": "stream",
     "text": [
      "redis-cli 8.0.0\n",
      "Redis connection successful.\n",
      "result is  n1:get_user_data:123:detail=True\n",
      "main:k2\n",
      "main:k1\n",
      "\n"
     ]
    },
    {
     "name": "stderr",
     "output_type": "stream",
     "text": [
      "Warning: Using a password with '-a' or '-u' option on the command line interface may not be safe.\n"
     ]
    }
   ],
   "source": [
    "run_redis_cli(\"keys '*'\")"
   ]
  },
  {
   "cell_type": "code",
   "execution_count": null,
   "id": "5b5a179c",
   "metadata": {},
   "outputs": [],
   "source": [
    "n1:__main__get_user_info('123',)[]"
   ]
  },
  {
   "cell_type": "markdown",
   "id": "7ebfa45a",
   "metadata": {},
   "source": [
    "## Custom Key Generation\n",
    "\n",
    "You can customize how cache keys are generated using a key builder function. Here's an example:"
   ]
  },
  {
   "cell_type": "code",
   "execution_count": 48,
   "id": "1fcdb3d2",
   "metadata": {},
   "outputs": [
    {
     "name": "stdout",
     "output_type": "stream",
     "text": [
      "Key parts: ['get_user_data', '123', 'detail=True'] LLL\n"
     ]
    },
    {
     "data": {
      "text/plain": [
       "{'id': '123', 'detail': True}"
      ]
     },
     "execution_count": 48,
     "metadata": {},
     "output_type": "execute_result"
    }
   ],
   "source": [
    "from aiocache import cached, Cache\n",
    "from typing import Any, Tuple, Dict\n",
    "\n",
    "def custom_key_builder(\n",
    "    func: Any,\n",
    "    *args: Tuple[Any],\n",
    "    **kwargs: Dict[str, Any]\n",
    ") -> str:\n",
    "    \"\"\"Custom key builder for cache entries.\n",
    "    \n",
    "    Args:\n",
    "        namespace: Cache namespace\n",
    "        fn: The function being cached\n",
    "        args: Positional arguments\n",
    "        kwargs: Keyword arguments\n",
    "    \n",
    "    Returns:\n",
    "        Formatted cache key as string\n",
    "    \"\"\"\n",
    "    # Extract function name\n",
    "\n",
    "    \n",
    "    key = []\n",
    "    key.append(func.__qualname__ or func.__name__)\n",
    "    # Format args/kwargs into string\n",
    "    args_str = ':'.join(str(arg) for arg in args)\n",
    "    kwargs_str = ':'.join(f\"{k}={v}\" for k, v in kwargs.items())\n",
    "    \n",
    "    # Build key with components\n",
    "    key_parts = key\n",
    "    if args_str:\n",
    "        key.append(args_str)\n",
    "    if kwargs_str:\n",
    "        key.append(kwargs_str)\n",
    "        \n",
    "    \n",
    "    print(\"Key parts:\", key,\"LLL\")\n",
    "    return \":\".join(key)\n",
    "\n",
    "# Usage example\n",
    "@cached(\n",
    "    key_builder=custom_key_builder,\n",
    "    ttl=1000,\n",
    "    cache=Cache.REDIS, \n",
    "    serializer=PickleSerializer(),\n",
    "    namespace=\"n1\",\n",
    "    endpoint=\"localhost\",\n",
    "    port=6379,\n",
    "    password=\"asdf\",\n",
    "    db=0,\n",
    "    pool_max_size=10\n",
    ")\n",
    "async def get_user_data(user_id: str, detail: bool = False):\n",
    "    return {\"id\": user_id, \"detail\": detail}\n",
    "\n",
    "# This will create keys like: \"app:get_user_data:123:detail=True\"\n",
    "\n",
    "await get_user_data(\"123\", detail=True)"
   ]
  },
  {
   "cell_type": "code",
   "execution_count": 32,
   "id": "1aba045b",
   "metadata": {},
   "outputs": [
    {
     "name": "stdout",
     "output_type": "stream",
     "text": [
      "redis-cli 8.0.0\n",
      "Redis connection successful.\n",
      "result is  n1:get_user_data:123:detail=True\n",
      "main:k2\n",
      "main:k1\n",
      "\n"
     ]
    },
    {
     "name": "stderr",
     "output_type": "stream",
     "text": [
      "Warning: Using a password with '-a' or '-u' option on the command line interface may not be safe.\n"
     ]
    }
   ],
   "source": [
    "run_redis_cli(\"keys '*'\")\n",
    "\n"
   ]
  },
  {
   "cell_type": "markdown",
   "id": "c0ce4446",
   "metadata": {},
   "source": [
    "The key name in the cache can be observed as:"
   ]
  },
  {
   "cell_type": "code",
   "execution_count": null,
   "id": "92b6b954",
   "metadata": {},
   "outputs": [],
   "source": [
    "n1:get_user_data:123:detail=True"
   ]
  },
  {
   "cell_type": "code",
   "execution_count": 41,
   "id": "63845659",
   "metadata": {},
   "outputs": [
    {
     "name": "stdout",
     "output_type": "stream",
     "text": [
      "redis-cli 8.0.0\n",
      "Redis connection successful.\n",
      "result is  b'\\x80\\x04\\x95\\x1a\\x00\\x00\\x00\\x00\\x00\\x00\\x00}\\x94(\\x8c\\x02id\\x94\\x8c\\x03123\\x94\\x8c\\x06detail\\x94\\x88u.\\n'\n"
     ]
    },
    {
     "name": "stderr",
     "output_type": "stream",
     "text": [
      "Warning: Using a password with '-a' or '-u' option on the command line interface may not be safe.\n"
     ]
    }
   ],
   "source": [
    "run_redis_cli(\"GET n1:get_user_data:123:detail=True\")\n"
   ]
  },
  {
   "cell_type": "markdown",
   "id": "f21d2132",
   "metadata": {},
   "source": [
    "The value is:"
   ]
  },
  {
   "cell_type": "code",
   "execution_count": null,
   "id": "e91c2fc3",
   "metadata": {},
   "outputs": [],
   "source": [
    "# 127.0.0.1:6379> GET n1:get_user_data:123\n",
    "# \"\\x80\\x04\\x95\\x1a\\x00\\x00\\x00\\x00\\x00\\x00\\x00}\\x94(\\x8c\\x02id\\x94\\x8c\\x03123\\x94\\x8c\\x06detail\\x94\\x89u.\""
   ]
  },
  {
   "cell_type": "markdown",
   "id": "e094fc58",
   "metadata": {},
   "source": [
    "This gives you complete control over the cache key format while maintaining a clear namespace structure."
   ]
  },
  {
   "cell_type": "markdown",
   "id": "2d6acab5",
   "metadata": {},
   "source": [
    "**Cache Invalidation:** Invalidate cache by key, pattern, or globally."
   ]
  },
  {
   "cell_type": "markdown",
   "id": "e945f02c",
   "metadata": {},
   "source": [
    "### Cache Invalidation"
   ]
  },
  {
   "cell_type": "code",
   "execution_count": 42,
   "id": "b3418491",
   "metadata": {},
   "outputs": [],
   "source": [
    "async def cache_example5():\n",
    "\n",
    "    cache = RedisCache( namespace=\"main\",endpoint=\"127.0.0.1\", port=6379,password=\"asdf\")\n",
    "\n",
    "    await cache.delete(\"n1:get_user_data:123\") # Delete specific cache entry\n",
    "\n",
    "    await cache.clear(namespace=\"n1\")  # Clear all cache entries with namespace \"n1\"\n",
    "\n",
    "    await cache.clear()  # Clear all cache entries\n",
    "\n",
    "await cache_example5()"
   ]
  },
  {
   "cell_type": "markdown",
   "id": "3c2a34dd",
   "metadata": {},
   "source": [
    "**Serialization:**"
   ]
  },
  {
   "cell_type": "markdown",
   "id": "69391f25",
   "metadata": {},
   "source": [
    "**Choosing a Serializer:**\n",
    "\n",
    "Each serializer has specific use cases:\n",
    "\n",
    "- **PickleSerializer (Default):**\n",
    "    - Fastest performance\n",
    "    - Handles complex Python objects\n",
    "    - Security risk: vulnerable to code execution\n",
    "    - Best for trusted internal systems\n",
    "\n",
    "- **JsonSerializer:**\n",
    "    - Human readable\n",
    "    - Language-agnostic\n",
    "    - Limited to JSON-serializable types\n",
    "    - Best for web APIs or cross-service caching\n",
    "\n",
    "- **StringSerializer:**\n",
    "    - Minimal overhead\n",
    "    - Limited to string data\n",
    "    - Best for simple string caching"
   ]
  },
  {
   "cell_type": "markdown",
   "id": "61e44bac",
   "metadata": {},
   "source": [
    "Example:"
   ]
  },
  {
   "cell_type": "code",
   "execution_count": 57,
   "id": "af5d6771",
   "metadata": {},
   "outputs": [
    {
     "name": "stdout",
     "output_type": "stream",
     "text": [
      "Key parts: ['get_user_data', '123'] LLL\n"
     ]
    },
    {
     "data": {
      "text/plain": [
       "{'id': '123', 'detail': False}"
      ]
     },
     "execution_count": 57,
     "metadata": {},
     "output_type": "execute_result"
    }
   ],
   "source": [
    "from aiocache.serializers import JsonSerializer, PickleSerializer\n",
    "\n",
    "\n",
    "from aiocache import cached, Cache\n",
    "from typing import Any, Tuple, Dict\n",
    "\n",
    "from aiocache import cached, Cache\n",
    "from typing import Any, Tuple, Dict\n",
    "\n",
    "def custom_key_builder(\n",
    "    func: Any,\n",
    "    *args: Tuple[Any],\n",
    "    **kwargs: Dict[str, Any]\n",
    ") -> str:\n",
    "    \"\"\"Custom key builder for cache entries.\n",
    "    \n",
    "    Args:\n",
    "        namespace: Cache namespace\n",
    "        fn: The function being cached\n",
    "        args: Positional arguments\n",
    "        kwargs: Keyword arguments\n",
    "    \n",
    "    Returns:\n",
    "        Formatted cache key as string\n",
    "    \"\"\"\n",
    "    # Extract function name\n",
    "\n",
    "    \n",
    "    key = []\n",
    "    key.append(func.__qualname__ or func.__name__)\n",
    "    # Format args/kwargs into string\n",
    "    args_str = ':'.join(str(arg) for arg in args)\n",
    "    kwargs_str = ':'.join(f\"{k}={v}\" for k, v in kwargs.items())\n",
    "    \n",
    "    # Build key with components\n",
    "    \n",
    "    if args_str:\n",
    "        key.append(args_str)\n",
    "    if kwargs_str:\n",
    "        key.append(kwargs_str)\n",
    "        \n",
    "    \n",
    "    print(\"Key parts:\", key,\"LLL\")\n",
    "    return \":\".join(key)\n",
    "\n",
    "# Usage example\n",
    "@cached(\n",
    "    key_builder=custom_key_builder,\n",
    "    ttl=1000,\n",
    "    cache=Cache.REDIS, \n",
    "    serializer=JsonSerializer(),\n",
    "    namespace=\"n2\",\n",
    "    endpoint=\"localhost\",\n",
    "    port=6379,\n",
    "    password=\"asdf\",\n",
    "    db=0,\n",
    "    pool_max_size=10\n",
    ")\n",
    "async def get_user_data(user_id: str, detail: bool = False):\n",
    "    return {\"id\": user_id, \"detail\": detail}\n",
    "\n",
    "await get_user_data(\"123\")"
   ]
  },
  {
   "cell_type": "code",
   "execution_count": 58,
   "id": "7e30a2e0",
   "metadata": {},
   "outputs": [
    {
     "name": "stdout",
     "output_type": "stream",
     "text": [
      "redis-cli 8.0.0\n",
      "Redis connection successful.\n",
      "result is  b'n1:get_user_data:123\\nn1:get_user_data:123:detail=True\\nn2:get_user_data:123\\n'\n"
     ]
    },
    {
     "name": "stderr",
     "output_type": "stream",
     "text": [
      "Warning: Using a password with '-a' or '-u' option on the command line interface may not be safe.\n"
     ]
    }
   ],
   "source": [
    "run_redis_cli(\"keys '*'\")"
   ]
  },
  {
   "cell_type": "markdown",
   "id": "c2c27bf2",
   "metadata": {},
   "source": [
    "We can see that with json serializer the output is stored in json format in redis:"
   ]
  },
  {
   "cell_type": "code",
   "execution_count": 61,
   "id": "252588f4",
   "metadata": {},
   "outputs": [
    {
     "name": "stdout",
     "output_type": "stream",
     "text": [
      "redis-cli 8.0.0\n",
      "Redis connection successful.\n",
      "result is  b'{\"id\": \"123\", \"detail\": false}\\n'\n"
     ]
    },
    {
     "name": "stderr",
     "output_type": "stream",
     "text": [
      "Warning: Using a password with '-a' or '-u' option on the command line interface may not be safe.\n"
     ]
    }
   ],
   "source": [
    "run_redis_cli(\"GET n2:get_user_data:123\")"
   ]
  },
  {
   "cell_type": "code",
   "execution_count": null,
   "id": "ac647d7a",
   "metadata": {},
   "outputs": [],
   "source": [
    "127.0.0.1:6379> GET n1:example6:1234\n",
    "\"{\\\"id\\\": \\\"1234\\\", \\\"detail\\\": false}\""
   ]
  },
  {
   "cell_type": "markdown",
   "id": "a38127d4",
   "metadata": {},
   "source": [
    "## Conclusion\n",
    "\n",
    "aioCache makes it easy to add async caching to your Python applications, with powerful features and Redis support out of the box. It is a great choice for modern web APIs and microservices that need scalable, non-blocking caching.\n",
    "\n",
    "For more details, visit the [aiocache documentation](https://aiocache.readthedocs.io/).\n",
    "\n",
    "The example code for this guide can be found at:\n",
    "- GitHub repository: [neural-engineer/example-projects](https://github.com/neural-engineer/example-projects)\n",
    "- File path: `/redis-persistance/redis-cache.md`"
   ]
  }
 ],
 "metadata": {
  "kernelspec": {
   "display_name": "Python 3",
   "language": "python",
   "name": "python3"
  },
  "language_info": {
   "codemirror_mode": {
    "name": "ipython",
    "version": 3
   },
   "file_extension": ".py",
   "mimetype": "text/x-python",
   "name": "python",
   "nbconvert_exporter": "python",
   "pygments_lexer": "ipython3",
   "version": "3.9.6"
  }
 },
 "nbformat": 4,
 "nbformat_minor": 5
}
